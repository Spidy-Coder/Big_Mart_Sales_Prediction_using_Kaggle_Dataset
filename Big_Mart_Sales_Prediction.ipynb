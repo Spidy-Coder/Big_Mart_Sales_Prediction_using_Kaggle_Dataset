{
  "nbformat": 4,
  "nbformat_minor": 0,
  "metadata": {
    "colab": {
      "name": "Big Mart Sales Prediction.ipynb",
      "provenance": [],
      "collapsed_sections": []
    },
    "kernelspec": {
      "name": "python3",
      "display_name": "Python 3"
    }
  },
  "cells": [
    {
      "cell_type": "markdown",
      "metadata": {
        "id": "C4f-KP3Gwz0W"
      },
      "source": [
        "## Import Basic Libraries"
      ]
    },
    {
      "cell_type": "code",
      "metadata": {
        "id": "Sfq-UZYpwj6O"
      },
      "source": [
        "import numpy as np\r\n",
        "import pandas as pd\r\n",
        "import matplotlib.pyplot as plt\r\n",
        "import seaborn as sns\r\n",
        "import plotly.express as px"
      ],
      "execution_count": 3,
      "outputs": []
    },
    {
      "cell_type": "markdown",
      "metadata": {
        "id": "-CWmEnLUxD_S"
      },
      "source": [
        "## Import dataset"
      ]
    },
    {
      "cell_type": "code",
      "metadata": {
        "id": "quHmSIAExCqZ"
      },
      "source": [
        "train = pd.read_csv(\"Train.csv\")\r\n",
        "test = pd.read_csv(\"Test.csv\")"
      ],
      "execution_count": 4,
      "outputs": []
    },
    {
      "cell_type": "markdown",
      "metadata": {
        "id": "qUO5hu_UxYdG"
      },
      "source": [
        "## Data wrangling\r\n",
        "### Handling missing values"
      ]
    },
    {
      "cell_type": "code",
      "metadata": {
        "colab": {
          "base_uri": "https://localhost:8080/",
          "height": 304
        },
        "id": "9AO7Z_vvxXfP",
        "outputId": "297e3828-9fff-49ab-aa0a-23aa7fc56d51"
      },
      "source": [
        "train.head()"
      ],
      "execution_count": 5,
      "outputs": [
        {
          "output_type": "execute_result",
          "data": {
            "text/html": [
              "<div>\n",
              "<style scoped>\n",
              "    .dataframe tbody tr th:only-of-type {\n",
              "        vertical-align: middle;\n",
              "    }\n",
              "\n",
              "    .dataframe tbody tr th {\n",
              "        vertical-align: top;\n",
              "    }\n",
              "\n",
              "    .dataframe thead th {\n",
              "        text-align: right;\n",
              "    }\n",
              "</style>\n",
              "<table border=\"1\" class=\"dataframe\">\n",
              "  <thead>\n",
              "    <tr style=\"text-align: right;\">\n",
              "      <th></th>\n",
              "      <th>Item_Identifier</th>\n",
              "      <th>Item_Weight</th>\n",
              "      <th>Item_Fat_Content</th>\n",
              "      <th>Item_Visibility</th>\n",
              "      <th>Item_Type</th>\n",
              "      <th>Item_MRP</th>\n",
              "      <th>Outlet_Identifier</th>\n",
              "      <th>Outlet_Establishment_Year</th>\n",
              "      <th>Outlet_Size</th>\n",
              "      <th>Outlet_Location_Type</th>\n",
              "      <th>Outlet_Type</th>\n",
              "      <th>Item_Outlet_Sales</th>\n",
              "    </tr>\n",
              "  </thead>\n",
              "  <tbody>\n",
              "    <tr>\n",
              "      <th>0</th>\n",
              "      <td>FDA15</td>\n",
              "      <td>9.30</td>\n",
              "      <td>Low Fat</td>\n",
              "      <td>0.016047</td>\n",
              "      <td>Dairy</td>\n",
              "      <td>249.8092</td>\n",
              "      <td>OUT049</td>\n",
              "      <td>1999</td>\n",
              "      <td>Medium</td>\n",
              "      <td>Tier 1</td>\n",
              "      <td>Supermarket Type1</td>\n",
              "      <td>3735.1380</td>\n",
              "    </tr>\n",
              "    <tr>\n",
              "      <th>1</th>\n",
              "      <td>DRC01</td>\n",
              "      <td>5.92</td>\n",
              "      <td>Regular</td>\n",
              "      <td>0.019278</td>\n",
              "      <td>Soft Drinks</td>\n",
              "      <td>48.2692</td>\n",
              "      <td>OUT018</td>\n",
              "      <td>2009</td>\n",
              "      <td>Medium</td>\n",
              "      <td>Tier 3</td>\n",
              "      <td>Supermarket Type2</td>\n",
              "      <td>443.4228</td>\n",
              "    </tr>\n",
              "    <tr>\n",
              "      <th>2</th>\n",
              "      <td>FDN15</td>\n",
              "      <td>17.50</td>\n",
              "      <td>Low Fat</td>\n",
              "      <td>0.016760</td>\n",
              "      <td>Meat</td>\n",
              "      <td>141.6180</td>\n",
              "      <td>OUT049</td>\n",
              "      <td>1999</td>\n",
              "      <td>Medium</td>\n",
              "      <td>Tier 1</td>\n",
              "      <td>Supermarket Type1</td>\n",
              "      <td>2097.2700</td>\n",
              "    </tr>\n",
              "    <tr>\n",
              "      <th>3</th>\n",
              "      <td>FDX07</td>\n",
              "      <td>19.20</td>\n",
              "      <td>Regular</td>\n",
              "      <td>0.000000</td>\n",
              "      <td>Fruits and Vegetables</td>\n",
              "      <td>182.0950</td>\n",
              "      <td>OUT010</td>\n",
              "      <td>1998</td>\n",
              "      <td>NaN</td>\n",
              "      <td>Tier 3</td>\n",
              "      <td>Grocery Store</td>\n",
              "      <td>732.3800</td>\n",
              "    </tr>\n",
              "    <tr>\n",
              "      <th>4</th>\n",
              "      <td>NCD19</td>\n",
              "      <td>8.93</td>\n",
              "      <td>Low Fat</td>\n",
              "      <td>0.000000</td>\n",
              "      <td>Household</td>\n",
              "      <td>53.8614</td>\n",
              "      <td>OUT013</td>\n",
              "      <td>1987</td>\n",
              "      <td>High</td>\n",
              "      <td>Tier 3</td>\n",
              "      <td>Supermarket Type1</td>\n",
              "      <td>994.7052</td>\n",
              "    </tr>\n",
              "  </tbody>\n",
              "</table>\n",
              "</div>"
            ],
            "text/plain": [
              "  Item_Identifier  Item_Weight  ...        Outlet_Type  Item_Outlet_Sales\n",
              "0           FDA15         9.30  ...  Supermarket Type1          3735.1380\n",
              "1           DRC01         5.92  ...  Supermarket Type2           443.4228\n",
              "2           FDN15        17.50  ...  Supermarket Type1          2097.2700\n",
              "3           FDX07        19.20  ...      Grocery Store           732.3800\n",
              "4           NCD19         8.93  ...  Supermarket Type1           994.7052\n",
              "\n",
              "[5 rows x 12 columns]"
            ]
          },
          "metadata": {
            "tags": []
          },
          "execution_count": 5
        }
      ]
    },
    {
      "cell_type": "code",
      "metadata": {
        "colab": {
          "base_uri": "https://localhost:8080/",
          "height": 304
        },
        "id": "CVwDHjgkxhLL",
        "outputId": "24f79dd0-1a4c-413d-df0e-ff934eddff57"
      },
      "source": [
        "test.head()"
      ],
      "execution_count": 6,
      "outputs": [
        {
          "output_type": "execute_result",
          "data": {
            "text/html": [
              "<div>\n",
              "<style scoped>\n",
              "    .dataframe tbody tr th:only-of-type {\n",
              "        vertical-align: middle;\n",
              "    }\n",
              "\n",
              "    .dataframe tbody tr th {\n",
              "        vertical-align: top;\n",
              "    }\n",
              "\n",
              "    .dataframe thead th {\n",
              "        text-align: right;\n",
              "    }\n",
              "</style>\n",
              "<table border=\"1\" class=\"dataframe\">\n",
              "  <thead>\n",
              "    <tr style=\"text-align: right;\">\n",
              "      <th></th>\n",
              "      <th>Item_Identifier</th>\n",
              "      <th>Item_Weight</th>\n",
              "      <th>Item_Fat_Content</th>\n",
              "      <th>Item_Visibility</th>\n",
              "      <th>Item_Type</th>\n",
              "      <th>Item_MRP</th>\n",
              "      <th>Outlet_Identifier</th>\n",
              "      <th>Outlet_Establishment_Year</th>\n",
              "      <th>Outlet_Size</th>\n",
              "      <th>Outlet_Location_Type</th>\n",
              "      <th>Outlet_Type</th>\n",
              "    </tr>\n",
              "  </thead>\n",
              "  <tbody>\n",
              "    <tr>\n",
              "      <th>0</th>\n",
              "      <td>FDW58</td>\n",
              "      <td>20.750</td>\n",
              "      <td>Low Fat</td>\n",
              "      <td>0.007565</td>\n",
              "      <td>Snack Foods</td>\n",
              "      <td>107.8622</td>\n",
              "      <td>OUT049</td>\n",
              "      <td>1999</td>\n",
              "      <td>Medium</td>\n",
              "      <td>Tier 1</td>\n",
              "      <td>Supermarket Type1</td>\n",
              "    </tr>\n",
              "    <tr>\n",
              "      <th>1</th>\n",
              "      <td>FDW14</td>\n",
              "      <td>8.300</td>\n",
              "      <td>reg</td>\n",
              "      <td>0.038428</td>\n",
              "      <td>Dairy</td>\n",
              "      <td>87.3198</td>\n",
              "      <td>OUT017</td>\n",
              "      <td>2007</td>\n",
              "      <td>NaN</td>\n",
              "      <td>Tier 2</td>\n",
              "      <td>Supermarket Type1</td>\n",
              "    </tr>\n",
              "    <tr>\n",
              "      <th>2</th>\n",
              "      <td>NCN55</td>\n",
              "      <td>14.600</td>\n",
              "      <td>Low Fat</td>\n",
              "      <td>0.099575</td>\n",
              "      <td>Others</td>\n",
              "      <td>241.7538</td>\n",
              "      <td>OUT010</td>\n",
              "      <td>1998</td>\n",
              "      <td>NaN</td>\n",
              "      <td>Tier 3</td>\n",
              "      <td>Grocery Store</td>\n",
              "    </tr>\n",
              "    <tr>\n",
              "      <th>3</th>\n",
              "      <td>FDQ58</td>\n",
              "      <td>7.315</td>\n",
              "      <td>Low Fat</td>\n",
              "      <td>0.015388</td>\n",
              "      <td>Snack Foods</td>\n",
              "      <td>155.0340</td>\n",
              "      <td>OUT017</td>\n",
              "      <td>2007</td>\n",
              "      <td>NaN</td>\n",
              "      <td>Tier 2</td>\n",
              "      <td>Supermarket Type1</td>\n",
              "    </tr>\n",
              "    <tr>\n",
              "      <th>4</th>\n",
              "      <td>FDY38</td>\n",
              "      <td>NaN</td>\n",
              "      <td>Regular</td>\n",
              "      <td>0.118599</td>\n",
              "      <td>Dairy</td>\n",
              "      <td>234.2300</td>\n",
              "      <td>OUT027</td>\n",
              "      <td>1985</td>\n",
              "      <td>Medium</td>\n",
              "      <td>Tier 3</td>\n",
              "      <td>Supermarket Type3</td>\n",
              "    </tr>\n",
              "  </tbody>\n",
              "</table>\n",
              "</div>"
            ],
            "text/plain": [
              "  Item_Identifier  Item_Weight  ... Outlet_Location_Type        Outlet_Type\n",
              "0           FDW58       20.750  ...               Tier 1  Supermarket Type1\n",
              "1           FDW14        8.300  ...               Tier 2  Supermarket Type1\n",
              "2           NCN55       14.600  ...               Tier 3      Grocery Store\n",
              "3           FDQ58        7.315  ...               Tier 2  Supermarket Type1\n",
              "4           FDY38          NaN  ...               Tier 3  Supermarket Type3\n",
              "\n",
              "[5 rows x 11 columns]"
            ]
          },
          "metadata": {
            "tags": []
          },
          "execution_count": 6
        }
      ]
    },
    {
      "cell_type": "code",
      "metadata": {
        "colab": {
          "base_uri": "https://localhost:8080/"
        },
        "id": "tb8JVukWxiaN",
        "outputId": "f0c5b31c-3d2a-42bf-a377-413d9a1fa1b4"
      },
      "source": [
        "print(train.shape)\r\n",
        "print(test.shape)"
      ],
      "execution_count": 7,
      "outputs": [
        {
          "output_type": "stream",
          "text": [
            "(8523, 12)\n",
            "(5681, 11)\n"
          ],
          "name": "stdout"
        }
      ]
    },
    {
      "cell_type": "code",
      "metadata": {
        "colab": {
          "base_uri": "https://localhost:8080/"
        },
        "id": "z4lqmwWdxq6r",
        "outputId": "002c61eb-a3d5-4cc1-f76a-204a2e1d3547"
      },
      "source": [
        "train.isna().sum()   #no.of missing values in training set"
      ],
      "execution_count": 8,
      "outputs": [
        {
          "output_type": "execute_result",
          "data": {
            "text/plain": [
              "Item_Identifier                 0\n",
              "Item_Weight                  1463\n",
              "Item_Fat_Content                0\n",
              "Item_Visibility                 0\n",
              "Item_Type                       0\n",
              "Item_MRP                        0\n",
              "Outlet_Identifier               0\n",
              "Outlet_Establishment_Year       0\n",
              "Outlet_Size                  2410\n",
              "Outlet_Location_Type            0\n",
              "Outlet_Type                     0\n",
              "Item_Outlet_Sales               0\n",
              "dtype: int64"
            ]
          },
          "metadata": {
            "tags": []
          },
          "execution_count": 8
        }
      ]
    },
    {
      "cell_type": "code",
      "metadata": {
        "colab": {
          "base_uri": "https://localhost:8080/"
        },
        "id": "wp4lh5Wvxvgj",
        "outputId": "3c0309ad-72e0-4058-b73e-e7d7f35cce97"
      },
      "source": [
        "test.isna().sum()   #no.of missing values in test set"
      ],
      "execution_count": 9,
      "outputs": [
        {
          "output_type": "execute_result",
          "data": {
            "text/plain": [
              "Item_Identifier                 0\n",
              "Item_Weight                   976\n",
              "Item_Fat_Content                0\n",
              "Item_Visibility                 0\n",
              "Item_Type                       0\n",
              "Item_MRP                        0\n",
              "Outlet_Identifier               0\n",
              "Outlet_Establishment_Year       0\n",
              "Outlet_Size                  1606\n",
              "Outlet_Location_Type            0\n",
              "Outlet_Type                     0\n",
              "dtype: int64"
            ]
          },
          "metadata": {
            "tags": []
          },
          "execution_count": 9
        }
      ]
    },
    {
      "cell_type": "code",
      "metadata": {
        "id": "IicTwek6x6ez"
      },
      "source": [
        "#lets remove missing values in both train and test datasets\r\n",
        "\r\n",
        "re_map = {\"Small\":1,\"Medium\":2,\"High\":3}\r\n",
        "train[\"Outlet_Size\"] = train[\"Outlet_Size\"].map(re_map)\r\n",
        "train[\"Item_Weight\"] = train[\"Item_Weight\"].fillna(train[\"Item_Weight\"].mean())\r\n",
        "train[\"Outlet_Size\"] = train[\"Outlet_Size\"].fillna(train[\"Outlet_Size\"].median())"
      ],
      "execution_count": 10,
      "outputs": []
    },
    {
      "cell_type": "code",
      "metadata": {
        "colab": {
          "base_uri": "https://localhost:8080/"
        },
        "id": "9BU90uXsypkz",
        "outputId": "58c2f76f-a8dc-4a2b-82ce-a08ddca3f083"
      },
      "source": [
        "train.isna().sum()"
      ],
      "execution_count": 11,
      "outputs": [
        {
          "output_type": "execute_result",
          "data": {
            "text/plain": [
              "Item_Identifier              0\n",
              "Item_Weight                  0\n",
              "Item_Fat_Content             0\n",
              "Item_Visibility              0\n",
              "Item_Type                    0\n",
              "Item_MRP                     0\n",
              "Outlet_Identifier            0\n",
              "Outlet_Establishment_Year    0\n",
              "Outlet_Size                  0\n",
              "Outlet_Location_Type         0\n",
              "Outlet_Type                  0\n",
              "Item_Outlet_Sales            0\n",
              "dtype: int64"
            ]
          },
          "metadata": {
            "tags": []
          },
          "execution_count": 11
        }
      ]
    },
    {
      "cell_type": "code",
      "metadata": {
        "id": "aq-5rYAqysKr"
      },
      "source": [
        "test[\"Outlet_Size\"] = test[\"Outlet_Size\"].map(re_map)\r\n",
        "test[\"Item_Weight\"] = test[\"Item_Weight\"].fillna(test[\"Item_Weight\"].mean())\r\n",
        "test[\"Outlet_Size\"] = test[\"Outlet_Size\"].fillna(test[\"Outlet_Size\"].median())"
      ],
      "execution_count": 12,
      "outputs": []
    },
    {
      "cell_type": "code",
      "metadata": {
        "colab": {
          "base_uri": "https://localhost:8080/"
        },
        "id": "YrwGFWSOy9xb",
        "outputId": "76d1b6df-ec57-4818-cab9-23ae1088d297"
      },
      "source": [
        "test.isna().sum()"
      ],
      "execution_count": 13,
      "outputs": [
        {
          "output_type": "execute_result",
          "data": {
            "text/plain": [
              "Item_Identifier              0\n",
              "Item_Weight                  0\n",
              "Item_Fat_Content             0\n",
              "Item_Visibility              0\n",
              "Item_Type                    0\n",
              "Item_MRP                     0\n",
              "Outlet_Identifier            0\n",
              "Outlet_Establishment_Year    0\n",
              "Outlet_Size                  0\n",
              "Outlet_Location_Type         0\n",
              "Outlet_Type                  0\n",
              "dtype: int64"
            ]
          },
          "metadata": {
            "tags": []
          },
          "execution_count": 13
        }
      ]
    },
    {
      "cell_type": "markdown",
      "metadata": {
        "id": "IjZAdk6E0JG4"
      },
      "source": [
        "## Exploratory Data Analysis (EDA)"
      ]
    },
    {
      "cell_type": "code",
      "metadata": {
        "colab": {
          "base_uri": "https://localhost:8080/",
          "height": 383
        },
        "id": "NEBZrMlvy_9b",
        "outputId": "6b59438d-4eec-4d4d-9ddd-26fc3c339f99"
      },
      "source": [
        "#Let us explore the Item_Outlet_Sales from training dataset\r\n",
        "\r\n",
        "plt.figure(figsize = (13,4))\r\n",
        "sns.distplot(train[\"Item_Outlet_Sales\"], bins = 20)"
      ],
      "execution_count": 14,
      "outputs": [
        {
          "output_type": "stream",
          "text": [
            "/usr/local/lib/python3.6/dist-packages/seaborn/distributions.py:2551: FutureWarning:\n",
            "\n",
            "`distplot` is a deprecated function and will be removed in a future version. Please adapt your code to use either `displot` (a figure-level function with similar flexibility) or `histplot` (an axes-level function for histograms).\n",
            "\n"
          ],
          "name": "stderr"
        },
        {
          "output_type": "execute_result",
          "data": {
            "text/plain": [
              "<matplotlib.axes._subplots.AxesSubplot at 0x7f4e13355a20>"
            ]
          },
          "metadata": {
            "tags": []
          },
          "execution_count": 14
        },
        {
          "output_type": "display_data",
          "data": {
            "image/png": "[encoded data removed]",
            "text/plain": [
              "<Figure size 936x288 with 1 Axes>"
            ]
          },
          "metadata": {
            "tags": [],
            "needs_background": "light"
          }
        }
      ]
    },
    {
      "cell_type": "code",
      "metadata": {
        "colab": {
          "base_uri": "https://localhost:8080/",
          "height": 542
        },
        "id": "ShbZ_2tJ1M7H",
        "outputId": "f6ec5ace-f26a-465d-8d8d-b5e4e175218d"
      },
      "source": [
        "#Let us explore the percentage items in out Item_Type\r\n",
        "\r\n",
        "fig = px.pie(train[\"Item_Type\"],names = \"Item_Type\",title=\"Item Types in Big mart dataset\")\r\n",
        "fig.show()"
      ],
      "execution_count": 15,
      "outputs": [
        {
          "output_type": "display_data",
          "data": {
            "text/html": [
              "<html>\n",
              "<head><meta charset=\"utf-8\" /></head>\n",
              "<body>\n",
              "    <div>\n",
              "            <script src=\"https://cdnjs.cloudflare.com/ajax/libs/mathjax/2.7.5/MathJax.js?config=TeX-AMS-MML_SVG\"></script><script type=\"text/javascript\">if (window.MathJax) {MathJax.Hub.Config({SVG: {font: \"STIX-Web\"}});}</script>\n",
              "                <script type=\"text/javascript\">window.PlotlyConfig = {MathJaxConfig: 'local'};</script>\n",
              "        <script src=\"https://cdn.plot.ly/plotly-latest.min.js\"></script>    \n",
              "            <div id=\"2bb6bd81-63a0-4d2a-ab80-338bff6e189b\" class=\"plotly-graph-div\" style=\"height:525px; width:100%;\"></div>\n",
              "            <script type=\"text/javascript\">\n",
              "                \n",
              "                    window.PLOTLYENV=window.PLOTLYENV || {};\n",
              "                    \n",
              "                if (document.getElementById(\"2bb6bd81-63a0-4d2a-ab80-338bff6e189b\")) {\n",
              "                    Plotly.newPlot(\n",
              "                        '2bb6bd81-63a0-4d2a-ab80-338bff6e189b',\n",
              "                        [{\"domain\": {\"x\": [0.0, 1.0], \"y\": [0.0, 1.0]}, \"hoverlabel\": {\"namelength\": 0}, \"hovertemplate\": \"Item_Type=%{label}\", \"labels\": [\"Dairy\", \"Soft Drinks\", \"Meat\", \"Fruits and Vegetables\", \"Household\", \"Baking Goods\", \"Snack Foods\", \"Snack Foods\", \"Frozen Foods\", \"Frozen Foods\", \"Fruits and Vegetables\", \"Dairy\", \"Fruits and Vegetables\", \"Snack Foods\", \"Fruits and Vegetables\", \"Breakfast\", \"Health and Hygiene\", \"Breakfast\", \"Hard Drinks\", \"Dairy\", \"Snack Foods\", \"Baking Goods\", \"Household\", \"Baking Goods\", \"Frozen Foods\", \"Household\", \"Snack Foods\", \"Hard Drinks\", \"Dairy\", \"Canned\", \"Dairy\", \"Health and Hygiene\", \"Snack Foods\", \"Breads\", \"Soft Drinks\", \"Health and Hygiene\", \"Fruits and Vegetables\", \"Soft Drinks\", \"Snack Foods\", \"Snack Foods\", \"Dairy\", \"Meat\", \"Snack Foods\", \"Canned\", \"Canned\", \"Dairy\", \"Health and Hygiene\", \"Canned\", \"Baking Goods\", \"Dairy\", \"Health and Hygiene\", \"Frozen Foods\", \"Canned\", \"Fruits and Vegetables\", \"Household\", \"Snack Foods\", \"Household\", \"Hard Drinks\", \"Snack Foods\", \"Canned\", \"Fruits and Vegetables\", \"Meat\", \"Fruits and Vegetables\", \"Frozen Foods\", \"Snack Foods\", \"Snack Foods\", \"Meat\", \"Dairy\", \"Soft Drinks\", \"Health and Hygiene\", \"Snack Foods\", \"Baking Goods\", \"Starchy Foods\", \"Canned\", \"Household\", \"Frozen Foods\", \"Snack Foods\", \"Baking Goods\", \"Frozen Foods\", \"Canned\", \"Snack Foods\", \"Frozen Foods\", \"Snack Foods\", \"Household\", \"Baking Goods\", \"Fruits and Vegetables\", \"Fruits and Vegetables\", \"Breakfast\", \"Snack Foods\", \"Meat\", \"Fruits and Vegetables\", \"Dairy\", \"Soft Drinks\", \"Fruits and Vegetables\", \"Health and Hygiene\", \"Frozen Foods\", \"Frozen Foods\", \"Fruits and Vegetables\", \"Household\", \"Fruits and Vegetables\", \"Frozen Foods\", \"Snack Foods\", \"Snack Foods\", \"Soft Drinks\", \"Snack Foods\", \"Canned\", \"Baking Goods\", \"Baking Goods\", \"Soft Drinks\", \"Soft Drinks\", \"Dairy\", \"Frozen Foods\", \"Meat\", \"Snack Foods\", \"Breads\", \"Frozen Foods\", \"Frozen Foods\", \"Snack Foods\", \"Soft Drinks\", \"Snack Foods\", \"Household\", \"Soft Drinks\", \"Canned\", \"Canned\", \"Breads\", \"Frozen Foods\", \"Soft Drinks\", \"Dairy\", \"Hard Drinks\", \"Household\", \"Canned\", \"Household\", \"Health and Hygiene\", \"Frozen Foods\", \"Canned\", \"Household\", \"Starchy Foods\", \"Dairy\", \"Fruits and Vegetables\", \"Others\", \"Household\", \"Household\", \"Others\", \"Household\", \"Frozen Foods\", \"Frozen Foods\", \"Starchy Foods\", \"Health and Hygiene\", \"Snack Foods\", \"Household\", \"Soft Drinks\", \"Frozen Foods\", \"Frozen Foods\", \"Soft Drinks\", \"Fruits and Vegetables\", \"Household\", \"Baking Goods\", \"Breakfast\", \"Soft Drinks\", \"Frozen Foods\", \"Snack Foods\", \"Fruits and Vegetables\", \"Canned\", \"Soft Drinks\", \"Meat\", \"Soft Drinks\", \"Canned\", \"Canned\", \"Household\", \"Breads\", \"Others\", \"Fruits and Vegetables\", \"Meat\", \"Fruits and Vegetables\", \"Fruits and Vegetables\", \"Breads\", \"Starchy Foods\", \"Health and Hygiene\", \"Soft Drinks\", \"Baking Goods\", \"Frozen Foods\", \"Meat\", \"Health and Hygiene\", \"Dairy\", \"Baking Goods\", \"Snack Foods\", \"Fruits and Vegetables\", \"Health and Hygiene\", \"Frozen Foods\", \"Household\", \"Meat\", \"Snack Foods\", \"Fruits and Vegetables\", \"Fruits and Vegetables\", \"Household\", \"Fruits and Vegetables\", \"Frozen Foods\", \"Others\", \"Dairy\", \"Canned\", \"Health and Hygiene\", \"Baking Goods\", \"Snack Foods\", \"Baking Goods\", \"Meat\", \"Baking Goods\", \"Frozen Foods\", \"Soft Drinks\", \"Snack Foods\", \"Frozen Foods\", \"Soft Drinks\", \"Dairy\", \"Snack Foods\", \"Household\", \"Household\", \"Snack Foods\", \"Fruits and Vegetables\", \"Frozen Foods\", \"Meat\", \"Meat\", \"Baking Goods\", \"Baking Goods\", \"Frozen Foods\", \"Canned\", \"Soft Drinks\", \"Others\", \"Fruits and Vegetables\", \"Dairy\", \"Canned\", \"Canned\", \"Household\", \"Seafood\", \"Fruits and Vegetables\", \"Canned\", \"Household\", \"Hard Drinks\", \"Snack Foods\", \"Starchy Foods\", \"Snack Foods\", \"Health and Hygiene\", \"Household\", \"Household\", \"Health and Hygiene\", \"Fruits and Vegetables\", \"Dairy\", \"Snack Foods\", \"Canned\", \"Fruits and Vegetables\", \"Meat\", \"Frozen Foods\", \"Dairy\", \"Fruits and Vegetables\", \"Fruits and Vegetables\", \"Snack Foods\", \"Fruits and Vegetables\", \"Frozen Foods\", \"Canned\", \"Health and Hygiene\", \"Meat\", \"Baking Goods\", \"Meat\", \"Soft Drinks\", \"Frozen Foods\", \"Dairy\", \"Breakfast\", \"Household\", \"Frozen Foods\", \"Baking Goods\", \"Starchy Foods\", \"Frozen Foods\", \"Frozen Foods\", \"Dairy\", \"Fruits and Vegetables\", \"Dairy\", \"Snack Foods\", \"Meat\", \"Fruits and Vegetables\", \"Meat\", \"Snack Foods\", \"Snack Foods\", \"Fruits and Vegetables\", \"Household\", \"Household\", \"Soft Drinks\", \"Fruits and Vegetables\", \"Meat\", \"Fruits and Vegetables\", \"Household\", \"Fruits and Vegetables\", \"Household\", \"Soft Drinks\", \"Breakfast\", \"Fruits and Vegetables\", \"Dairy\", \"Baking Goods\", \"Baking Goods\", \"Baking Goods\", \"Others\", \"Fruits and Vegetables\", \"Baking Goods\", \"Canned\", \"Fruits and Vegetables\", \"Household\", \"Breads\", \"Soft Drinks\", \"Hard Drinks\", \"Fruits and Vegetables\", \"Frozen Foods\", \"Baking Goods\", \"Fruits and Vegetables\", \"Dairy\", \"Canned\", \"Snack Foods\", \"Canned\", \"Frozen Foods\", \"Snack Foods\", \"Snack Foods\", \"Fruits and Vegetables\", \"Frozen Foods\", \"Fruits and Vegetables\", \"Hard Drinks\", \"Baking Goods\", \"Soft Drinks\", \"Dairy\", \"Fruits and Vegetables\", \"Others\", \"Meat\", \"Breads\", \"Health and Hygiene\", \"Breads\", \"Dairy\", \"Baking Goods\", \"Fruits and Vegetables\", \"Snack Foods\", \"Frozen Foods\", \"Breakfast\", \"Others\", \"Fruits and Vegetables\", \"Frozen Foods\", \"Breakfast\", \"Canned\", \"Baking Goods\", \"Household\", \"Household\", \"Snack Foods\", \"Soft Drinks\", \"Meat\", \"Household\", \"Household\", \"Canned\", \"Breads\", \"Breads\", \"Meat\", \"Soft Drinks\", \"Snack Foods\", \"Canned\", \"Dairy\", \"Meat\", \"Frozen Foods\", \"Fruits and Vegetables\", \"Hard Drinks\", \"Health and Hygiene\", \"Baking Goods\", \"Snack Foods\", \"Dairy\", \"Fruits and Vegetables\", \"Fruits and Vegetables\", \"Meat\", \"Dairy\", \"Fruits and Vegetables\", \"Fruits and Vegetables\", \"Health and Hygiene\", \"Household\", \"Snack Foods\", \"Meat\", \"Canned\", \"Dairy\", \"Fruits and Vegetables\", \"Dairy\", \"Frozen Foods\", \"Fruits and Vegetables\", \"Fruits and Vegetables\", \"Meat\", \"Frozen Foods\", \"Fruits and Vegetables\", \"Snack Foods\", \"Canned\", \"Snack Foods\", \"Snack Foods\", \"Soft Drinks\", \"Frozen Foods\", \"Fruits and Vegetables\", \"Fruits and Vegetables\", \"Dairy\", \"Household\", \"Fruits and Vegetables\", \"Snack Foods\", \"Starchy Foods\", \"Snack Foods\", \"Household\", \"Others\", \"Health and Hygiene\", \"Breads\", \"Health and Hygiene\", \"Snack Foods\", \"Baking Goods\", \"Snack Foods\", \"Baking Goods\", \"Dairy\", \"Hard Drinks\", \"Baking Goods\", \"Household\", \"Dairy\", \"Meat\", \"Household\", \"Dairy\", \"Starchy Foods\", \"Breads\", \"Fruits and Vegetables\", \"Household\", \"Frozen Foods\", \"Frozen Foods\", \"Fruits and Vegetables\", \"Dairy\", \"Health and Hygiene\", \"Fruits and Vegetables\", \"Meat\", \"Fruits and Vegetables\", \"Fruits and Vegetables\", \"Dairy\", \"Baking Goods\", \"Canned\", \"Snack Foods\", \"Dairy\", \"Meat\", \"Soft Drinks\", \"Health and Hygiene\", \"Frozen Foods\", \"Dairy\", \"Starchy Foods\", \"Starchy Foods\", \"Fruits and Vegetables\", \"Breads\", \"Household\", \"Frozen Foods\", \"Fruits and Vegetables\", \"Snack Foods\", \"Dairy\", \"Health and Hygiene\", \"Household\", \"Baking Goods\", \"Frozen Foods\", \"Canned\", \"Frozen Foods\", \"Snack Foods\", \"Household\", \"Dairy\", \"Canned\", \"Soft Drinks\", \"Health and Hygiene\", \"Fruits and Vegetables\", \"Canned\", \"Dairy\", \"Household\", \"Dairy\", \"Frozen Foods\", \"Household\", \"Frozen Foods\", \"Baking Goods\", \"Frozen Foods\", \"Household\", \"Baking Goods\", \"Fruits and Vegetables\", \"Snack Foods\", \"Canned\", \"Frozen Foods\", \"Household\", \"Meat\", \"Baking Goods\", \"Household\", \"Snack Foods\", \"Hard Drinks\", \"Frozen Foods\", \"Canned\", \"Snack Foods\", \"Baking Goods\", \"Fruits and Vegetables\", \"Dairy\", \"Fruits and Vegetables\", \"Frozen Foods\", \"Health and Hygiene\", \"Breads\", \"Household\", \"Snack Foods\", \"Fruits and Vegetables\", \"Snack Foods\", \"Frozen Foods\", \"Fruits and Vegetables\", \"Frozen Foods\", \"Household\", \"Household\", \"Frozen Foods\", \"Dairy\", \"Dairy\", \"Frozen Foods\", \"Baking Goods\", \"Fruits and Vegetables\", \"Health and Hygiene\", \"Others\", \"Soft Drinks\", \"Breakfast\", \"Meat\", \"Frozen Foods\", \"Fruits and Vegetables\", \"Baking Goods\", \"Hard Drinks\", \"Household\", \"Soft Drinks\", \"Baking Goods\", \"Household\", \"Frozen Foods\", \"Dairy\", \"Household\", \"Fruits and Vegetables\", \"Household\", \"Fruits and Vegetables\", \"Health and Hygiene\", \"Household\", \"Fruits and Vegetables\", \"Frozen Foods\", \"Frozen Foods\", \"Others\", \"Canned\", \"Dairy\", \"Frozen Foods\", \"Fruits and Vegetables\", \"Frozen Foods\", \"Fruits and Vegetables\", \"Frozen Foods\", \"Others\", \"Fruits and Vegetables\", \"Baking Goods\", \"Canned\", \"Frozen Foods\", \"Soft Drinks\", \"Canned\", \"Dairy\", \"Frozen Foods\", \"Health and Hygiene\", \"Fruits and Vegetables\", \"Snack Foods\", \"Canned\", \"Dairy\", \"Meat\", \"Fruits and Vegetables\", \"Canned\", \"Others\", \"Snack Foods\", \"Dairy\", \"Fruits and Vegetables\", \"Soft Drinks\", \"Dairy\", \"Fruits and Vegetables\", \"Snack Foods\", \"Snack Foods\", \"Hard Drinks\", \"Snack Foods\", \"Breakfast\", \"Dairy\", \"Fruits and Vegetables\", \"Snack Foods\", \"Health and Hygiene\", \"Snack Foods\", \"Frozen Foods\", \"Hard Drinks\", \"Snack Foods\", \"Soft Drinks\", \"Soft Drinks\", \"Fruits and Vegetables\", \"Household\", \"Meat\", \"Breakfast\", \"Frozen Foods\", \"Fruits and Vegetables\", \"Snack Foods\", \"Snack Foods\", \"Snack Foods\", \"Others\", \"Fruits and Vegetables\", \"Health and Hygiene\", \"Household\", \"Canned\", \"Household\", \"Baking Goods\", \"Household\", \"Fruits and Vegetables\", \"Frozen Foods\", \"Household\", \"Snack Foods\", \"Soft Drinks\", \"Baking Goods\", \"Snack Foods\", \"Meat\", \"Frozen Foods\", \"Household\", \"Baking Goods\", \"Canned\", \"Snack Foods\", \"Household\", \"Canned\", \"Starchy Foods\", \"Snack Foods\", \"Health and Hygiene\", \"Snack Foods\", \"Starchy Foods\", \"Fruits and Vegetables\", \"Snack Foods\", \"Hard Drinks\", \"Dairy\", \"Fruits and Vegetables\", \"Canned\", \"Baking Goods\", \"Household\", \"Baking Goods\", \"Dairy\", \"Fruits and Vegetables\", \"Fruits and Vegetables\", \"Fruits and Vegetables\", \"Snack Foods\", \"Breakfast\", \"Soft Drinks\", \"Fruits and Vegetables\", \"Canned\", \"Frozen Foods\", \"Snack Foods\", \"Fruits and Vegetables\", \"Canned\", \"Fruits and Vegetables\", \"Snack Foods\", \"Dairy\", \"Snack Foods\", \"Meat\", \"Snack Foods\", \"Dairy\", \"Household\", \"Canned\", \"Household\", \"Soft Drinks\", \"Frozen Foods\", \"Snack Foods\", \"Fruits and Vegetables\", \"Fruits and Vegetables\", \"Canned\", \"Dairy\", \"Fruits and Vegetables\", \"Household\", \"Fruits and Vegetables\", \"Dairy\", \"Household\", \"Snack Foods\", \"Fruits and Vegetables\", \"Starchy Foods\", \"Fruits and Vegetables\", \"Canned\", \"Frozen Foods\", \"Household\", \"Fruits and Vegetables\", \"Breads\", \"Canned\", \"Meat\", \"Hard Drinks\", \"Meat\", \"Dairy\", \"Fruits and Vegetables\", \"Household\", \"Health and Hygiene\", \"Frozen Foods\", \"Health and Hygiene\", \"Fruits and Vegetables\", \"Dairy\", \"Fruits and Vegetables\", \"Snack Foods\", \"Canned\", \"Meat\", \"Fruits and Vegetables\", \"Snack Foods\", \"Meat\", \"Fruits and Vegetables\", \"Fruits and Vegetables\", \"Dairy\", \"Fruits and Vegetables\", \"Household\", \"Snack Foods\", \"Baking Goods\", \"Fruits and Vegetables\", \"Household\", \"Household\", \"Health and Hygiene\", \"Household\", \"Canned\", \"Soft Drinks\", \"Household\", \"Health and Hygiene\", \"Household\", \"Canned\", \"Canned\", \"Snack Foods\", \"Health and Hygiene\", \"Meat\", \"Baking Goods\", \"Household\", \"Household\", \"Dairy\", \"Seafood\", \"Dairy\", \"Dairy\", \"Seafood\", \"Others\", \"Fruits and Vegetables\", \"Health and Hygiene\", \"Frozen Foods\", \"Dairy\", \"Frozen Foods\", \"Frozen Foods\", \"Snack Foods\", \"Canned\", \"Dairy\", \"Frozen Foods\", \"Canned\", \"Snack Foods\", \"Dairy\", \"Meat\", \"Hard Drinks\", \"Breads\", \"Household\", \"Snack Foods\", \"Household\", \"Snack Foods\", \"Snack Foods\", \"Canned\", \"Dairy\", \"Dairy\", \"Meat\", \"Snack Foods\", \"Household\", \"Meat\", \"Hard Drinks\", \"Dairy\", \"Canned\", \"Canned\", \"Breads\", \"Fruits and Vegetables\", \"Fruits and Vegetables\", \"Dairy\", \"Soft Drinks\", \"Dairy\", \"Frozen Foods\", \"Canned\", \"Dairy\", \"Meat\", \"Snack Foods\", \"Fruits and Vegetables\", \"Meat\", \"Health and Hygiene\", \"Meat\", \"Fruits and Vegetables\", \"Frozen Foods\", \"Frozen Foods\", \"Fruits and Vegetables\", \"Others\", \"Canned\", \"Snack Foods\", \"Soft Drinks\", \"Dairy\", \"Baking Goods\", \"Frozen Foods\", \"Soft Drinks\", \"Canned\", \"Frozen Foods\", \"Fruits and Vegetables\", \"Household\", \"Snack Foods\", \"Snack Foods\", \"Snack Foods\", \"Snack Foods\", \"Fruits and Vegetables\", \"Snack Foods\", \"Meat\", \"Dairy\", \"Canned\", \"Household\", \"Canned\", \"Breads\", \"Health and Hygiene\", \"Breads\", \"Canned\", \"Fruits and Vegetables\", \"Fruits and Vegetables\", \"Breads\", \"Snack Foods\", \"Health and Hygiene\", \"Baking Goods\", \"Household\", \"Baking Goods\", \"Fruits and Vegetables\", \"Baking Goods\", \"Household\", \"Fruits and Vegetables\", \"Snack Foods\", \"Baking Goods\", \"Meat\", \"Snack Foods\", \"Breakfast\", \"Soft Drinks\", \"Household\", \"Hard Drinks\", \"Snack Foods\", \"Meat\", \"Others\", \"Snack Foods\", \"Hard Drinks\", \"Breads\", \"Fruits and Vegetables\", \"Household\", \"Frozen Foods\", \"Snack Foods\", \"Snack Foods\", \"Frozen Foods\", \"Starchy Foods\", \"Soft Drinks\", \"Health and Hygiene\", \"Dairy\", \"Baking Goods\", \"Soft Drinks\", \"Snack Foods\", \"Household\", \"Baking Goods\", \"Others\", \"Fruits and Vegetables\", \"Baking Goods\", \"Fruits and Vegetables\", \"Meat\", \"Dairy\", \"Health and Hygiene\", \"Canned\", \"Snack Foods\", \"Snack Foods\", \"Fruits and Vegetables\", \"Canned\", \"Fruits and Vegetables\", \"Household\", \"Dairy\", \"Canned\", \"Frozen Foods\", \"Canned\", \"Dairy\", \"Meat\", \"Fruits and Vegetables\", \"Hard Drinks\", \"Fruits and Vegetables\", \"Snack Foods\", \"Household\", \"Meat\", \"Dairy\", \"Snack Foods\", \"Canned\", \"Seafood\", \"Seafood\", \"Household\", \"Dairy\", \"Dairy\", \"Health and Hygiene\", \"Baking Goods\", \"Breads\", \"Snack Foods\", \"Frozen Foods\", \"Fruits and Vegetables\", \"Fruits and Vegetables\", \"Breads\", \"Soft Drinks\", \"Snack Foods\", \"Meat\", \"Health and Hygiene\", \"Frozen Foods\", \"Soft Drinks\", \"Breads\", \"Dairy\", \"Dairy\", \"Household\", \"Snack Foods\", \"Fruits and Vegetables\", \"Snack Foods\", \"Health and Hygiene\", \"Fruits and Vegetables\", \"Snack Foods\", \"Dairy\", \"Frozen Foods\", \"Fruits and Vegetables\", \"Meat\", \"Household\", \"Baking Goods\", \"Baking Goods\", \"Others\", \"Meat\", \"Health and Hygiene\", \"Frozen Foods\", \"Soft Drinks\", \"Health and Hygiene\", \"Dairy\", \"Household\", \"Household\", \"Fruits and Vegetables\", \"Baking Goods\", \"Soft Drinks\", \"Fruits and Vegetables\", \"Soft Drinks\", \"Canned\", \"Fruits and Vegetables\", \"Meat\", \"Baking Goods\", \"Breakfast\", \"Fruits and Vegetables\", \"Health and Hygiene\", \"Fruits and Vegetables\", \"Baking Goods\", \"Hard Drinks\", \"Baking Goods\", \"Frozen Foods\", \"Fruits and Vegetables\", \"Frozen Foods\", \"Meat\", \"Fruits and Vegetables\", \"Dairy\", \"Others\", \"Snack Foods\", \"Snack Foods\", \"Fruits and Vegetables\", \"Frozen Foods\", \"Canned\", \"Household\", \"Soft Drinks\", \"Fruits and Vegetables\", \"Meat\", \"Fruits and Vegetables\", \"Snack Foods\", \"Snack Foods\", \"Breads\", \"Frozen Foods\", \"Snack Foods\", \"Household\", \"Snack Foods\", \"Frozen Foods\", \"Breads\", \"Baking Goods\", \"Dairy\", \"Fruits and Vegetables\", \"Dairy\", \"Breakfast\", \"Breakfast\", \"Canned\", \"Household\", \"Fruits and Vegetables\", \"Others\", \"Starchy Foods\", \"Meat\", \"Snack Foods\", \"Hard Drinks\", \"Canned\", \"Health and Hygiene\", \"Snack Foods\", \"Snack Foods\", \"Dairy\", \"Snack Foods\", \"Others\", \"Fruits and Vegetables\", \"Fruits and Vegetables\", \"Snack Foods\", \"Household\", \"Breakfast\", \"Frozen Foods\", \"Snack Foods\", \"Baking Goods\", \"Fruits and Vegetables\", \"Canned\", \"Snack Foods\", \"Snack Foods\", \"Dairy\", \"Others\", \"Snack Foods\", \"Baking Goods\", \"Health and Hygiene\", \"Fruits and Vegetables\", \"Meat\", \"Others\", \"Hard Drinks\", \"Snack Foods\", \"Household\", \"Frozen Foods\", \"Dairy\", \"Household\", \"Fruits and Vegetables\", \"Fruits and Vegetables\", \"Snack Foods\", \"Household\", \"Dairy\", \"Canned\", \"Seafood\", \"Snack Foods\", \"Canned\", \"Dairy\", \"Canned\", \"Frozen Foods\", \"Snack Foods\", \"Breads\", \"Meat\", \"Fruits and Vegetables\", \"Canned\", \"Household\", \"Canned\", \"Frozen Foods\", \"Meat\", \"Fruits and Vegetables\", \"Household\", \"Frozen Foods\", \"Household\", \"Snack Foods\", \"Household\", \"Health and Hygiene\", \"Health and Hygiene\", \"Canned\", \"Canned\", \"Frozen Foods\", \"Snack Foods\", \"Canned\", \"Frozen Foods\", \"Breakfast\", \"Canned\", \"Frozen Foods\", \"Meat\", \"Household\", \"Breads\", \"Frozen Foods\", \"Household\", \"Hard Drinks\", \"Snack Foods\", \"Dairy\", \"Soft Drinks\", \"Hard Drinks\", \"Snack Foods\", \"Frozen Foods\", \"Frozen Foods\", \"Fruits and Vegetables\", \"Household\", \"Snack Foods\", \"Breads\", \"Snack Foods\", \"Dairy\", \"Frozen Foods\", \"Snack Foods\", \"Starchy Foods\", \"Fruits and Vegetables\", \"Hard Drinks\", \"Household\", \"Dairy\", \"Frozen Foods\", \"Health and Hygiene\", \"Fruits and Vegetables\", \"Fruits and Vegetables\", \"Frozen Foods\", \"Breakfast\", \"Health and Hygiene\", \"Household\", \"Dairy\", \"Others\", \"Baking Goods\", \"Baking Goods\", \"Canned\", \"Breads\", \"Fruits and Vegetables\", \"Household\", \"Starchy Foods\", \"Fruits and Vegetables\", \"Soft Drinks\", \"Dairy\", \"Soft Drinks\", \"Dairy\", \"Household\", \"Household\", \"Breakfast\", \"Household\", \"Frozen Foods\", \"Snack Foods\", \"Household\", \"Snack Foods\", \"Fruits and Vegetables\", \"Snack Foods\", \"Breads\", \"Snack Foods\", \"Frozen Foods\", \"Snack Foods\", \"Fruits and Vegetables\", \"Household\", \"Baking Goods\", \"Soft Drinks\", \"Household\", \"Household\", \"Snack Foods\", \"Fruits and Vegetables\", \"Dairy\", \"Health and Hygiene\", \"Frozen Foods\", \"Baking Goods\", \"Fruits and Vegetables\", \"Fruits and Vegetables\", \"Frozen Foods\", \"Household\", \"Household\", \"Canned\", \"Others\", \"Household\", \"Health and Hygiene\", \"Baking Goods\", \"Snack Foods\", \"Household\", \"Canned\", \"Baking Goods\", \"Frozen Foods\", \"Health and Hygiene\", \"Canned\", \"Canned\", \"Frozen Foods\", \"Canned\", \"Baking Goods\", \"Fruits and Vegetables\", \"Canned\", \"Frozen Foods\", \"Snack Foods\", \"Fruits and Vegetables\", \"Snack Foods\", \"Canned\", \"Household\", \"Canned\", \"Frozen Foods\", \"Household\", \"Snack Foods\", \"Fruits and Vegetables\", \"Hard Drinks\", \"Soft Drinks\", \"Soft Drinks\", \"Baking Goods\", \"Snack Foods\", \"Meat\", \"Household\", \"Snack Foods\", \"Fruits and Vegetables\", \"Snack Foods\", \"Others\", \"Meat\", \"Snack Foods\", \"Snack Foods\", \"Snack Foods\", \"Health and Hygiene\", \"Snack Foods\", \"Breads\", \"Dairy\", \"Canned\", \"Snack Foods\", \"Dairy\", \"Snack Foods\", \"Fruits and Vegetables\", \"Fruits and Vegetables\", \"Snack Foods\", \"Household\", \"Fruits and Vegetables\", \"Frozen Foods\", \"Frozen Foods\", \"Seafood\", \"Soft Drinks\", \"Frozen Foods\", \"Baking Goods\", \"Dairy\", \"Meat\", \"Fruits and Vegetables\", \"Snack Foods\", \"Fruits and Vegetables\", \"Soft Drinks\", \"Baking Goods\", \"Others\", \"Canned\", \"Hard Drinks\", \"Dairy\", \"Dairy\", \"Household\", \"Frozen Foods\", \"Snack Foods\", \"Fruits and Vegetables\", \"Health and Hygiene\", \"Soft Drinks\", \"Canned\", \"Health and Hygiene\", \"Snack Foods\", \"Snack Foods\", \"Seafood\", \"Snack Foods\", \"Soft Drinks\", \"Fruits and Vegetables\", \"Household\", \"Dairy\", \"Health and Hygiene\", \"Snack Foods\", \"Household\", \"Health and Hygiene\", \"Canned\", \"Health and Hygiene\", \"Others\", \"Canned\", \"Household\", \"Fruits and Vegetables\", \"Soft Drinks\", \"Dairy\", \"Soft Drinks\", \"Others\", \"Snack Foods\", \"Canned\", \"Household\", \"Fruits and Vegetables\", \"Soft Drinks\", \"Fruits and Vegetables\", \"Frozen Foods\", \"Household\", \"Household\", \"Breads\", \"Canned\", \"Snack Foods\", \"Soft Drinks\", \"Fruits and Vegetables\", \"Snack Foods\", \"Hard Drinks\", \"Fruits and Vegetables\", \"Household\", \"Dairy\", \"Soft Drinks\", \"Baking Goods\", \"Hard Drinks\", \"Snack Foods\", \"Soft Drinks\", \"Baking Goods\", \"Snack Foods\", \"Frozen Foods\", \"Fruits and Vegetables\", \"Snack Foods\", \"Household\", \"Soft Drinks\", \"Soft Drinks\", \"Starchy Foods\", \"Fruits and Vegetables\", \"Health and Hygiene\", \"Health and Hygiene\", \"Canned\", \"Baking Goods\", \"Dairy\", \"Snack Foods\", \"Dairy\", \"Breads\", \"Dairy\", \"Health and Hygiene\", \"Breads\", \"Health and Hygiene\", \"Snack Foods\", \"Snack Foods\", \"Household\", \"Fruits and Vegetables\", \"Hard Drinks\", \"Fruits and Vegetables\", \"Snack Foods\", \"Snack Foods\", \"Baking Goods\", \"Fruits and Vegetables\", \"Fruits and Vegetables\", \"Fruits and Vegetables\", \"Frozen Foods\", \"Fruits and Vegetables\", \"Dairy\", \"Frozen Foods\", \"Canned\", \"Fruits and Vegetables\", \"Dairy\", \"Health and Hygiene\", \"Snack Foods\", \"Others\", \"Health and Hygiene\", \"Baking Goods\", \"Household\", \"Starchy Foods\", \"Canned\", \"Baking Goods\", \"Fruits and Vegetables\", \"Frozen Foods\", \"Frozen Foods\", \"Snack Foods\", \"Baking Goods\", \"Household\", \"Dairy\", \"Meat\", \"Fruits and Vegetables\", \"Frozen Foods\", \"Others\", \"Baking Goods\", \"Fruits and Vegetables\", \"Frozen Foods\", \"Snack Foods\", \"Frozen Foods\", \"Baking Goods\", \"Canned\", \"Frozen Foods\", \"Snack Foods\", \"Snack Foods\", \"Snack Foods\", \"Fruits and Vegetables\", \"Snack Foods\", \"Dairy\", \"Health and Hygiene\", \"Others\", \"Others\", \"Breads\", \"Fruits and Vegetables\", \"Frozen Foods\", \"Fruits and Vegetables\", \"Dairy\", \"Health and Hygiene\", \"Canned\", \"Household\", \"Others\", \"Meat\", \"Meat\", \"Canned\", \"Fruits and Vegetables\", \"Others\", \"Fruits and Vegetables\", \"Soft Drinks\", \"Soft Drinks\", \"Fruits and Vegetables\", \"Snack Foods\", \"Snack Foods\", \"Snack Foods\", \"Baking Goods\", \"Baking Goods\", \"Canned\", \"Frozen Foods\", \"Snack Foods\", \"Health and Hygiene\", \"Fruits and Vegetables\", \"Snack Foods\", \"Dairy\", \"Frozen Foods\", \"Household\", \"Starchy Foods\", \"Baking Goods\", \"Snack Foods\", \"Snack Foods\", \"Soft Drinks\", \"Baking Goods\", \"Snack Foods\", \"Fruits and Vegetables\", \"Soft Drinks\", \"Fruits and Vegetables\", \"Hard Drinks\", \"Frozen Foods\", \"Snack Foods\", \"Soft Drinks\", \"Dairy\", \"Dairy\", \"Fruits and Vegetables\", \"Soft Drinks\", \"Meat\", \"Frozen Foods\", \"Starchy Foods\", \"Health and Hygiene\", \"Dairy\", \"Meat\", \"Meat\", \"Hard Drinks\", \"Household\", \"Household\", \"Baking Goods\", \"Snack Foods\", \"Fruits and Vegetables\", \"Health and Hygiene\", \"Fruits and Vegetables\", \"Fruits and Vegetables\", \"Frozen Foods\", \"Snack Foods\", \"Fruits and Vegetables\", \"Soft Drinks\", \"Snack Foods\", \"Household\", \"Snack Foods\", \"Health and Hygiene\", \"Baking Goods\", \"Fruits and Vegetables\", \"Seafood\", \"Seafood\", \"Others\", \"Baking Goods\", \"Frozen Foods\", \"Fruits and Vegetables\", \"Dairy\", \"Baking Goods\", \"Dairy\", \"Frozen Foods\", \"Snack Foods\", \"Snack Foods\", \"Hard Drinks\", \"Snack Foods\", \"Soft Drinks\", \"Canned\", \"Meat\", \"Meat\", \"Dairy\", \"Snack Foods\", \"Fruits and Vegetables\", \"Canned\", \"Health and Hygiene\", \"Household\", \"Starchy Foods\", \"Starchy Foods\", \"Dairy\", \"Health and Hygiene\", \"Meat\", \"Meat\", \"Starchy Foods\", \"Soft Drinks\", \"Household\", \"Snack Foods\", \"Snack Foods\", \"Snack Foods\", \"Breads\", \"Frozen Foods\", \"Snack Foods\", \"Snack Foods\", \"Health and Hygiene\", \"Frozen Foods\", \"Snack Foods\", \"Baking Goods\", \"Household\", \"Household\", \"Soft Drinks\", \"Snack Foods\", \"Snack Foods\", \"Frozen Foods\", \"Fruits and Vegetables\", \"Household\", \"Soft Drinks\", \"Fruits and Vegetables\", \"Dairy\", \"Snack Foods\", \"Dairy\", \"Fruits and Vegetables\", \"Canned\", \"Baking Goods\", \"Snack Foods\", \"Fruits and Vegetables\", \"Health and Hygiene\", \"Soft Drinks\", \"Canned\", \"Canned\", \"Snack Foods\", \"Dairy\", \"Household\", \"Fruits and Vegetables\", \"Canned\", \"Hard Drinks\", \"Dairy\", \"Fruits and Vegetables\", \"Household\", \"Frozen Foods\", \"Canned\", \"Starchy Foods\", \"Fruits and Vegetables\", \"Snack Foods\", \"Household\", \"Fruits and Vegetables\", \"Frozen Foods\", \"Fruits and Vegetables\", \"Health and Hygiene\", \"Meat\", \"Fruits and Vegetables\", \"Snack Foods\", \"Snack Foods\", \"Canned\", \"Snack Foods\", \"Fruits and Vegetables\", \"Breakfast\", \"Household\", \"Baking Goods\", \"Canned\", \"Health and Hygiene\", \"Frozen Foods\", \"Baking Goods\", \"Frozen Foods\", \"Dairy\", \"Fruits and Vegetables\", \"Fruits and Vegetables\", \"Canned\", \"Household\", \"Frozen Foods\", \"Dairy\", \"Baking Goods\", \"Health and Hygiene\", \"Fruits and Vegetables\", \"Snack Foods\", \"Household\", \"Fruits and Vegetables\", \"Frozen Foods\", \"Snack Foods\", \"Soft Drinks\", \"Fruits and Vegetables\", \"Health and Hygiene\", \"Health and Hygiene\", \"Snack Foods\", \"Baking Goods\", \"Breakfast\", \"Fruits and Vegetables\", \"Fruits and Vegetables\", \"Health and Hygiene\", \"Household\", \"Baking Goods\", \"Household\", \"Frozen Foods\", \"Starchy Foods\", \"Dairy\", \"Household\", \"Frozen Foods\", \"Household\", \"Fruits and Vegetables\", \"Snack Foods\", \"Household\", \"Baking Goods\", \"Snack Foods\", \"Meat\", \"Fruits and Vegetables\", \"Fruits and Vegetables\", \"Snack Foods\", \"Meat\", \"Baking Goods\", \"Frozen Foods\", \"Baking Goods\", \"Household\", \"Household\", \"Dairy\", \"Fruits and Vegetables\", \"Fruits and Vegetables\", \"Fruits and Vegetables\", \"Dairy\", \"Frozen Foods\", \"Snack Foods\", \"Baking Goods\", \"Health and Hygiene\", \"Fruits and Vegetables\", \"Household\", \"Snack Foods\", \"Soft Drinks\", \"Breakfast\", \"Fruits and Vegetables\", \"Snack Foods\", \"Frozen Foods\", \"Snack Foods\", \"Meat\", \"Household\", \"Snack Foods\", \"Snack Foods\", \"Meat\", \"Frozen Foods\", \"Breakfast\", \"Household\", \"Seafood\", \"Snack Foods\", \"Meat\", \"Household\", \"Dairy\", \"Frozen Foods\", \"Fruits and Vegetables\", \"Canned\", \"Snack Foods\", \"Breads\", \"Canned\", \"Snack Foods\", \"Canned\", \"Frozen Foods\", \"Dairy\", \"Breads\", \"Fruits and Vegetables\", \"Household\", \"Baking Goods\", \"Canned\", \"Health and Hygiene\", \"Fruits and Vegetables\", \"Hard Drinks\", \"Fruits and Vegetables\", \"Fruits and Vegetables\", \"Snack Foods\", \"Snack Foods\", \"Soft Drinks\", \"Dairy\", \"Fruits and Vegetables\", \"Household\", \"Canned\", \"Fruits and Vegetables\", \"Snack Foods\", \"Breads\", \"Fruits and Vegetables\", \"Fruits and Vegetables\", \"Fruits and Vegetables\", \"Frozen Foods\", \"Breads\", \"Dairy\", \"Fruits and Vegetables\", \"Canned\", \"Meat\", \"Frozen Foods\", \"Dairy\", \"Breads\", \"Baking Goods\", \"Baking Goods\", \"Fruits and Vegetables\", \"Household\", \"Hard Drinks\", \"Frozen Foods\", \"Snack Foods\", \"Fruits and Vegetables\", \"Frozen Foods\", \"Meat\", \"Household\", \"Starchy Foods\", \"Snack Foods\", \"Frozen Foods\", \"Fruits and Vegetables\", \"Baking Goods\", \"Snack Foods\", \"Household\", \"Household\", \"Snack Foods\", \"Snack Foods\", \"Baking Goods\", \"Snack Foods\", \"Meat\", \"Dairy\", \"Dairy\", \"Dairy\", \"Starchy Foods\", \"Household\", \"Fruits and Vegetables\", \"Dairy\", \"Baking Goods\", \"Household\", \"Dairy\", \"Fruits and Vegetables\", \"Frozen Foods\", \"Frozen Foods\", \"Others\", \"Household\", \"Snack Foods\", \"Baking Goods\", \"Frozen Foods\", \"Health and Hygiene\", \"Fruits and Vegetables\", \"Frozen Foods\", \"Soft Drinks\", \"Fruits and Vegetables\", \"Fruits and Vegetables\", \"Household\", \"Frozen Foods\", \"Frozen Foods\", \"Meat\", \"Health and Hygiene\", \"Health and Hygiene\", \"Meat\", \"Fruits and Vegetables\", \"Meat\", \"Canned\", \"Household\", \"Fruits and Vegetables\", \"Dairy\", \"Canned\", \"Baking Goods\", \"Hard Drinks\", \"Soft Drinks\", \"Frozen Foods\", \"Baking Goods\", \"Breads\", \"Household\", \"Fruits and Vegetables\", \"Hard Drinks\", \"Soft Drinks\", \"Snack Foods\", \"Breads\", \"Dairy\", \"Household\", \"Baking Goods\", \"Baking Goods\", \"Fruits and Vegetables\", \"Hard Drinks\", \"Baking Goods\", \"Snack Foods\", \"Snack Foods\", \"Dairy\", \"Snack Foods\", \"Meat\", \"Soft Drinks\", \"Baking Goods\", \"Canned\", \"Snack Foods\", \"Snack Foods\", \"Health and Hygiene\", \"Fruits and Vegetables\", \"Frozen Foods\", \"Household\", \"Snack Foods\", \"Snack Foods\", \"Snack Foods\", \"Household\", \"Dairy\", \"Fruits and Vegetables\", \"Frozen Foods\", \"Breads\", \"Soft Drinks\", \"Baking Goods\", \"Snack Foods\", \"Others\", \"Frozen Foods\", \"Frozen Foods\", \"Fruits and Vegetables\", \"Snack Foods\", \"Meat\", \"Household\", \"Dairy\", \"Dairy\", \"Soft Drinks\", \"Household\", \"Meat\", \"Canned\", \"Meat\", \"Household\", \"Fruits and Vegetables\", \"Others\", \"Snack Foods\", \"Canned\", \"Baking Goods\", \"Snack Foods\", \"Meat\", \"Household\", \"Frozen Foods\", \"Health and Hygiene\", \"Baking Goods\", \"Fruits and Vegetables\", \"Fruits and Vegetables\", \"Household\", \"Breads\", \"Frozen Foods\", \"Breads\", \"Dairy\", \"Fruits and Vegetables\", \"Hard Drinks\", \"Snack Foods\", \"Snack Foods\", \"Seafood\", \"Household\", \"Meat\", \"Canned\", \"Snack Foods\", \"Dairy\", \"Fruits and Vegetables\", \"Snack Foods\", \"Household\", \"Hard Drinks\", \"Snack Foods\", \"Snack Foods\", \"Fruits and Vegetables\", \"Snack Foods\", \"Canned\", \"Hard Drinks\", \"Frozen Foods\", \"Soft Drinks\", \"Frozen Foods\", \"Frozen Foods\", \"Canned\", \"Starchy Foods\", \"Fruits and Vegetables\", \"Baking Goods\", \"Snack Foods\", \"Fruits and Vegetables\", \"Baking Goods\", \"Household\", \"Baking Goods\", \"Frozen Foods\", \"Household\", \"Soft Drinks\", \"Meat\", \"Fruits and Vegetables\", \"Starchy Foods\", \"Frozen Foods\", \"Health and Hygiene\", \"Frozen Foods\", \"Fruits and Vegetables\", \"Snack Foods\", \"Fruits and Vegetables\", \"Breakfast\", \"Snack Foods\", \"Snack Foods\", \"Household\", \"Hard Drinks\", \"Soft Drinks\", \"Canned\", \"Frozen Foods\", \"Baking Goods\", \"Frozen Foods\", \"Dairy\", \"Dairy\", \"Frozen Foods\", \"Fruits and Vegetables\", \"Frozen Foods\", \"Snack Foods\", \"Health and Hygiene\", \"Household\", \"Snack Foods\", \"Starchy Foods\", \"Frozen Foods\", \"Snack Foods\", \"Others\", \"Snack Foods\", \"Breads\", \"Fruits and Vegetables\", \"Frozen Foods\", \"Dairy\", \"Frozen Foods\", \"Household\", \"Soft Drinks\", \"Fruits and Vegetables\", \"Snack Foods\", \"Snack Foods\", \"Household\", \"Household\", \"Frozen Foods\", \"Frozen Foods\", \"Soft Drinks\", \"Dairy\", \"Frozen Foods\", \"Fruits and Vegetables\", \"Breakfast\", \"Household\", \"Health and Hygiene\", \"Fruits and Vegetables\", \"Fruits and Vegetables\", \"Baking Goods\", \"Household\", \"Health and Hygiene\", \"Baking Goods\", \"Frozen Foods\", \"Fruits and Vegetables\", \"Fruits and Vegetables\", \"Canned\", \"Starchy Foods\", \"Frozen Foods\", \"Fruits and Vegetables\", \"Health and Hygiene\", \"Baking Goods\", \"Fruits and Vegetables\", \"Household\", \"Canned\", \"Baking Goods\", \"Fruits and Vegetables\", \"Frozen Foods\", \"Soft Drinks\", \"Fruits and Vegetables\", \"Household\", \"Breads\", \"Soft Drinks\", \"Fruits and Vegetables\", \"Frozen Foods\", \"Soft Drinks\", \"Seafood\", \"Others\", \"Canned\", \"Hard Drinks\", \"Seafood\", \"Household\", \"Snack Foods\", \"Baking Goods\", \"Canned\", \"Health and Hygiene\", \"Household\", \"Canned\", \"Fruits and Vegetables\", \"Snack Foods\", \"Frozen Foods\", \"Fruits and Vegetables\", \"Household\", \"Health and Hygiene\", \"Fruits and Vegetables\", \"Dairy\", \"Household\", \"Frozen Foods\", \"Frozen Foods\", \"Fruits and Vegetables\", \"Fruits and Vegetables\", \"Snack Foods\", \"Snack Foods\", \"Breakfast\", \"Dairy\", \"Dairy\", \"Fruits and Vegetables\", \"Household\", \"Baking Goods\", \"Soft Drinks\", \"Fruits and Vegetables\", \"Household\", \"Fruits and Vegetables\", \"Snack Foods\", \"Soft Drinks\", \"Snack Foods\", \"Frozen Foods\", \"Fruits and Vegetables\", \"Snack Foods\", \"Snack Foods\", \"Dairy\", \"Canned\", \"Frozen Foods\", \"Meat\", \"Snack Foods\", \"Fruits and Vegetables\", \"Soft Drinks\", \"Soft Drinks\", \"Frozen Foods\", \"Canned\", \"Household\", \"Soft Drinks\", \"Starchy Foods\", \"Dairy\", \"Snack Foods\", \"Starchy Foods\", \"Canned\", \"Household\", \"Starchy Foods\", \"Breads\", \"Fruits and Vegetables\", \"Household\", \"Baking Goods\", \"Frozen Foods\", \"Health and Hygiene\", \"Meat\", \"Fruits and Vegetables\", \"Dairy\", \"Snack Foods\", \"Snack Foods\", \"Fruits and Vegetables\", \"Canned\", \"Hard Drinks\", \"Fruits and Vegetables\", \"Health and Hygiene\", \"Frozen Foods\", \"Soft Drinks\", \"Canned\", \"Snack Foods\", \"Household\", \"Dairy\", \"Meat\", \"Household\", \"Baking Goods\", \"Household\", \"Household\", \"Meat\", \"Seafood\", \"Others\", \"Soft Drinks\", \"Breakfast\", \"Dairy\", \"Household\", \"Canned\", \"Fruits and Vegetables\", \"Fruits and Vegetables\", \"Fruits and Vegetables\", \"Fruits and Vegetables\", \"Frozen Foods\", \"Dairy\", \"Starchy Foods\", \"Snack Foods\", \"Soft Drinks\", \"Household\", \"Soft Drinks\", \"Soft Drinks\", \"Frozen Foods\", \"Fruits and Vegetables\", \"Breads\", \"Fruits and Vegetables\", \"Health and Hygiene\", \"Snack Foods\", \"Hard Drinks\", \"Meat\", \"Fruits and Vegetables\", \"Snack Foods\", \"Canned\", \"Breads\", \"Fruits and Vegetables\", \"Hard Drinks\", \"Canned\", \"Baking Goods\", \"Health and Hygiene\", \"Canned\", \"Snack Foods\", \"Dairy\", \"Baking Goods\", \"Breads\", \"Baking Goods\", \"Fruits and Vegetables\", \"Snack Foods\", \"Frozen Foods\", \"Frozen Foods\", \"Hard Drinks\", \"Dairy\", \"Health and Hygiene\", \"Health and Hygiene\", \"Health and Hygiene\", \"Soft Drinks\", \"Frozen Foods\", \"Health and Hygiene\", \"Meat\", \"Fruits and Vegetables\", \"Frozen Foods\", \"Canned\", \"Fruits and Vegetables\", \"Frozen Foods\", \"Starchy Foods\", \"Baking Goods\", \"Snack Foods\", \"Household\", \"Dairy\", \"Fruits and Vegetables\", \"Snack Foods\", \"Others\", \"Health and Hygiene\", \"Soft Drinks\", \"Snack Foods\", \"Household\", \"Frozen Foods\", \"Frozen Foods\", \"Baking Goods\", \"Fruits and Vegetables\", \"Health and Hygiene\", \"Fruits and Vegetables\", \"Others\", \"Snack Foods\", \"Snack Foods\", \"Frozen Foods\", \"Fruits and Vegetables\", \"Soft Drinks\", \"Baking Goods\", \"Snack Foods\", \"Fruits and Vegetables\", \"Frozen Foods\", \"Hard Drinks\", \"Snack Foods\", \"Canned\", \"Frozen Foods\", \"Frozen Foods\", \"Canned\", \"Soft Drinks\", \"Baking Goods\", \"Baking Goods\", \"Household\", \"Household\", \"Canned\", \"Household\", \"Snack Foods\", \"Household\", \"Frozen Foods\", \"Baking Goods\", \"Health and Hygiene\", \"Snack Foods\", \"Starchy Foods\", \"Household\", \"Soft Drinks\", \"Baking Goods\", \"Fruits and Vegetables\", \"Fruits and Vegetables\", \"Health and Hygiene\", \"Hard Drinks\", \"Frozen Foods\", \"Fruits and Vegetables\", \"Baking Goods\", \"Meat\", \"Baking Goods\", \"Snack Foods\", \"Soft Drinks\", \"Frozen Foods\", \"Frozen Foods\", \"Dairy\", \"Frozen Foods\", \"Frozen Foods\", \"Fruits and Vegetables\", \"Household\", \"Meat\", \"Others\", \"Snack Foods\", \"Baking Goods\", \"Baking Goods\", \"Frozen Foods\", \"Breads\", \"Frozen Foods\", \"Fruits and Vegetables\", \"Fruits and Vegetables\", \"Frozen Foods\", \"Frozen Foods\", \"Snack Foods\", \"Dairy\", \"Health and Hygiene\", \"Soft Drinks\", \"Health and Hygiene\", \"Frozen Foods\", \"Dairy\", \"Fruits and Vegetables\", \"Frozen Foods\", \"Household\", \"Dairy\", \"Household\", \"Health and Hygiene\", \"Dairy\", \"Snack Foods\", \"Household\", \"Fruits and Vegetables\", \"Household\", \"Household\", \"Canned\", \"Canned\", \"Snack Foods\", \"Frozen Foods\", \"Soft Drinks\", \"Frozen Foods\", \"Canned\", \"Canned\", \"Dairy\", \"Dairy\", \"Fruits and Vegetables\", \"Health and Hygiene\", \"Baking Goods\", \"Household\", \"Baking Goods\", \"Hard Drinks\", \"Breakfast\", \"Soft Drinks\", \"Household\", \"Frozen Foods\", \"Dairy\", \"Household\", \"Household\", \"Frozen Foods\", \"Household\", \"Dairy\", \"Health and Hygiene\", \"Snack Foods\", \"Starchy Foods\", \"Dairy\", \"Snack Foods\", \"Baking Goods\", \"Snack Foods\", \"Frozen Foods\", \"Dairy\", \"Snack Foods\", \"Others\", \"Canned\", \"Soft Drinks\", \"Snack Foods\", \"Frozen Foods\", \"Fruits and Vegetables\", \"Meat\", \"Soft Drinks\", \"Hard Drinks\", \"Canned\", \"Canned\", \"Breads\", \"Household\", \"Frozen Foods\", \"Canned\", \"Household\", \"Dairy\", \"Snack Foods\", \"Baking Goods\", \"Canned\", \"Fruits and Vegetables\", \"Fruits and Vegetables\", \"Soft Drinks\", \"Canned\", \"Fruits and Vegetables\", \"Snack Foods\", \"Dairy\", \"Canned\", \"Frozen Foods\", \"Frozen Foods\", \"Dairy\", \"Canned\", \"Fruits and Vegetables\", \"Others\", \"Frozen Foods\", \"Frozen Foods\", \"Snack Foods\", \"Canned\", \"Fruits and Vegetables\", \"Frozen Foods\", \"Canned\", \"Household\", \"Snack Foods\", \"Household\", \"Fruits and Vegetables\", \"Soft Drinks\", \"Breads\", \"Snack Foods\", \"Snack Foods\", \"Frozen Foods\", \"Soft Drinks\", \"Soft Drinks\", \"Health and Hygiene\", \"Fruits and Vegetables\", \"Fruits and Vegetables\", \"Fruits and Vegetables\", \"Baking Goods\", \"Fruits and Vegetables\", \"Soft Drinks\", \"Household\", \"Dairy\", \"Fruits and Vegetables\", \"Breads\", \"Frozen Foods\", \"Canned\", \"Meat\", \"Baking Goods\", \"Meat\", \"Starchy Foods\", \"Canned\", \"Breads\", \"Dairy\", \"Snack Foods\", \"Fruits and Vegetables\", \"Baking Goods\", \"Frozen Foods\", \"Fruits and Vegetables\", \"Dairy\", \"Seafood\", \"Frozen Foods\", \"Household\", \"Health and Hygiene\", \"Dairy\", \"Household\", \"Snack Foods\", \"Snack Foods\", \"Frozen Foods\", \"Hard Drinks\", \"Frozen Foods\", \"Snack Foods\", \"Fruits and Vegetables\", \"Household\", \"Canned\", \"Canned\", \"Breakfast\", \"Household\", \"Snack Foods\", \"Breads\", \"Seafood\", \"Snack Foods\", \"Baking Goods\", \"Fruits and Vegetables\", \"Household\", \"Canned\", \"Fruits and Vegetables\", \"Soft Drinks\", \"Dairy\", \"Baking Goods\", \"Snack Foods\", \"Meat\", \"Household\", \"Fruits and Vegetables\", \"Fruits and Vegetables\", \"Baking Goods\", \"Snack Foods\", \"Household\", \"Breakfast\", \"Fruits and Vegetables\", \"Health and Hygiene\", \"Breads\", \"Health and Hygiene\", \"Soft Drinks\", \"Snack Foods\", \"Snack Foods\", \"Meat\", \"Soft Drinks\", \"Snack Foods\", \"Hard Drinks\", \"Dairy\", \"Household\", \"Baking Goods\", \"Dairy\", \"Dairy\", \"Soft Drinks\", \"Meat\", \"Fruits and Vegetables\", \"Breads\", \"Baking Goods\", \"Fruits and Vegetables\", \"Canned\", \"Frozen Foods\", \"Fruits and Vegetables\", \"Canned\", \"Baking Goods\", \"Baking Goods\", \"Snack Foods\", \"Breakfast\", \"Canned\", \"Canned\", \"Household\", \"Others\", \"Household\", \"Canned\", \"Canned\", \"Baking Goods\", \"Hard Drinks\", \"Frozen Foods\", \"Dairy\", \"Snack Foods\", \"Health and Hygiene\", \"Canned\", \"Baking Goods\", \"Baking Goods\", \"Health and Hygiene\", \"Fruits and Vegetables\", \"Snack Foods\", \"Frozen Foods\", \"Snack Foods\", \"Frozen Foods\", \"Fruits and Vegetables\", \"Health and Hygiene\", \"Baking Goods\", \"Meat\", \"Hard Drinks\", \"Health and Hygiene\", \"Fruits and Vegetables\", \"Snack Foods\", \"Dairy\", \"Snack Foods\", \"Fruits and Vegetables\", \"Canned\", \"Frozen Foods\", \"Dairy\", \"Canned\", \"Frozen Foods\", \"Frozen Foods\", \"Snack Foods\", \"Meat\", \"Meat\", \"Frozen Foods\", \"Hard Drinks\", \"Baking Goods\", \"Starchy Foods\", \"Canned\", \"Snack Foods\", \"Baking Goods\", \"Fruits and Vegetables\", \"Fruits and Vegetables\", \"Snack Foods\", \"Fruits and Vegetables\", \"Fruits and Vegetables\", \"Canned\", \"Fruits and Vegetables\", \"Household\", \"Frozen Foods\", \"Household\", \"Canned\", \"Hard Drinks\", \"Snack Foods\", \"Baking Goods\", \"Meat\", \"Fruits and Vegetables\", \"Frozen Foods\", \"Household\", \"Snack Foods\", \"Snack Foods\", \"Canned\", \"Canned\", \"Baking Goods\", \"Baking Goods\", \"Starchy Foods\", \"Household\", \"Frozen Foods\", \"Fruits and Vegetables\", \"Snack Foods\", \"Dairy\", \"Hard Drinks\", \"Others\", \"Dairy\", \"Fruits and Vegetables\", \"Baking Goods\", \"Snack Foods\", \"Breads\", \"Others\", \"Soft Drinks\", \"Dairy\", \"Snack Foods\", \"Fruits and Vegetables\", \"Household\", \"Snack Foods\", \"Meat\", \"Frozen Foods\", \"Breads\", \"Baking Goods\", \"Dairy\", \"Household\", \"Frozen Foods\", \"Fruits and Vegetables\", \"Canned\", \"Snack Foods\", \"Frozen Foods\", \"Fruits and Vegetables\", \"Household\", \"Dairy\", \"Snack Foods\", \"Health and Hygiene\", \"Frozen Foods\", \"Soft Drinks\", \"Canned\", \"Health and Hygiene\", \"Frozen Foods\", \"Household\", \"Dairy\", \"Fruits and Vegetables\", \"Others\", \"Breads\", \"Frozen Foods\", \"Fruits and Vegetables\", \"Breads\", \"Frozen Foods\", \"Baking Goods\", \"Snack Foods\", \"Fruits and Vegetables\", \"Dairy\", \"Health and Hygiene\", \"Snack Foods\", \"Health and Hygiene\", \"Frozen Foods\", \"Dairy\", \"Household\", \"Fruits and Vegetables\", \"Snack Foods\", \"Dairy\", \"Health and Hygiene\", \"Household\", \"Meat\", \"Frozen Foods\", \"Household\", \"Health and Hygiene\", \"Frozen Foods\", \"Baking Goods\", \"Canned\", \"Fruits and Vegetables\", \"Soft Drinks\", \"Fruits and Vegetables\", \"Baking Goods\", \"Household\", \"Canned\", \"Meat\", \"Meat\", \"Baking Goods\", \"Snack Foods\", \"Snack Foods\", \"Canned\", \"Snack Foods\", \"Fruits and Vegetables\", \"Canned\", \"Household\", \"Frozen Foods\", \"Household\", \"Meat\", \"Household\", \"Soft Drinks\", \"Meat\", \"Canned\", \"Dairy\", \"Frozen Foods\", \"Hard Drinks\", \"Snack Foods\", \"Soft Drinks\", \"Snack Foods\", \"Fruits and Vegetables\", \"Meat\", \"Fruits and Vegetables\", \"Household\", \"Hard Drinks\", \"Others\", \"Fruits and Vegetables\", \"Others\", \"Dairy\", \"Fruits and Vegetables\", \"Baking Goods\", \"Fruits and Vegetables\", \"Household\", \"Fruits and Vegetables\", \"Baking Goods\", \"Health and Hygiene\", \"Fruits and Vegetables\", \"Snack Foods\", \"Snack Foods\", \"Starchy Foods\", \"Frozen Foods\", \"Snack Foods\", \"Fruits and Vegetables\", \"Frozen Foods\", \"Snack Foods\", \"Snack Foods\", \"Snack Foods\", \"Snack Foods\", \"Canned\", \"Household\", \"Snack Foods\", \"Household\", \"Meat\", \"Meat\", \"Soft Drinks\", \"Snack Foods\", \"Frozen Foods\", \"Canned\", \"Frozen Foods\", \"Fruits and Vegetables\", \"Seafood\", \"Baking Goods\", \"Fruits and Vegetables\", \"Household\", \"Breakfast\", \"Soft Drinks\", \"Household\", \"Fruits and Vegetables\", \"Seafood\", \"Snack Foods\", \"Snack Foods\", \"Frozen Foods\", \"Fruits and Vegetables\", \"Frozen Foods\", \"Snack Foods\", \"Snack Foods\", \"Frozen Foods\", \"Soft Drinks\", \"Dairy\", \"Fruits and Vegetables\", \"Household\", \"Snack Foods\", \"Meat\", \"Health and Hygiene\", \"Canned\", \"Household\", \"Household\", \"Frozen Foods\", \"Frozen Foods\", \"Canned\", \"Frozen Foods\", \"Snack Foods\", \"Hard Drinks\", \"Health and Hygiene\", \"Baking Goods\", \"Snack Foods\", \"Canned\", \"Health and Hygiene\", \"Snack Foods\", \"Fruits and Vegetables\", \"Soft Drinks\", \"Canned\", \"Fruits and Vegetables\", \"Snack Foods\", \"Fruits and Vegetables\", \"Snack Foods\", \"Snack Foods\", \"Hard Drinks\", \"Breads\", \"Canned\", \"Household\", \"Health and Hygiene\", \"Fruits and Vegetables\", \"Soft Drinks\", \"Snack Foods\", \"Snack Foods\", \"Frozen Foods\", \"Frozen Foods\", \"Frozen Foods\", \"Household\", \"Snack Foods\", \"Baking Goods\", \"Household\", \"Soft Drinks\", \"Frozen Foods\", \"Household\", \"Frozen Foods\", \"Canned\", \"Breads\", \"Hard Drinks\", \"Baking Goods\", \"Dairy\", \"Dairy\", \"Frozen Foods\", \"Baking Goods\", \"Seafood\", \"Canned\", \"Fruits and Vegetables\", \"Soft Drinks\", \"Canned\", \"Fruits and Vegetables\", \"Snack Foods\", \"Health and Hygiene\", \"Snack Foods\", \"Household\", \"Snack Foods\", \"Frozen Foods\", \"Meat\", \"Soft Drinks\", \"Canned\", \"Fruits and Vegetables\", \"Household\", \"Dairy\", \"Meat\", \"Frozen Foods\", \"Snack Foods\", \"Baking Goods\", \"Canned\", \"Dairy\", \"Frozen Foods\", \"Breads\", \"Snack Foods\", \"Dairy\", \"Snack Foods\", \"Canned\", \"Baking Goods\", \"Dairy\", \"Meat\", \"Snack Foods\", \"Frozen Foods\", \"Frozen Foods\", \"Fruits and Vegetables\", \"Soft Drinks\", \"Breads\", \"Others\", \"Dairy\", \"Frozen Foods\", \"Household\", \"Health and Hygiene\", \"Breads\", \"Fruits and Vegetables\", \"Health and Hygiene\", \"Canned\", \"Fruits and Vegetables\", \"Snack Foods\", \"Dairy\", \"Frozen Foods\", \"Fruits and Vegetables\", \"Fruits and Vegetables\", \"Soft Drinks\", \"Baking Goods\", \"Household\", \"Frozen Foods\", \"Snack Foods\", \"Household\", \"Breads\", \"Baking Goods\", \"Snack Foods\", \"Snack Foods\", \"Starchy Foods\", \"Frozen Foods\", \"Baking Goods\", \"Snack Foods\", \"Soft Drinks\", \"Household\", \"Baking Goods\", \"Frozen Foods\", \"Others\", \"Hard Drinks\", \"Canned\", \"Meat\", \"Household\", \"Canned\", \"Household\", \"Household\", \"Canned\", \"Canned\", \"Snack Foods\", \"Snack Foods\", \"Health and Hygiene\", \"Dairy\", \"Household\", \"Health and Hygiene\", \"Household\", \"Breads\", \"Fruits and Vegetables\", \"Dairy\", \"Health and Hygiene\", \"Household\", \"Dairy\", \"Soft Drinks\", \"Soft Drinks\", \"Fruits and Vegetables\", \"Household\", \"Meat\", \"Breads\", \"Fruits and Vegetables\", \"Hard Drinks\", \"Snack Foods\", \"Frozen Foods\", \"Household\", \"Fruits and Vegetables\", \"Fruits and Vegetables\", \"Household\", \"Fruits and Vegetables\", \"Snack Foods\", \"Canned\", \"Breads\", \"Snack Foods\", \"Dairy\", \"Frozen Foods\", \"Fruits and Vegetables\", \"Breads\", \"Dairy\", \"Snack Foods\", \"Canned\", \"Soft Drinks\", \"Meat\", \"Canned\", \"Frozen Foods\", \"Seafood\", \"Frozen Foods\", \"Baking Goods\", \"Household\", \"Starchy Foods\", \"Soft Drinks\", \"Meat\", \"Household\", \"Starchy Foods\", \"Snack Foods\", \"Meat\", \"Meat\", \"Fruits and Vegetables\", \"Fruits and Vegetables\", \"Health and Hygiene\", \"Breads\", \"Household\", \"Baking Goods\", \"Baking Goods\", \"Canned\", \"Snack Foods\", \"Household\", \"Baking Goods\", \"Baking Goods\", \"Household\", \"Meat\", \"Canned\", \"Frozen Foods\", \"Frozen Foods\", \"Baking Goods\", \"Fruits and Vegetables\", \"Household\", \"Dairy\", \"Seafood\", \"Household\", \"Snack Foods\", \"Canned\", \"Frozen Foods\", \"Soft Drinks\", \"Seafood\", \"Fruits and Vegetables\", \"Fruits and Vegetables\", \"Fruits and Vegetables\", \"Meat\", \"Soft Drinks\", \"Dairy\", \"Household\", \"Fruits and Vegetables\", \"Baking Goods\", \"Health and Hygiene\", \"Dairy\", \"Health and Hygiene\", \"Frozen Foods\", \"Soft Drinks\", \"Fruits and Vegetables\", \"Household\", \"Fruits and Vegetables\", \"Snack Foods\", \"Canned\", \"Soft Drinks\", \"Canned\", \"Soft Drinks\", \"Household\", \"Household\", \"Others\", \"Frozen Foods\", \"Soft Drinks\", \"Baking Goods\", \"Soft Drinks\", \"Soft Drinks\", \"Snack Foods\", \"Household\", \"Fruits and Vegetables\", \"Starchy Foods\", \"Canned\", \"Meat\", \"Household\", \"Baking Goods\", \"Health and Hygiene\", \"Household\", \"Fruits and Vegetables\", \"Frozen Foods\", \"Frozen Foods\", \"Hard Drinks\", \"Baking Goods\", \"Hard Drinks\", \"Canned\", \"Baking Goods\", \"Health and Hygiene\", \"Dairy\", \"Baking Goods\", \"Dairy\", \"Fruits and Vegetables\", \"Canned\", \"Fruits and Vegetables\", \"Household\", \"Baking Goods\", \"Frozen Foods\", \"Fruits and Vegetables\", \"Soft Drinks\", \"Fruits and Vegetables\", \"Fruits and Vegetables\", \"Health and Hygiene\", \"Baking Goods\", \"Frozen Foods\", \"Frozen Foods\", \"Fruits and Vegetables\", \"Baking Goods\", \"Breads\", \"Fruits and Vegetables\", \"Frozen Foods\", \"Household\", \"Canned\", \"Baking Goods\", \"Others\", \"Breakfast\", \"Frozen Foods\", \"Frozen Foods\", \"Household\", \"Frozen Foods\", \"Health and Hygiene\", \"Meat\", \"Frozen Foods\", \"Snack Foods\", \"Fruits and Vegetables\", \"Seafood\", \"Health and Hygiene\", \"Household\", \"Breakfast\", \"Snack Foods\", \"Fruits and Vegetables\", \"Fruits and Vegetables\", \"Baking Goods\", \"Frozen Foods\", \"Fruits and Vegetables\", \"Frozen Foods\", \"Dairy\", \"Meat\", \"Dairy\", \"Fruits and Vegetables\", \"Dairy\", \"Fruits and Vegetables\", \"Snack Foods\", \"Fruits and Vegetables\", \"Health and Hygiene\", \"Health and Hygiene\", \"Baking Goods\", \"Snack Foods\", \"Baking Goods\", \"Fruits and Vegetables\", \"Soft Drinks\", \"Soft Drinks\", \"Frozen Foods\", \"Canned\", \"Soft Drinks\", \"Dairy\", \"Frozen Foods\", \"Frozen Foods\", \"Meat\", \"Canned\", \"Fruits and Vegetables\", \"Dairy\", \"Canned\", \"Hard Drinks\", \"Health and Hygiene\", \"Snack Foods\", \"Fruits and Vegetables\", \"Meat\", \"Snack Foods\", \"Baking Goods\", \"Household\", \"Household\", \"Canned\", \"Fruits and Vegetables\", \"Household\", \"Frozen Foods\", \"Starchy Foods\", \"Fruits and Vegetables\", \"Health and Hygiene\", \"Household\", \"Fruits and Vegetables\", \"Fruits and Vegetables\", \"Canned\", \"Household\", \"Canned\", \"Fruits and Vegetables\", \"Dairy\", \"Canned\", \"Snack Foods\", \"Hard Drinks\", \"Fruits and Vegetables\", \"Snack Foods\", \"Snack Foods\", \"Household\", \"Health and Hygiene\", \"Soft Drinks\", \"Baking Goods\", \"Household\", \"Meat\", \"Soft Drinks\", \"Frozen Foods\", \"Meat\", \"Meat\", \"Household\", \"Fruits and Vegetables\", \"Snack Foods\", \"Household\", \"Health and Hygiene\", \"Fruits and Vegetables\", \"Fruits and Vegetables\", \"Fruits and Vegetables\", \"Household\", \"Fruits and Vegetables\", \"Household\", \"Baking Goods\", \"Dairy\", \"Soft Drinks\", \"Meat\", \"Fruits and Vegetables\", \"Baking Goods\", \"Fruits and Vegetables\", \"Fruits and Vegetables\", \"Dairy\", \"Canned\", \"Soft Drinks\", \"Fruits and Vegetables\", \"Frozen Foods\", \"Frozen Foods\", \"Canned\", \"Health and Hygiene\", \"Soft Drinks\", \"Snack Foods\", \"Household\", \"Soft Drinks\", \"Snack Foods\", \"Meat\", \"Dairy\", \"Snack Foods\", \"Baking Goods\", \"Snack Foods\", \"Fruits and Vegetables\", \"Fruits and Vegetables\", \"Canned\", \"Fruits and Vegetables\", \"Soft Drinks\", \"Baking Goods\", \"Snack Foods\", \"Snack Foods\", \"Household\", \"Household\", \"Fruits and Vegetables\", \"Health and Hygiene\", \"Dairy\", \"Baking Goods\", \"Snack Foods\", \"Fruits and Vegetables\", \"Frozen Foods\", \"Baking Goods\", \"Frozen Foods\", \"Household\", \"Frozen Foods\", \"Snack Foods\", \"Snack Foods\", \"Snack Foods\", \"Others\", \"Baking Goods\", \"Frozen Foods\", \"Frozen Foods\", \"Baking Goods\", \"Snack Foods\", \"Soft Drinks\", \"Canned\", \"Snack Foods\", \"Canned\", \"Breads\", \"Canned\", \"Snack Foods\", \"Soft Drinks\", \"Snack Foods\", \"Baking Goods\", \"Meat\", \"Dairy\", \"Canned\", \"Baking Goods\", \"Meat\", \"Health and Hygiene\", \"Frozen Foods\", \"Household\", \"Canned\", \"Health and Hygiene\", \"Canned\", \"Snack Foods\", \"Soft Drinks\", \"Snack Foods\", \"Frozen Foods\", \"Dairy\", \"Health and Hygiene\", \"Baking Goods\", \"Health and Hygiene\", \"Soft Drinks\", \"Snack Foods\", \"Baking Goods\", \"Snack Foods\", \"Household\", \"Fruits and Vegetables\", \"Frozen Foods\", \"Frozen Foods\", \"Snack Foods\", \"Seafood\", \"Soft Drinks\", \"Health and Hygiene\", \"Health and Hygiene\", \"Canned\", \"Baking Goods\", \"Snack Foods\", \"Dairy\", \"Dairy\", \"Frozen Foods\", \"Frozen Foods\", \"Frozen Foods\", \"Dairy\", \"Dairy\", \"Snack Foods\", \"Hard Drinks\", \"Dairy\", \"Health and Hygiene\", \"Frozen Foods\", \"Baking Goods\", \"Baking Goods\", \"Canned\", \"Household\", \"Canned\", \"Household\", \"Canned\", \"Hard Drinks\", \"Baking Goods\", \"Health and Hygiene\", \"Snack Foods\", \"Snack Foods\", \"Snack Foods\", \"Baking Goods\", \"Soft Drinks\", \"Snack Foods\", \"Frozen Foods\", \"Baking Goods\", \"Frozen Foods\", \"Dairy\", \"Baking Goods\", \"Fruits and Vegetables\", \"Soft Drinks\", \"Baking Goods\", \"Hard Drinks\", \"Frozen Foods\", \"Dairy\", \"Meat\", \"Dairy\", \"Canned\", \"Dairy\", \"Baking Goods\", \"Hard Drinks\", \"Snack Foods\", \"Fruits and Vegetables\", \"Breakfast\", \"Health and Hygiene\", \"Household\", \"Baking Goods\", \"Soft Drinks\", \"Snack Foods\", \"Meat\", \"Household\", \"Dairy\", \"Snack Foods\", \"Snack Foods\", \"Health and Hygiene\", \"Hard Drinks\", \"Soft Drinks\", \"Health and Hygiene\", \"Snack Foods\", \"Canned\", \"Fruits and Vegetables\", \"Canned\", \"Starchy Foods\", \"Meat\", \"Frozen Foods\", \"Baking Goods\", \"Breads\", \"Fruits and Vegetables\", \"Baking Goods\", \"Soft Drinks\", \"Breads\", \"Hard Drinks\", \"Soft Drinks\", \"Meat\", \"Others\", \"Dairy\", \"Dairy\", \"Frozen Foods\", \"Household\", \"Frozen Foods\", \"Hard Drinks\", \"Frozen Foods\", \"Baking Goods\", \"Canned\", \"Household\", \"Snack Foods\", \"Canned\", \"Others\", \"Canned\", \"Meat\", \"Canned\", \"Baking Goods\", \"Fruits and Vegetables\", \"Baking Goods\", \"Frozen Foods\", \"Soft Drinks\", \"Others\", \"Breakfast\", \"Frozen Foods\", \"Soft Drinks\", \"Fruits and Vegetables\", \"Dairy\", \"Fruits and Vegetables\", \"Dairy\", \"Household\", \"Fruits and Vegetables\", \"Frozen Foods\", \"Snack Foods\", \"Snack Foods\", \"Household\", \"Fruits and Vegetables\", \"Baking Goods\", \"Baking Goods\", \"Others\", \"Soft Drinks\", \"Meat\", \"Snack Foods\", \"Breads\", \"Meat\", \"Snack Foods\", \"Dairy\", \"Health and Hygiene\", \"Frozen Foods\", \"Canned\", \"Baking Goods\", \"Meat\", \"Snack Foods\", \"Canned\", \"Starchy Foods\", \"Snack Foods\", \"Canned\", \"Frozen Foods\", \"Household\", \"Breads\", \"Canned\", \"Dairy\", \"Snack Foods\", \"Hard Drinks\", \"Starchy Foods\", \"Snack Foods\", \"Meat\", \"Hard Drinks\", \"Baking Goods\", \"Snack Foods\", \"Household\", \"Household\", \"Breads\", \"Frozen Foods\", \"Snack Foods\", \"Fruits and Vegetables\", \"Fruits and Vegetables\", \"Dairy\", \"Breads\", \"Canned\", \"Fruits and Vegetables\", \"Baking Goods\", \"Dairy\", \"Meat\", \"Household\", \"Snack Foods\", \"Snack Foods\", \"Starchy Foods\", \"Snack Foods\", \"Snack Foods\", \"Starchy Foods\", \"Fruits and Vegetables\", \"Fruits and Vegetables\", \"Frozen Foods\", \"Household\", \"Soft Drinks\", \"Baking Goods\", \"Household\", \"Canned\", \"Household\", \"Fruits and Vegetables\", \"Frozen Foods\", \"Fruits and Vegetables\", \"Household\", \"Starchy Foods\", \"Meat\", \"Household\", \"Canned\", \"Fruits and Vegetables\", \"Fruits and Vegetables\", \"Meat\", \"Fruits and Vegetables\", \"Frozen Foods\", \"Household\", \"Meat\", \"Canned\", \"Household\", \"Health and Hygiene\", \"Baking Goods\", \"Baking Goods\", \"Fruits and Vegetables\", \"Snack Foods\", \"Baking Goods\", \"Health and Hygiene\", \"Canned\", \"Starchy Foods\", \"Frozen Foods\", \"Canned\", \"Starchy Foods\", \"Dairy\", \"Canned\", \"Baking Goods\", \"Health and Hygiene\", \"Household\", \"Canned\", \"Meat\", \"Fruits and Vegetables\", \"Health and Hygiene\", \"Others\", \"Frozen Foods\", \"Frozen Foods\", \"Household\", \"Snack Foods\", \"Frozen Foods\", \"Snack Foods\", \"Snack Foods\", \"Meat\", \"Breads\", \"Breads\", \"Hard Drinks\", \"Dairy\", \"Meat\", \"Baking Goods\", \"Household\", \"Health and Hygiene\", \"Breads\", \"Snack Foods\", \"Dairy\", \"Meat\", \"Fruits and Vegetables\", \"Household\", \"Soft Drinks\", \"Snack Foods\", \"Starchy Foods\", \"Snack Foods\", \"Dairy\", \"Fruits and Vegetables\", \"Others\", \"Soft Drinks\", \"Household\", \"Fruits and Vegetables\", \"Household\", \"Fruits and Vegetables\", \"Frozen Foods\", \"Dairy\", \"Hard Drinks\", \"Fruits and Vegetables\", \"Health and Hygiene\", \"Breads\", \"Dairy\", \"Dairy\", \"Soft Drinks\", \"Health and Hygiene\", \"Snack Foods\", \"Starchy Foods\", \"Snack Foods\", \"Soft Drinks\", \"Household\", \"Dairy\", \"Soft Drinks\", \"Household\", \"Canned\", \"Fruits and Vegetables\", \"Fruits and Vegetables\", \"Baking Goods\", \"Fruits and Vegetables\", \"Fruits and Vegetables\", \"Fruits and Vegetables\", \"Starchy Foods\", \"Fruits and Vegetables\", \"Health and Hygiene\", \"Snack Foods\", \"Snack Foods\", \"Dairy\", \"Canned\", \"Snack Foods\", \"Snack Foods\", \"Breakfast\", \"Household\", \"Fruits and Vegetables\", \"Frozen Foods\", \"Canned\", \"Meat\", \"Household\", \"Fruits and Vegetables\", \"Starchy Foods\", \"Fruits and Vegetables\", \"Fruits and Vegetables\", \"Soft Drinks\", \"Soft Drinks\", \"Baking Goods\", \"Fruits and Vegetables\", \"Snack Foods\", \"Fruits and Vegetables\", \"Fruits and Vegetables\", \"Fruits and Vegetables\", \"Fruits and Vegetables\", \"Snack Foods\", \"Others\", \"Snack Foods\", \"Health and Hygiene\", \"Meat\", \"Frozen Foods\", \"Baking Goods\", \"Fruits and Vegetables\", \"Soft Drinks\", \"Starchy Foods\", \"Baking Goods\", \"Household\", \"Fruits and Vegetables\", \"Frozen Foods\", \"Fruits and Vegetables\", \"Health and Hygiene\", \"Snack Foods\", \"Breads\", \"Fruits and Vegetables\", \"Snack Foods\", \"Meat\", \"Health and Hygiene\", \"Fruits and Vegetables\", \"Dairy\", \"Snack Foods\", \"Household\", \"Soft Drinks\", \"Baking Goods\", \"Snack Foods\", \"Frozen Foods\", \"Canned\", \"Fruits and Vegetables\", \"Frozen Foods\", \"Snack Foods\", \"Snack Foods\", \"Health and Hygiene\", \"Frozen Foods\", \"Fruits and Vegetables\", \"Canned\", \"Others\", \"Frozen Foods\", \"Fruits and Vegetables\", \"Baking Goods\", \"Frozen Foods\", \"Baking Goods\", \"Fruits and Vegetables\", \"Frozen Foods\", \"Fruits and Vegetables\", \"Household\", \"Meat\", \"Household\", \"Canned\", \"Starchy Foods\", \"Meat\", \"Health and Hygiene\", \"Frozen Foods\", \"Breads\", \"Baking Goods\", \"Breads\", \"Household\", \"Household\", \"Baking Goods\", \"Frozen Foods\", \"Breads\", \"Canned\", \"Household\", \"Dairy\", \"Snack Foods\", \"Dairy\", \"Snack Foods\", \"Soft Drinks\", \"Snack Foods\", \"Snack Foods\", \"Meat\", \"Household\", \"Canned\", \"Snack Foods\", \"Health and Hygiene\", \"Health and Hygiene\", \"Fruits and Vegetables\", \"Household\", \"Frozen Foods\", \"Fruits and Vegetables\", \"Health and Hygiene\", \"Baking Goods\", \"Soft Drinks\", \"Meat\", \"Canned\", \"Breakfast\", \"Soft Drinks\", \"Soft Drinks\", \"Baking Goods\", \"Frozen Foods\", \"Fruits and Vegetables\", \"Snack Foods\", \"Frozen Foods\", \"Meat\", \"Household\", \"Household\", \"Snack Foods\", \"Snack Foods\", \"Baking Goods\", \"Household\", \"Dairy\", \"Health and Hygiene\", \"Fruits and Vegetables\", \"Canned\", \"Frozen Foods\", \"Snack Foods\", \"Snack Foods\", \"Frozen Foods\", \"Snack Foods\", \"Dairy\", \"Dairy\", \"Snack Foods\", \"Fruits and Vegetables\", \"Snack Foods\", \"Soft Drinks\", \"Snack Foods\", \"Baking Goods\", \"Health and Hygiene\", \"Fruits and Vegetables\", \"Baking Goods\", \"Health and Hygiene\", \"Fruits and Vegetables\", \"Household\", \"Baking Goods\", \"Snack Foods\", \"Canned\", \"Household\", \"Snack Foods\", \"Canned\", \"Breads\", \"Household\", \"Fruits and Vegetables\", \"Meat\", \"Household\", \"Others\", \"Hard Drinks\", \"Frozen Foods\", \"Snack Foods\", \"Frozen Foods\", \"Others\", \"Dairy\", \"Seafood\", \"Meat\", \"Breads\", \"Dairy\", \"Dairy\", \"Health and Hygiene\", \"Snack Foods\", \"Fruits and Vegetables\", \"Health and Hygiene\", \"Fruits and Vegetables\", \"Household\", \"Snack Foods\", \"Snack Foods\", \"Snack Foods\", \"Frozen Foods\", \"Dairy\", \"Health and Hygiene\", \"Fruits and Vegetables\", \"Household\", \"Household\", \"Fruits and Vegetables\", \"Starchy Foods\", \"Fruits and Vegetables\", \"Meat\", \"Household\", \"Frozen Foods\", \"Household\", \"Snack Foods\", \"Dairy\", \"Snack Foods\", \"Fruits and Vegetables\", \"Fruits and Vegetables\", \"Baking Goods\", \"Baking Goods\", \"Seafood\", \"Baking Goods\", \"Frozen Foods\", \"Others\", \"Starchy Foods\", \"Household\", \"Canned\", \"Dairy\", \"Breads\", \"Breads\", \"Household\", \"Snack Foods\", \"Baking Goods\", \"Soft Drinks\", \"Hard Drinks\", \"Fruits and Vegetables\", \"Health and Hygiene\", \"Snack Foods\", \"Household\", \"Frozen Foods\", \"Others\", \"Breakfast\", \"Fruits and Vegetables\", \"Others\", \"Hard Drinks\", \"Household\", \"Dairy\", \"Breads\", \"Fruits and Vegetables\", \"Snack Foods\", \"Canned\", \"Canned\", \"Baking Goods\", \"Canned\", \"Frozen Foods\", \"Snack Foods\", \"Household\", \"Frozen Foods\", \"Household\", \"Fruits and Vegetables\", \"Fruits and Vegetables\", \"Fruits and Vegetables\", \"Frozen Foods\", \"Snack Foods\", \"Breads\", \"Soft Drinks\", \"Meat\", \"Baking Goods\", \"Canned\", \"Frozen Foods\", \"Household\", \"Dairy\", \"Canned\", \"Health and Hygiene\", \"Fruits and Vegetables\", \"Baking Goods\", \"Fruits and Vegetables\", \"Breads\", \"Snack Foods\", \"Canned\", \"Household\", \"Hard Drinks\", \"Baking Goods\", \"Fruits and Vegetables\", \"Fruits and Vegetables\", \"Frozen Foods\", \"Snack Foods\", \"Dairy\", \"Soft Drinks\", \"Soft Drinks\", \"Breakfast\", \"Soft Drinks\", \"Household\", \"Household\", \"Fruits and Vegetables\", \"Starchy Foods\", \"Baking Goods\", \"Breads\", \"Fruits and Vegetables\", \"Fruits and Vegetables\", \"Fruits and Vegetables\", \"Frozen Foods\", \"Frozen Foods\", \"Canned\", \"Fruits and Vegetables\", \"Household\", \"Household\", \"Household\", \"Frozen Foods\", \"Frozen Foods\", \"Fruits and Vegetables\", \"Fruits and Vegetables\", \"Snack Foods\", \"Fruits and Vegetables\", \"Household\", \"Fruits and Vegetables\", \"Meat\", \"Household\", \"Canned\", \"Soft Drinks\", \"Household\", \"Frozen Foods\", \"Dairy\", \"Meat\", \"Dairy\", \"Baking Goods\", \"Meat\", \"Canned\", \"Dairy\", \"Others\", \"Baking Goods\", \"Baking Goods\", \"Seafood\", \"Health and Hygiene\", \"Baking Goods\", \"Baking Goods\", \"Snack Foods\", \"Baking Goods\", \"Health and Hygiene\", \"Fruits and Vegetables\", \"Baking Goods\", \"Meat\", \"Meat\", \"Baking Goods\", \"Breads\", \"Fruits and Vegetables\", \"Canned\", \"Frozen Foods\", \"Fruits and Vegetables\", \"Frozen Foods\", \"Baking Goods\", \"Household\", \"Canned\", \"Baking Goods\", \"Soft Drinks\", \"Snack Foods\", \"Household\", \"Breads\", \"Dairy\", \"Health and Hygiene\", \"Snack Foods\", \"Frozen Foods\", \"Health and Hygiene\", \"Household\", \"Baking Goods\", \"Hard Drinks\", \"Hard Drinks\", \"Breakfast\", \"Frozen Foods\", \"Snack Foods\", \"Dairy\", \"Snack Foods\", \"Meat\", \"Fruits and Vegetables\", \"Meat\", \"Baking Goods\", \"Snack Foods\", \"Breakfast\", \"Dairy\", \"Household\", \"Snack Foods\", \"Soft Drinks\", \"Health and Hygiene\", \"Frozen Foods\", \"Canned\", \"Baking Goods\", \"Snack Foods\", \"Household\", \"Dairy\", \"Household\", \"Others\", \"Fruits and Vegetables\", \"Frozen Foods\", \"Seafood\", \"Canned\", \"Health and Hygiene\", \"Baking Goods\", \"Snack Foods\", \"Snack Foods\", \"Meat\", \"Hard Drinks\", \"Canned\", \"Fruits and Vegetables\", \"Frozen Foods\", \"Fruits and Vegetables\", \"Fruits and Vegetables\", \"Baking Goods\", \"Dairy\", \"Canned\", \"Snack Foods\", \"Canned\", \"Dairy\", \"Snack Foods\", \"Dairy\", \"Household\", \"Snack Foods\", \"Canned\", \"Snack Foods\", \"Snack Foods\", \"Dairy\", \"Snack Foods\", \"Meat\", \"Dairy\", \"Snack Foods\", \"Hard Drinks\", \"Fruits and Vegetables\", \"Health and Hygiene\", \"Soft Drinks\", \"Household\", \"Snack Foods\", \"Household\", \"Meat\", \"Frozen Foods\", \"Household\", \"Breads\", \"Fruits and Vegetables\", \"Fruits and Vegetables\", \"Health and Hygiene\", \"Fruits and Vegetables\", \"Frozen Foods\", \"Fruits and Vegetables\", \"Fruits and Vegetables\", \"Snack Foods\", \"Dairy\", \"Household\", \"Hard Drinks\", \"Snack Foods\", \"Dairy\", \"Snack Foods\", \"Meat\", \"Fruits and Vegetables\", \"Breads\", \"Snack Foods\", \"Snack Foods\", \"Snack Foods\", \"Meat\", \"Frozen Foods\", \"Health and Hygiene\", \"Meat\", \"Health and Hygiene\", \"Dairy\", \"Breakfast\", \"Fruits and Vegetables\", \"Breads\", \"Household\", \"Fruits and Vegetables\", \"Meat\", \"Meat\", \"Health and Hygiene\", \"Household\", \"Snack Foods\", \"Snack Foods\", \"Baking Goods\", \"Canned\", \"Meat\", \"Dairy\", \"Frozen Foods\", \"Fruits and Vegetables\", \"Snack Foods\", \"Health and Hygiene\", \"Fruits and Vegetables\", \"Snack Foods\", \"Fruits and Vegetables\", \"Baking Goods\", \"Frozen Foods\", \"Snack Foods\", \"Snack Foods\", \"Baking Goods\", \"Meat\", \"Fruits and Vegetables\", \"Soft Drinks\", \"Snack Foods\", \"Household\", \"Frozen Foods\", \"Snack Foods\", \"Meat\", \"Household\", \"Household\", \"Canned\", \"Baking Goods\", \"Dairy\", \"Household\", \"Frozen Foods\", \"Snack Foods\", \"Household\", \"Baking Goods\", \"Household\", \"Breads\", \"Canned\", \"Canned\", \"Soft Drinks\", \"Fruits and Vegetables\", \"Canned\", \"Canned\", \"Snack Foods\", \"Dairy\", \"Fruits and Vegetables\", \"Canned\", \"Fruits and Vegetables\", \"Fruits and Vegetables\", \"Health and Hygiene\", \"Snack Foods\", \"Snack Foods\", \"Snack Foods\", \"Canned\", \"Breads\", \"Dairy\", \"Baking Goods\", \"Canned\", \"Household\", \"Household\", \"Baking Goods\", \"Dairy\", \"Soft Drinks\", \"Snack Foods\", \"Baking Goods\", \"Household\", \"Snack Foods\", \"Fruits and Vegetables\", \"Breads\", \"Household\", \"Health and Hygiene\", \"Frozen Foods\", \"Canned\", \"Dairy\", \"Starchy Foods\", \"Soft Drinks\", \"Frozen Foods\", \"Breakfast\", \"Frozen Foods\", \"Meat\", \"Fruits and Vegetables\", \"Dairy\", \"Frozen Foods\", \"Soft Drinks\", \"Fruits and Vegetables\", \"Hard Drinks\", \"Household\", \"Frozen Foods\", \"Breakfast\", \"Health and Hygiene\", \"Dairy\", \"Breakfast\", \"Canned\", \"Household\", \"Others\", \"Fruits and Vegetables\", \"Fruits and Vegetables\", \"Snack Foods\", \"Dairy\", \"Household\", \"Baking Goods\", \"Fruits and Vegetables\", \"Dairy\", \"Canned\", \"Baking Goods\", \"Dairy\", \"Fruits and Vegetables\", \"Meat\", \"Frozen Foods\", \"Breads\", \"Dairy\", \"Frozen Foods\", \"Frozen Foods\", \"Health and Hygiene\", \"Household\", \"Fruits and Vegetables\", \"Frozen Foods\", \"Fruits and Vegetables\", \"Health and Hygiene\", \"Breads\", \"Fruits and Vegetables\", \"Meat\", \"Frozen Foods\", \"Fruits and Vegetables\", \"Snack Foods\", \"Snack Foods\", \"Dairy\", \"Others\", \"Hard Drinks\", \"Fruits and Vegetables\", \"Snack Foods\", \"Snack Foods\", \"Breakfast\", \"Health and Hygiene\", \"Snack Foods\", \"Starchy Foods\", \"Fruits and Vegetables\", \"Fruits and Vegetables\", \"Snack Foods\", \"Breads\", \"Fruits and Vegetables\", \"Others\", \"Fruits and Vegetables\", \"Starchy Foods\", \"Dairy\", \"Health and Hygiene\", \"Household\", \"Meat\", \"Snack Foods\", \"Others\", \"Soft Drinks\", \"Canned\", \"Dairy\", \"Baking Goods\", \"Dairy\", \"Breakfast\", \"Fruits and Vegetables\", \"Health and Hygiene\", \"Household\", \"Dairy\", \"Frozen Foods\", \"Canned\", \"Breakfast\", \"Dairy\", \"Fruits and Vegetables\", \"Baking Goods\", \"Health and Hygiene\", \"Frozen Foods\", \"Fruits and Vegetables\", \"Dairy\", \"Soft Drinks\", \"Dairy\", \"Breads\", \"Breakfast\", \"Fruits and Vegetables\", \"Fruits and Vegetables\", \"Household\", \"Household\", \"Household\", \"Hard Drinks\", \"Frozen Foods\", \"Fruits and Vegetables\", \"Health and Hygiene\", \"Soft Drinks\", \"Soft Drinks\", \"Soft Drinks\", \"Meat\", \"Health and Hygiene\", \"Hard Drinks\", \"Fruits and Vegetables\", \"Breads\", \"Canned\", \"Fruits and Vegetables\", \"Baking Goods\", \"Meat\", \"Soft Drinks\", \"Breakfast\", \"Dairy\", \"Snack Foods\", \"Fruits and Vegetables\", \"Starchy Foods\", \"Canned\", \"Fruits and Vegetables\", \"Hard Drinks\", \"Soft Drinks\", \"Dairy\", \"Meat\", \"Dairy\", \"Dairy\", \"Household\", \"Canned\", \"Hard Drinks\", \"Hard Drinks\", \"Hard Drinks\", \"Fruits and Vegetables\", \"Snack Foods\", \"Dairy\", \"Frozen Foods\", \"Snack Foods\", \"Dairy\", \"Fruits and Vegetables\", \"Household\", \"Fruits and Vegetables\", \"Snack Foods\", \"Health and Hygiene\", \"Snack Foods\", \"Hard Drinks\", \"Fruits and Vegetables\", \"Canned\", \"Fruits and Vegetables\", \"Snack Foods\", \"Frozen Foods\", \"Baking Goods\", \"Snack Foods\", \"Frozen Foods\", \"Snack Foods\", \"Canned\", \"Snack Foods\", \"Breads\", \"Frozen Foods\", \"Canned\", \"Fruits and Vegetables\", \"Snack Foods\", \"Household\", \"Canned\", \"Snack Foods\", \"Household\", \"Health and Hygiene\", \"Household\", \"Snack Foods\", \"Dairy\", \"Dairy\", \"Starchy Foods\", \"Fruits and Vegetables\", \"Meat\", \"Canned\", \"Fruits and Vegetables\", \"Hard Drinks\", \"Hard Drinks\", \"Snack Foods\", \"Frozen Foods\", \"Breads\", \"Fruits and Vegetables\", \"Household\", \"Snack Foods\", \"Fruits and Vegetables\", \"Starchy Foods\", \"Fruits and Vegetables\", \"Frozen Foods\", \"Household\", \"Baking Goods\", \"Meat\", \"Canned\", \"Meat\", \"Frozen Foods\", \"Baking Goods\", \"Fruits and Vegetables\", \"Meat\", \"Household\", \"Household\", \"Household\", \"Health and Hygiene\", \"Breads\", \"Household\", \"Others\", \"Baking Goods\", \"Health and Hygiene\", \"Baking Goods\", \"Breads\", \"Hard Drinks\", \"Snack Foods\", \"Dairy\", \"Baking Goods\", \"Snack Foods\", \"Snack Foods\", \"Frozen Foods\", \"Frozen Foods\", \"Frozen Foods\", \"Fruits and Vegetables\", \"Dairy\", \"Snack Foods\", \"Snack Foods\", \"Dairy\", \"Frozen Foods\", \"Canned\", \"Baking Goods\", \"Starchy Foods\", \"Snack Foods\", \"Frozen Foods\", \"Breads\", \"Frozen Foods\", \"Meat\", \"Snack Foods\", \"Household\", \"Household\", \"Fruits and Vegetables\", \"Dairy\", \"Breads\", \"Starchy Foods\", \"Fruits and Vegetables\", \"Fruits and Vegetables\", \"Dairy\", \"Fruits and Vegetables\", \"Meat\", \"Dairy\", \"Fruits and Vegetables\", \"Baking Goods\", \"Meat\", \"Frozen Foods\", \"Hard Drinks\", \"Canned\", \"Fruits and Vegetables\", \"Others\", \"Snack Foods\", \"Dairy\", \"Health and Hygiene\", \"Health and Hygiene\", \"Canned\", \"Fruits and Vegetables\", \"Fruits and Vegetables\", \"Fruits and Vegetables\", \"Health and Hygiene\", \"Household\", \"Snack Foods\", \"Canned\", \"Household\", \"Dairy\", \"Dairy\", \"Starchy Foods\", \"Starchy Foods\", \"Canned\", \"Health and Hygiene\", \"Frozen Foods\", \"Soft Drinks\", \"Dairy\", \"Household\", \"Meat\", \"Household\", \"Soft Drinks\", \"Dairy\", \"Breads\", \"Canned\", \"Frozen Foods\", \"Baking Goods\", \"Soft Drinks\", \"Frozen Foods\", \"Fruits and Vegetables\", \"Dairy\", \"Frozen Foods\", \"Soft Drinks\", \"Frozen Foods\", \"Snack Foods\", \"Snack Foods\", \"Fruits and Vegetables\", \"Seafood\", \"Meat\", \"Baking Goods\", \"Frozen Foods\", \"Dairy\", \"Starchy Foods\", \"Frozen Foods\", \"Frozen Foods\", \"Dairy\", \"Frozen Foods\", \"Hard Drinks\", \"Snack Foods\", \"Snack Foods\", \"Household\", \"Snack Foods\", \"Canned\", \"Frozen Foods\", \"Canned\", \"Hard Drinks\", \"Snack Foods\", \"Household\", \"Household\", \"Household\", \"Baking Goods\", \"Snack Foods\", \"Canned\", \"Starchy Foods\", \"Breads\", \"Fruits and Vegetables\", \"Baking Goods\", \"Canned\", \"Snack Foods\", \"Dairy\", \"Meat\", \"Breakfast\", \"Health and Hygiene\", \"Dairy\", \"Frozen Foods\", \"Fruits and Vegetables\", \"Household\", \"Hard Drinks\", \"Baking Goods\", \"Soft Drinks\", \"Canned\", \"Dairy\", \"Frozen Foods\", \"Baking Goods\", \"Snack Foods\", \"Baking Goods\", \"Household\", \"Canned\", \"Meat\", \"Snack Foods\", \"Seafood\", \"Fruits and Vegetables\", \"Dairy\", \"Soft Drinks\", \"Fruits and Vegetables\", \"Snack Foods\", \"Household\", \"Meat\", \"Fruits and Vegetables\", \"Frozen Foods\", \"Dairy\", \"Fruits and Vegetables\", \"Canned\", \"Hard Drinks\", \"Soft Drinks\", \"Snack Foods\", \"Breads\", \"Snack Foods\", \"Fruits and Vegetables\", \"Household\", \"Dairy\", \"Breakfast\", \"Fruits and Vegetables\", \"Snack Foods\", \"Dairy\", \"Frozen Foods\", \"Hard Drinks\", \"Snack Foods\", \"Meat\", \"Household\", \"Canned\", \"Dairy\", \"Snack Foods\", \"Meat\", \"Dairy\", \"Household\", \"Others\", \"Soft Drinks\", \"Snack Foods\", \"Fruits and Vegetables\", \"Others\", \"Snack Foods\", \"Snack Foods\", \"Household\", \"Snack Foods\", \"Meat\", \"Frozen Foods\", \"Meat\", \"Others\", \"Fruits and Vegetables\", \"Meat\", \"Health and Hygiene\", \"Others\", \"Fruits and Vegetables\", \"Canned\", \"Breads\", \"Snack Foods\", \"Baking Goods\", \"Fruits and Vegetables\", \"Meat\", \"Others\", \"Frozen Foods\", \"Canned\", \"Household\", \"Household\", \"Household\", \"Baking Goods\", \"Seafood\", \"Baking Goods\", \"Soft Drinks\", \"Breads\", \"Snack Foods\", \"Soft Drinks\", \"Household\", \"Dairy\", \"Soft Drinks\", \"Health and Hygiene\", \"Snack Foods\", \"Health and Hygiene\", \"Fruits and Vegetables\", \"Meat\", \"Soft Drinks\", \"Frozen Foods\", \"Dairy\", \"Breakfast\", \"Health and Hygiene\", \"Canned\", \"Soft Drinks\", \"Soft Drinks\", \"Household\", \"Household\", \"Canned\", \"Meat\", \"Canned\", \"Baking Goods\", \"Baking Goods\", \"Frozen Foods\", \"Fruits and Vegetables\", \"Household\", \"Soft Drinks\", \"Soft Drinks\", \"Snack Foods\", \"Fruits and Vegetables\", \"Dairy\", \"Hard Drinks\", \"Others\", \"Snack Foods\", \"Snack Foods\", \"Household\", \"Snack Foods\", \"Baking Goods\", \"Fruits and Vegetables\", \"Baking Goods\", \"Canned\", \"Baking Goods\", \"Baking Goods\", \"Fruits and Vegetables\", \"Fruits and Vegetables\", \"Meat\", \"Soft Drinks\", \"Breads\", \"Canned\", \"Snack Foods\", \"Frozen Foods\", \"Baking Goods\", \"Fruits and Vegetables\", \"Dairy\", \"Fruits and Vegetables\", \"Fruits and Vegetables\", \"Canned\", \"Health and Hygiene\", \"Breads\", \"Snack Foods\", \"Meat\", \"Seafood\", \"Soft Drinks\", \"Household\", \"Dairy\", \"Household\", \"Baking Goods\", \"Fruits and Vegetables\", \"Fruits and Vegetables\", \"Fruits and Vegetables\", \"Frozen Foods\", \"Breads\", \"Snack Foods\", \"Breakfast\", \"Meat\", \"Canned\", \"Soft Drinks\", \"Health and Hygiene\", \"Snack Foods\", \"Hard Drinks\", \"Health and Hygiene\", \"Frozen Foods\", \"Hard Drinks\", \"Snack Foods\", \"Household\", \"Frozen Foods\", \"Snack Foods\", \"Snack Foods\", \"Soft Drinks\", \"Dairy\", \"Snack Foods\", \"Household\", \"Baking Goods\", \"Snack Foods\", \"Frozen Foods\", \"Fruits and Vegetables\", \"Health and Hygiene\", \"Dairy\", \"Health and Hygiene\", \"Dairy\", \"Frozen Foods\", \"Starchy Foods\", \"Hard Drinks\", \"Fruits and Vegetables\", \"Meat\", \"Fruits and Vegetables\", \"Dairy\", \"Baking Goods\", \"Others\", \"Snack Foods\", \"Health and Hygiene\", \"Frozen Foods\", \"Snack Foods\", \"Household\", \"Fruits and Vegetables\", \"Fruits and Vegetables\", \"Starchy Foods\", \"Hard Drinks\", \"Fruits and Vegetables\", \"Dairy\", \"Fruits and Vegetables\", \"Health and Hygiene\", \"Fruits and Vegetables\", \"Frozen Foods\", \"Health and Hygiene\", \"Health and Hygiene\", \"Canned\", \"Breakfast\", \"Others\", \"Breads\", \"Dairy\", \"Frozen Foods\", \"Fruits and Vegetables\", \"Snack Foods\", \"Canned\", \"Baking Goods\", \"Fruits and Vegetables\", \"Dairy\", \"Canned\", \"Soft Drinks\", \"Frozen Foods\", \"Household\", \"Canned\", \"Frozen Foods\", \"Household\", \"Canned\", \"Health and Hygiene\", \"Canned\", \"Fruits and Vegetables\", \"Frozen Foods\", \"Health and Hygiene\", \"Household\", \"Household\", \"Frozen Foods\", \"Frozen Foods\", \"Hard Drinks\", \"Fruits and Vegetables\", \"Fruits and Vegetables\", \"Canned\", \"Snack Foods\", \"Fruits and Vegetables\", \"Household\", \"Dairy\", \"Snack Foods\", \"Starchy Foods\", \"Soft Drinks\", \"Fruits and Vegetables\", \"Soft Drinks\", \"Breads\", \"Soft Drinks\", \"Soft Drinks\", \"Meat\", \"Snack Foods\", \"Meat\", \"Canned\", \"Baking Goods\", \"Snack Foods\", \"Starchy Foods\", \"Snack Foods\", \"Frozen Foods\", \"Breakfast\", \"Household\", \"Health and Hygiene\", \"Breakfast\", \"Baking Goods\", \"Breakfast\", \"Frozen Foods\", \"Health and Hygiene\", \"Frozen Foods\", \"Fruits and Vegetables\", \"Canned\", \"Canned\", \"Breads\", \"Household\", \"Fruits and Vegetables\", \"Household\", \"Household\", \"Snack Foods\", \"Fruits and Vegetables\", \"Fruits and Vegetables\", \"Snack Foods\", \"Snack Foods\", \"Household\", \"Breads\", \"Soft Drinks\", \"Frozen Foods\", \"Fruits and Vegetables\", \"Baking Goods\", \"Health and Hygiene\", \"Baking Goods\", \"Meat\", \"Breads\", \"Canned\", \"Baking Goods\", \"Fruits and Vegetables\", \"Breads\", \"Fruits and Vegetables\", \"Frozen Foods\", \"Snack Foods\", \"Canned\", \"Household\", \"Dairy\", \"Hard Drinks\", \"Canned\", \"Household\", \"Seafood\", \"Hard Drinks\", \"Fruits and Vegetables\", \"Health and Hygiene\", \"Baking Goods\", \"Snack Foods\", \"Frozen Foods\", \"Household\", \"Frozen Foods\", \"Breads\", \"Health and Hygiene\", \"Breads\", \"Meat\", \"Household\", \"Breads\", \"Snack Foods\", \"Frozen Foods\", \"Baking Goods\", \"Fruits and Vegetables\", \"Snack Foods\", \"Baking Goods\", \"Household\", \"Snack Foods\", \"Frozen Foods\", \"Hard Drinks\", \"Baking Goods\", \"Health and Hygiene\", \"Fruits and Vegetables\", \"Frozen Foods\", \"Soft Drinks\", \"Snack Foods\", \"Snack Foods\", \"Frozen Foods\", \"Soft Drinks\", \"Household\", \"Snack Foods\", \"Canned\", \"Canned\", \"Snack Foods\", \"Baking Goods\", \"Soft Drinks\", \"Fruits and Vegetables\", \"Fruits and Vegetables\", \"Dairy\", \"Fruits and Vegetables\", \"Canned\", \"Fruits and Vegetables\", \"Dairy\", \"Health and Hygiene\", \"Household\", \"Snack Foods\", \"Hard Drinks\", \"Dairy\", \"Breads\", \"Meat\", \"Soft Drinks\", \"Meat\", \"Frozen Foods\", \"Frozen Foods\", \"Frozen Foods\", \"Fruits and Vegetables\", \"Hard Drinks\", \"Starchy Foods\", \"Snack Foods\", \"Health and Hygiene\", \"Others\", \"Household\", \"Fruits and Vegetables\", \"Household\", \"Baking Goods\", \"Dairy\", \"Snack Foods\", \"Canned\", \"Frozen Foods\", \"Canned\", \"Snack Foods\", \"Canned\", \"Dairy\", \"Meat\", \"Baking Goods\", \"Household\", \"Frozen Foods\", \"Canned\", \"Snack Foods\", \"Fruits and Vegetables\", \"Baking Goods\", \"Frozen Foods\", \"Fruits and Vegetables\", \"Canned\", \"Health and Hygiene\", \"Breakfast\", \"Fruits and Vegetables\", \"Dairy\", \"Snack Foods\", \"Health and Hygiene\", \"Snack Foods\", \"Snack Foods\", \"Baking Goods\", \"Fruits and Vegetables\", \"Household\", \"Fruits and Vegetables\", \"Meat\", \"Fruits and Vegetables\", \"Soft Drinks\", \"Canned\", \"Snack Foods\", \"Breads\", \"Soft Drinks\", \"Fruits and Vegetables\", \"Baking Goods\", \"Baking Goods\", \"Snack Foods\", \"Fruits and Vegetables\", \"Snack Foods\", \"Fruits and Vegetables\", \"Dairy\", \"Household\", \"Breads\", \"Fruits and Vegetables\", \"Snack Foods\", \"Fruits and Vegetables\", \"Hard Drinks\", \"Frozen Foods\", \"Household\", \"Canned\", \"Snack Foods\", \"Snack Foods\", \"Household\", \"Frozen Foods\", \"Breads\", \"Fruits and Vegetables\", \"Dairy\", \"Household\", \"Canned\", \"Dairy\", \"Canned\", \"Baking Goods\", \"Baking Goods\", \"Breads\", \"Baking Goods\", \"Dairy\", \"Baking Goods\", \"Canned\", \"Baking Goods\", \"Health and Hygiene\", \"Snack Foods\", \"Snack Foods\", \"Canned\", \"Household\", \"Baking Goods\", \"Baking Goods\", \"Dairy\", \"Snack Foods\", \"Meat\", \"Snack Foods\", \"Canned\", \"Snack Foods\", \"Household\", \"Frozen Foods\", \"Baking Goods\", \"Canned\", \"Breads\", \"Frozen Foods\", \"Meat\", \"Dairy\", \"Breads\", \"Fruits and Vegetables\", \"Snack Foods\", \"Health and Hygiene\", \"Dairy\", \"Baking Goods\", \"Canned\", \"Household\", \"Snack Foods\", \"Soft Drinks\", \"Fruits and Vegetables\", \"Fruits and Vegetables\", \"Others\", \"Baking Goods\", \"Snack Foods\", \"Household\", \"Snack Foods\", \"Baking Goods\", \"Dairy\", \"Baking Goods\", \"Household\", \"Meat\", \"Fruits and Vegetables\", \"Fruits and Vegetables\", \"Meat\", \"Snack Foods\", \"Health and Hygiene\", \"Frozen Foods\", \"Frozen Foods\", \"Household\", \"Frozen Foods\", \"Fruits and Vegetables\", \"Fruits and Vegetables\", \"Fruits and Vegetables\", \"Dairy\", \"Baking Goods\", \"Household\", \"Household\", \"Frozen Foods\", \"Snack Foods\", \"Fruits and Vegetables\", \"Fruits and Vegetables\", \"Snack Foods\", \"Fruits and Vegetables\", \"Health and Hygiene\", \"Frozen Foods\", \"Frozen Foods\", \"Snack Foods\", \"Health and Hygiene\", \"Fruits and Vegetables\", \"Frozen Foods\", \"Dairy\", \"Fruits and Vegetables\", \"Snack Foods\", \"Frozen Foods\", \"Others\", \"Fruits and Vegetables\", \"Fruits and Vegetables\", \"Household\", \"Dairy\", \"Others\", \"Fruits and Vegetables\", \"Soft Drinks\", \"Dairy\", \"Baking Goods\", \"Breads\", \"Starchy Foods\", \"Health and Hygiene\", \"Canned\", \"Snack Foods\", \"Household\", \"Health and Hygiene\", \"Breads\", \"Canned\", \"Baking Goods\", \"Snack Foods\", \"Meat\", \"Household\", \"Meat\", \"Health and Hygiene\", \"Seafood\", \"Health and Hygiene\", \"Frozen Foods\", \"Canned\", \"Seafood\", \"Meat\", \"Dairy\", \"Frozen Foods\", \"Canned\", \"Baking Goods\", \"Baking Goods\", \"Breakfast\", \"Hard Drinks\", \"Dairy\", \"Snack Foods\", \"Others\", \"Dairy\", \"Meat\", \"Snack Foods\", \"Canned\", \"Fruits and Vegetables\", \"Snack Foods\", \"Fruits and Vegetables\", \"Household\", \"Hard Drinks\", \"Soft Drinks\", \"Baking Goods\", \"Household\", \"Frozen Foods\", \"Household\", \"Baking Goods\", \"Snack Foods\", \"Fruits and Vegetables\", \"Fruits and Vegetables\", \"Household\", \"Dairy\", \"Health and Hygiene\", \"Snack Foods\", \"Household\", \"Canned\", \"Breads\", \"Breakfast\", \"Fruits and Vegetables\", \"Canned\", \"Fruits and Vegetables\", \"Hard Drinks\", \"Household\", \"Household\", \"Snack Foods\", \"Fruits and Vegetables\", \"Health and Hygiene\", \"Canned\", \"Fruits and Vegetables\", \"Soft Drinks\", \"Canned\", \"Canned\", \"Household\", \"Meat\", \"Meat\", \"Fruits and Vegetables\", \"Hard Drinks\", \"Snack Foods\", \"Frozen Foods\", \"Frozen Foods\", \"Meat\", \"Breads\", \"Household\", \"Fruits and Vegetables\", \"Fruits and Vegetables\", \"Snack Foods\", \"Meat\", \"Dairy\", \"Snack Foods\", \"Snack Foods\", \"Snack Foods\", \"Fruits and Vegetables\", \"Fruits and Vegetables\", \"Frozen Foods\", \"Dairy\", \"Fruits and Vegetables\", \"Frozen Foods\", \"Frozen Foods\", \"Meat\", \"Others\", \"Household\", \"Canned\", \"Fruits and Vegetables\", \"Dairy\", \"Soft Drinks\", \"Frozen Foods\", \"Snack Foods\", \"Health and Hygiene\", \"Baking Goods\", \"Soft Drinks\", \"Breakfast\", \"Household\", \"Household\", \"Fruits and Vegetables\", \"Snack Foods\", \"Snack Foods\", \"Frozen Foods\", \"Canned\", \"Household\", \"Dairy\", \"Fruits and Vegetables\", \"Snack Foods\", \"Seafood\", \"Fruits and Vegetables\", \"Fruits and Vegetables\", \"Fruits and Vegetables\", \"Fruits and Vegetables\", \"Soft Drinks\", \"Snack Foods\", \"Snack Foods\", \"Soft Drinks\", \"Hard Drinks\", \"Meat\", \"Snack Foods\", \"Breads\", \"Household\", \"Frozen Foods\", \"Household\", \"Fruits and Vegetables\", \"Snack Foods\", \"Household\", \"Meat\", \"Snack Foods\", \"Dairy\", \"Canned\", \"Fruits and Vegetables\", \"Health and Hygiene\", \"Frozen Foods\", \"Health and Hygiene\", \"Baking Goods\", \"Breads\", \"Canned\", \"Starchy Foods\", \"Household\", \"Canned\", \"Soft Drinks\", \"Soft Drinks\", \"Dairy\", \"Breakfast\", \"Snack Foods\", \"Dairy\", \"Snack Foods\", \"Health and Hygiene\", \"Seafood\", \"Baking Goods\", \"Fruits and Vegetables\", \"Canned\", \"Snack Foods\", \"Fruits and Vegetables\", \"Soft Drinks\", \"Meat\", \"Others\", \"Snack Foods\", \"Snack Foods\", \"Health and Hygiene\", \"Fruits and Vegetables\", \"Dairy\", \"Fruits and Vegetables\", \"Frozen Foods\", \"Frozen Foods\", \"Household\", \"Snack Foods\", \"Canned\", \"Dairy\", \"Snack Foods\", \"Canned\", \"Fruits and Vegetables\", \"Snack Foods\", \"Household\", \"Breads\", \"Health and Hygiene\", \"Breads\", \"Health and Hygiene\", \"Health and Hygiene\", \"Dairy\", \"Snack Foods\", \"Dairy\", \"Household\", \"Baking Goods\", \"Snack Foods\", \"Health and Hygiene\", \"Canned\", \"Hard Drinks\", \"Soft Drinks\", \"Household\", \"Dairy\", \"Household\", \"Household\", \"Fruits and Vegetables\", \"Frozen Foods\", \"Meat\", \"Starchy Foods\", \"Breakfast\", \"Frozen Foods\", \"Baking Goods\", \"Dairy\", \"Household\", \"Household\", \"Soft Drinks\", \"Fruits and Vegetables\", \"Household\", \"Seafood\", \"Soft Drinks\", \"Frozen Foods\", \"Frozen Foods\", \"Starchy Foods\", \"Household\", \"Dairy\", \"Fruits and Vegetables\", \"Snack Foods\", \"Dairy\", \"Frozen Foods\", \"Canned\", \"Frozen Foods\", \"Breads\", \"Health and Hygiene\", \"Others\", \"Dairy\", \"Dairy\", \"Frozen Foods\", \"Snack Foods\", \"Frozen Foods\", \"Dairy\", \"Meat\", \"Fruits and Vegetables\", \"Meat\", \"Household\", \"Dairy\", \"Dairy\", \"Snack Foods\", \"Breads\", \"Fruits and Vegetables\", \"Health and Hygiene\", \"Canned\", \"Dairy\", \"Baking Goods\", \"Baking Goods\", \"Frozen Foods\", \"Canned\", \"Snack Foods\", \"Health and Hygiene\", \"Household\", \"Hard Drinks\", \"Household\", \"Fruits and Vegetables\", \"Soft Drinks\", \"Fruits and Vegetables\", \"Fruits and Vegetables\", \"Snack Foods\", \"Household\", \"Starchy Foods\", \"Frozen Foods\", \"Snack Foods\", \"Baking Goods\", \"Household\", \"Household\", \"Snack Foods\", \"Fruits and Vegetables\", \"Snack Foods\", \"Canned\", \"Soft Drinks\", \"Fruits and Vegetables\", \"Starchy Foods\", \"Health and Hygiene\", \"Dairy\", \"Canned\", \"Soft Drinks\", \"Dairy\", \"Fruits and Vegetables\", \"Baking Goods\", \"Snack Foods\", \"Baking Goods\", \"Meat\", \"Meat\", \"Health and Hygiene\", \"Health and Hygiene\", \"Fruits and Vegetables\", \"Snack Foods\", \"Soft Drinks\", \"Snack Foods\", \"Household\", \"Canned\", \"Snack Foods\", \"Baking Goods\", \"Frozen Foods\", \"Snack Foods\", \"Frozen Foods\", \"Fruits and Vegetables\", \"Soft Drinks\", \"Fruits and Vegetables\", \"Frozen Foods\", \"Seafood\", \"Soft Drinks\", \"Canned\", \"Baking Goods\", \"Dairy\", \"Fruits and Vegetables\", \"Fruits and Vegetables\", \"Hard Drinks\", \"Household\", \"Frozen Foods\", \"Household\", \"Health and Hygiene\", \"Breads\", \"Others\", \"Frozen Foods\", \"Others\", \"Health and Hygiene\", \"Household\", \"Baking Goods\", \"Baking Goods\", \"Fruits and Vegetables\", \"Canned\", \"Frozen Foods\", \"Snack Foods\", \"Fruits and Vegetables\", \"Breads\", \"Fruits and Vegetables\", \"Fruits and Vegetables\", \"Others\", \"Meat\", \"Snack Foods\", \"Canned\", \"Meat\", \"Hard Drinks\", \"Health and Hygiene\", \"Soft Drinks\", \"Dairy\", \"Health and Hygiene\", \"Soft Drinks\", \"Dairy\", \"Canned\", \"Household\", \"Fruits and Vegetables\", \"Snack Foods\", \"Fruits and Vegetables\", \"Others\", \"Frozen Foods\", \"Breads\", \"Soft Drinks\", \"Household\", \"Canned\", \"Soft Drinks\", \"Snack Foods\", \"Fruits and Vegetables\", \"Fruits and Vegetables\", \"Snack Foods\", \"Fruits and Vegetables\", \"Health and Hygiene\", \"Household\", \"Dairy\", \"Canned\", \"Fruits and Vegetables\", \"Starchy Foods\", \"Snack Foods\", \"Snack Foods\", \"Hard Drinks\", \"Frozen Foods\", \"Canned\", \"Household\", \"Household\", \"Canned\", \"Dairy\", \"Snack Foods\", \"Fruits and Vegetables\", \"Canned\", \"Household\", \"Frozen Foods\", \"Health and Hygiene\", \"Baking Goods\", \"Dairy\", \"Breakfast\", \"Health and Hygiene\", \"Fruits and Vegetables\", \"Fruits and Vegetables\", \"Baking Goods\", \"Frozen Foods\", \"Baking Goods\", \"Snack Foods\", \"Frozen Foods\", \"Household\", \"Snack Foods\", \"Fruits and Vegetables\", \"Starchy Foods\", \"Snack Foods\", \"Dairy\", \"Others\", \"Fruits and Vegetables\", \"Baking Goods\", \"Fruits and Vegetables\", \"Frozen Foods\", \"Meat\", \"Canned\", \"Snack Foods\", \"Baking Goods\", \"Starchy Foods\", \"Snack Foods\", \"Snack Foods\", \"Soft Drinks\", \"Dairy\", \"Snack Foods\", \"Snack Foods\", \"Dairy\", \"Baking Goods\", \"Health and Hygiene\", \"Health and Hygiene\", \"Snack Foods\", \"Household\", \"Fruits and Vegetables\", \"Snack Foods\", \"Snack Foods\", \"Dairy\", \"Canned\", \"Seafood\", \"Starchy Foods\", \"Dairy\", \"Snack Foods\", \"Health and Hygiene\", \"Snack Foods\", \"Fruits and Vegetables\", \"Canned\", \"Frozen Foods\", \"Meat\", \"Canned\", \"Baking Goods\", \"Breakfast\", \"Baking Goods\", \"Household\", \"Frozen Foods\", \"Household\", \"Snack Foods\", \"Canned\", \"Snack Foods\", \"Snack Foods\", \"Dairy\", \"Snack Foods\", \"Seafood\", \"Canned\", \"Dairy\", \"Baking Goods\", \"Frozen Foods\", \"Household\", \"Frozen Foods\", \"Frozen Foods\", \"Baking Goods\", \"Frozen Foods\", \"Household\", \"Breakfast\", \"Dairy\", \"Meat\", \"Snack Foods\", \"Snack Foods\", \"Household\", \"Frozen Foods\", \"Fruits and Vegetables\", \"Health and Hygiene\", \"Dairy\", \"Meat\", \"Breads\", \"Soft Drinks\", \"Frozen Foods\", \"Baking Goods\", \"Frozen Foods\", \"Dairy\", \"Frozen Foods\", \"Household\", \"Household\", \"Soft Drinks\", \"Household\", \"Dairy\", \"Soft Drinks\", \"Frozen Foods\", \"Fruits and Vegetables\", \"Snack Foods\", \"Frozen Foods\", \"Frozen Foods\", \"Frozen Foods\", \"Frozen Foods\", \"Dairy\", \"Baking Goods\", \"Household\", \"Snack Foods\", \"Household\", \"Household\", \"Canned\", \"Fruits and Vegetables\", \"Starchy Foods\", \"Snack Foods\", \"Baking Goods\", \"Household\", \"Fruits and Vegetables\", \"Household\", \"Household\", \"Canned\", \"Frozen Foods\", \"Household\", \"Soft Drinks\", \"Canned\", \"Breads\", \"Dairy\", \"Canned\", \"Snack Foods\", \"Breads\", \"Health and Hygiene\", \"Snack Foods\", \"Baking Goods\", \"Fruits and Vegetables\", \"Fruits and Vegetables\", \"Fruits and Vegetables\", \"Snack Foods\", \"Fruits and Vegetables\", \"Fruits and Vegetables\", \"Snack Foods\", \"Baking Goods\", \"Household\", \"Dairy\", \"Hard Drinks\", \"Hard Drinks\", \"Frozen Foods\", \"Household\", \"Health and Hygiene\", \"Household\", \"Snack Foods\", \"Snack Foods\", \"Household\", \"Frozen Foods\", \"Fruits and Vegetables\", \"Snack Foods\", \"Breads\", \"Canned\", \"Health and Hygiene\", \"Canned\", \"Fruits and Vegetables\", \"Baking Goods\", \"Dairy\", \"Baking Goods\", \"Baking Goods\", \"Fruits and Vegetables\", \"Frozen Foods\", \"Household\", \"Hard Drinks\", \"Breads\", \"Household\", \"Dairy\", \"Household\", \"Baking Goods\", \"Fruits and Vegetables\", \"Health and Hygiene\", \"Fruits and Vegetables\", \"Fruits and Vegetables\", \"Snack Foods\", \"Snack Foods\", \"Health and Hygiene\", \"Household\", \"Household\", \"Dairy\", \"Fruits and Vegetables\", \"Soft Drinks\", \"Frozen Foods\", \"Hard Drinks\", \"Breads\", \"Dairy\", \"Meat\", \"Starchy Foods\", \"Soft Drinks\", \"Health and Hygiene\", \"Health and Hygiene\", \"Baking Goods\", \"Baking Goods\", \"Fruits and Vegetables\", \"Baking Goods\", \"Fruits and Vegetables\", \"Soft Drinks\", \"Household\", \"Snack Foods\", \"Fruits and Vegetables\", \"Baking Goods\", \"Frozen Foods\", \"Baking Goods\", \"Canned\", \"Fruits and Vegetables\", \"Frozen Foods\", \"Meat\", \"Fruits and Vegetables\", \"Frozen Foods\", \"Health and Hygiene\", \"Others\", \"Others\", \"Meat\", \"Frozen Foods\", \"Frozen Foods\", \"Dairy\", \"Household\", \"Frozen Foods\", \"Fruits and Vegetables\", \"Soft Drinks\", \"Snack Foods\", \"Snack Foods\", \"Baking Goods\", \"Snack Foods\", \"Household\", \"Snack Foods\", \"Fruits and Vegetables\", \"Baking Goods\", \"Snack Foods\", \"Fruits and Vegetables\", \"Household\", \"Fruits and Vegetables\", \"Household\", \"Fruits and Vegetables\", \"Snack Foods\", \"Baking Goods\", \"Baking Goods\", \"Frozen Foods\", \"Frozen Foods\", \"Canned\", \"Hard Drinks\", \"Frozen Foods\", \"Frozen Foods\", \"Meat\", \"Starchy Foods\", \"Meat\", \"Fruits and Vegetables\", \"Meat\", \"Fruits and Vegetables\", \"Fruits and Vegetables\", \"Soft Drinks\", \"Others\", \"Frozen Foods\", \"Snack Foods\", \"Household\", \"Breads\", \"Canned\", \"Frozen Foods\", \"Meat\", \"Frozen Foods\", \"Baking Goods\", \"Frozen Foods\", \"Frozen Foods\", \"Health and Hygiene\", \"Frozen Foods\", \"Baking Goods\", \"Meat\", \"Snack Foods\", \"Fruits and Vegetables\", \"Hard Drinks\", \"Fruits and Vegetables\", \"Frozen Foods\", \"Frozen Foods\", \"Soft Drinks\", \"Dairy\", \"Baking Goods\", \"Snack Foods\", \"Fruits and Vegetables\", \"Health and Hygiene\", \"Snack Foods\", \"Breads\", \"Household\", \"Household\", \"Fruits and Vegetables\", \"Baking Goods\", \"Fruits and Vegetables\", \"Dairy\", \"Baking Goods\", \"Dairy\", \"Meat\", \"Fruits and Vegetables\", \"Soft Drinks\", \"Household\", \"Household\", \"Canned\", \"Dairy\", \"Canned\", \"Canned\", \"Snack Foods\", \"Fruits and Vegetables\", \"Dairy\", \"Breads\", \"Snack Foods\", \"Dairy\", \"Canned\", \"Canned\", \"Snack Foods\", \"Meat\", \"Health and Hygiene\", \"Meat\", \"Household\", \"Canned\", \"Canned\", \"Canned\", \"Meat\", \"Baking Goods\", \"Soft Drinks\", \"Hard Drinks\", \"Starchy Foods\", \"Snack Foods\", \"Seafood\", \"Canned\", \"Baking Goods\", \"Snack Foods\", \"Fruits and Vegetables\", \"Canned\", \"Baking Goods\", \"Household\", \"Household\", \"Baking Goods\", \"Household\", \"Snack Foods\", \"Health and Hygiene\", \"Fruits and Vegetables\", \"Others\", \"Household\", \"Fruits and Vegetables\", \"Snack Foods\", \"Health and Hygiene\", \"Breads\", \"Snack Foods\", \"Canned\", \"Snack Foods\", \"Dairy\", \"Household\", \"Dairy\", \"Snack Foods\", \"Hard Drinks\", \"Health and Hygiene\", \"Meat\", \"Canned\", \"Soft Drinks\", \"Soft Drinks\", \"Fruits and Vegetables\", \"Household\", \"Health and Hygiene\", \"Breakfast\", \"Fruits and Vegetables\", \"Frozen Foods\", \"Others\", \"Health and Hygiene\", \"Baking Goods\", \"Frozen Foods\", \"Canned\", \"Household\", \"Snack Foods\", \"Hard Drinks\", \"Fruits and Vegetables\", \"Health and Hygiene\", \"Snack Foods\", \"Health and Hygiene\", \"Meat\", \"Dairy\", \"Fruits and Vegetables\", \"Others\", \"Health and Hygiene\", \"Baking Goods\", \"Dairy\", \"Dairy\", \"Breads\", \"Snack Foods\", \"Health and Hygiene\", \"Frozen Foods\", \"Fruits and Vegetables\", \"Fruits and Vegetables\", \"Starchy Foods\", \"Household\", \"Dairy\", \"Health and Hygiene\", \"Starchy Foods\", \"Frozen Foods\", \"Baking Goods\", \"Baking Goods\", \"Snack Foods\", \"Frozen Foods\", \"Snack Foods\", \"Fruits and Vegetables\", \"Fruits and Vegetables\", \"Seafood\", \"Breads\", \"Snack Foods\", \"Household\", \"Breakfast\", \"Health and Hygiene\", \"Soft Drinks\", \"Soft Drinks\", \"Snack Foods\", \"Health and Hygiene\", \"Fruits and Vegetables\", \"Breads\", \"Dairy\", \"Dairy\", \"Fruits and Vegetables\", \"Snack Foods\", \"Household\", \"Meat\", \"Baking Goods\", \"Household\", \"Soft Drinks\", \"Canned\", \"Snack Foods\", \"Frozen Foods\", \"Frozen Foods\", \"Dairy\", \"Canned\", \"Breads\", \"Household\", \"Fruits and Vegetables\", \"Breads\", \"Fruits and Vegetables\", \"Fruits and Vegetables\", \"Health and Hygiene\", \"Frozen Foods\", \"Dairy\", \"Dairy\", \"Canned\", \"Breads\", \"Dairy\", \"Meat\", \"Hard Drinks\", \"Fruits and Vegetables\", \"Dairy\", \"Hard Drinks\", \"Baking Goods\", \"Frozen Foods\", \"Frozen Foods\", \"Household\", \"Fruits and Vegetables\", \"Snack Foods\", \"Health and Hygiene\", \"Meat\", \"Snack Foods\", \"Household\", \"Snack Foods\", \"Meat\", \"Fruits and Vegetables\", \"Canned\", \"Baking Goods\", \"Dairy\", \"Health and Hygiene\", \"Soft Drinks\", \"Canned\", \"Dairy\", \"Dairy\", \"Health and Hygiene\", \"Canned\", \"Fruits and Vegetables\", \"Fruits and Vegetables\", \"Baking Goods\", \"Snack Foods\", \"Dairy\", \"Frozen Foods\", \"Snack Foods\", \"Snack Foods\", \"Fruits and Vegetables\", \"Frozen Foods\", \"Snack Foods\", \"Others\", \"Frozen Foods\", \"Hard Drinks\", \"Frozen Foods\", \"Snack Foods\", \"Soft Drinks\", \"Starchy Foods\", \"Fruits and Vegetables\", \"Fruits and Vegetables\", \"Fruits and Vegetables\", \"Snack Foods\", \"Meat\", \"Fruits and Vegetables\", \"Baking Goods\", \"Others\", \"Soft Drinks\", \"Snack Foods\", \"Snack Foods\", \"Frozen Foods\", \"Snack Foods\", \"Snack Foods\", \"Others\", \"Fruits and Vegetables\", \"Soft Drinks\", \"Health and Hygiene\", \"Frozen Foods\", \"Breakfast\", \"Breads\", \"Baking Goods\", \"Soft Drinks\", \"Canned\", \"Health and Hygiene\", \"Health and Hygiene\", \"Soft Drinks\", \"Snack Foods\", \"Dairy\", \"Dairy\", \"Frozen Foods\", \"Fruits and Vegetables\", \"Canned\", \"Household\", \"Starchy Foods\", \"Snack Foods\", \"Dairy\", \"Canned\", \"Meat\", \"Breakfast\", \"Frozen Foods\", \"Snack Foods\", \"Household\", \"Canned\", \"Snack Foods\", \"Household\", \"Canned\", \"Hard Drinks\", \"Fruits and Vegetables\", \"Baking Goods\", \"Canned\", \"Health and Hygiene\", \"Dairy\", \"Snack Foods\", \"Fruits and Vegetables\", \"Baking Goods\", \"Starchy Foods\", \"Starchy Foods\", \"Frozen Foods\", \"Canned\", \"Household\", \"Snack Foods\", \"Frozen Foods\", \"Others\", \"Frozen Foods\", \"Baking Goods\", \"Frozen Foods\", \"Snack Foods\", \"Meat\", \"Frozen Foods\", \"Hard Drinks\", \"Baking Goods\", \"Frozen Foods\", \"Health and Hygiene\", \"Baking Goods\", \"Frozen Foods\", \"Snack Foods\", \"Fruits and Vegetables\", \"Household\", \"Snack Foods\", \"Canned\", \"Breads\", \"Fruits and Vegetables\", \"Fruits and Vegetables\", \"Hard Drinks\", \"Canned\", \"Frozen Foods\", \"Fruits and Vegetables\", \"Baking Goods\", \"Frozen Foods\", \"Baking Goods\", \"Baking Goods\", \"Soft Drinks\", \"Snack Foods\", \"Breads\", \"Frozen Foods\", \"Canned\", \"Starchy Foods\", \"Frozen Foods\", \"Snack Foods\", \"Snack Foods\", \"Household\", \"Snack Foods\", \"Health and Hygiene\", \"Snack Foods\", \"Household\", \"Health and Hygiene\", \"Household\", \"Snack Foods\", \"Snack Foods\", \"Breads\", \"Fruits and Vegetables\", \"Frozen Foods\", \"Meat\", \"Health and Hygiene\", \"Household\", \"Dairy\", \"Fruits and Vegetables\", \"Household\", \"Snack Foods\", \"Snack Foods\", \"Snack Foods\", \"Fruits and Vegetables\", \"Fruits and Vegetables\", \"Fruits and Vegetables\", \"Dairy\", \"Canned\", \"Dairy\", \"Meat\", \"Dairy\", \"Dairy\", \"Household\", \"Others\", \"Frozen Foods\", \"Fruits and Vegetables\", \"Meat\", \"Canned\", \"Fruits and Vegetables\", \"Dairy\", \"Dairy\", \"Soft Drinks\", \"Dairy\", \"Meat\", \"Starchy Foods\", \"Household\", \"Hard Drinks\", \"Snack Foods\", \"Dairy\", \"Dairy\", \"Canned\", \"Frozen Foods\", \"Soft Drinks\", \"Dairy\", \"Household\", \"Baking Goods\", \"Health and Hygiene\", \"Fruits and Vegetables\", \"Health and Hygiene\", \"Starchy Foods\", \"Breads\", \"Snack Foods\", \"Dairy\", \"Dairy\", \"Dairy\", \"Baking Goods\", \"Dairy\", \"Frozen Foods\", \"Baking Goods\", \"Fruits and Vegetables\", \"Fruits and Vegetables\", \"Fruits and Vegetables\", \"Snack Foods\", \"Meat\", \"Fruits and Vegetables\", \"Seafood\", \"Soft Drinks\", \"Household\", \"Fruits and Vegetables\", \"Household\", \"Baking Goods\", \"Health and Hygiene\", \"Frozen Foods\", \"Baking Goods\", \"Seafood\", \"Baking Goods\", \"Baking Goods\", \"Starchy Foods\", \"Dairy\", \"Fruits and Vegetables\", \"Fruits and Vegetables\", \"Dairy\", \"Baking Goods\", \"Snack Foods\", \"Dairy\", \"Health and Hygiene\", \"Frozen Foods\", \"Frozen Foods\", \"Baking Goods\", \"Snack Foods\", \"Frozen Foods\", \"Fruits and Vegetables\", \"Snack Foods\", \"Frozen Foods\", \"Snack Foods\", \"Snack Foods\", \"Fruits and Vegetables\", \"Soft Drinks\", \"Others\", \"Canned\", \"Soft Drinks\", \"Baking Goods\", \"Breads\", \"Household\", \"Snack Foods\", \"Fruits and Vegetables\", \"Fruits and Vegetables\", \"Health and Hygiene\", \"Meat\", \"Frozen Foods\", \"Health and Hygiene\", \"Dairy\", \"Frozen Foods\", \"Snack Foods\", \"Soft Drinks\", \"Soft Drinks\", \"Snack Foods\", \"Frozen Foods\", \"Snack Foods\", \"Snack Foods\", \"Baking Goods\", \"Health and Hygiene\", \"Breads\", \"Fruits and Vegetables\", \"Health and Hygiene\", \"Household\", \"Baking Goods\", \"Household\", \"Baking Goods\", \"Snack Foods\", \"Meat\", \"Household\", \"Health and Hygiene\", \"Household\", \"Fruits and Vegetables\", \"Snack Foods\", \"Others\", \"Dairy\", \"Fruits and Vegetables\", \"Dairy\", \"Fruits and Vegetables\", \"Meat\", \"Household\", \"Soft Drinks\", \"Fruits and Vegetables\", \"Dairy\", \"Household\", \"Baking Goods\", \"Dairy\", \"Fruits and Vegetables\", \"Canned\", \"Health and Hygiene\", \"Meat\", \"Soft Drinks\", \"Canned\", \"Dairy\", \"Fruits and Vegetables\", \"Snack Foods\", \"Others\", \"Household\", \"Fruits and Vegetables\", \"Health and Hygiene\", \"Fruits and Vegetables\", \"Hard Drinks\", \"Canned\", \"Household\", \"Frozen Foods\", \"Baking Goods\", \"Household\", \"Fruits and Vegetables\", \"Meat\", \"Starchy Foods\", \"Household\", \"Dairy\", \"Meat\", \"Fruits and Vegetables\", \"Frozen Foods\", \"Breakfast\", \"Breads\", \"Soft Drinks\", \"Fruits and Vegetables\", \"Starchy Foods\", \"Health and Hygiene\", \"Frozen Foods\", \"Household\", \"Frozen Foods\", \"Fruits and Vegetables\", \"Dairy\", \"Baking Goods\", \"Household\", \"Baking Goods\", \"Snack Foods\", \"Snack Foods\", \"Household\", \"Household\", \"Snack Foods\", \"Household\", \"Snack Foods\", \"Fruits and Vegetables\", \"Household\", \"Fruits and Vegetables\", \"Fruits and Vegetables\", \"Breads\", \"Dairy\", \"Household\", \"Dairy\", \"Snack Foods\", \"Health and Hygiene\", \"Frozen Foods\", \"Household\", \"Household\", \"Frozen Foods\", \"Canned\", \"Baking Goods\", \"Others\", \"Fruits and Vegetables\", \"Household\", \"Snack Foods\", \"Household\", \"Health and Hygiene\", \"Health and Hygiene\", \"Frozen Foods\", \"Baking Goods\", \"Snack Foods\", \"Fruits and Vegetables\", \"Dairy\", \"Snack Foods\", \"Fruits and Vegetables\", \"Household\", \"Household\", \"Frozen Foods\", \"Dairy\", \"Baking Goods\", \"Household\", \"Hard Drinks\", \"Household\", \"Meat\", \"Frozen Foods\", \"Breakfast\", \"Snack Foods\", \"Frozen Foods\", \"Household\", \"Snack Foods\", \"Baking Goods\", \"Canned\", \"Canned\", \"Frozen Foods\", \"Others\", \"Frozen Foods\", \"Soft Drinks\", \"Health and Hygiene\", \"Frozen Foods\", \"Meat\", \"Snack Foods\", \"Soft Drinks\", \"Breads\", \"Fruits and Vegetables\", \"Snack Foods\", \"Hard Drinks\", \"Fruits and Vegetables\", \"Household\", \"Dairy\", \"Fruits and Vegetables\", \"Snack Foods\", \"Household\", \"Health and Hygiene\", \"Fruits and Vegetables\", \"Health and Hygiene\", \"Dairy\", \"Household\", \"Fruits and Vegetables\", \"Fruits and Vegetables\", \"Household\", \"Meat\", \"Health and Hygiene\", \"Fruits and Vegetables\", \"Frozen Foods\", \"Fruits and Vegetables\", \"Baking Goods\", \"Household\", \"Breakfast\", \"Canned\", \"Frozen Foods\", \"Baking Goods\", \"Fruits and Vegetables\", \"Snack Foods\", \"Soft Drinks\", \"Breakfast\", \"Breads\", \"Canned\", \"Canned\", \"Canned\", \"Starchy Foods\", \"Fruits and Vegetables\", \"Fruits and Vegetables\", \"Fruits and Vegetables\", \"Household\", \"Snack Foods\", \"Fruits and Vegetables\", \"Snack Foods\", \"Soft Drinks\", \"Health and Hygiene\", \"Canned\", \"Soft Drinks\", \"Household\", \"Fruits and Vegetables\", \"Fruits and Vegetables\", \"Snack Foods\", \"Household\", \"Baking Goods\", \"Baking Goods\", \"Others\", \"Household\", \"Frozen Foods\", \"Frozen Foods\", \"Household\", \"Canned\", \"Starchy Foods\", \"Household\", \"Starchy Foods\", \"Breakfast\", \"Health and Hygiene\", \"Breakfast\", \"Baking Goods\", \"Household\", \"Breads\", \"Fruits and Vegetables\", \"Dairy\", \"Health and Hygiene\", \"Household\", \"Household\", \"Fruits and Vegetables\", \"Household\", \"Dairy\", \"Household\", \"Snack Foods\", \"Household\", \"Soft Drinks\", \"Soft Drinks\", \"Baking Goods\", \"Snack Foods\", \"Snack Foods\", \"Meat\", \"Breads\", \"Fruits and Vegetables\", \"Frozen Foods\", \"Snack Foods\", \"Canned\", \"Baking Goods\", \"Household\", \"Dairy\", \"Frozen Foods\", \"Meat\", \"Meat\", \"Household\", \"Snack Foods\", \"Frozen Foods\", \"Breakfast\", \"Fruits and Vegetables\", \"Frozen Foods\", \"Fruits and Vegetables\", \"Soft Drinks\", \"Health and Hygiene\", \"Fruits and Vegetables\", \"Snack Foods\", \"Baking Goods\", \"Fruits and Vegetables\", \"Snack Foods\", \"Fruits and Vegetables\", \"Hard Drinks\", \"Frozen Foods\", \"Soft Drinks\", \"Canned\", \"Fruits and Vegetables\", \"Health and Hygiene\", \"Household\", \"Meat\", \"Snack Foods\", \"Soft Drinks\", \"Snack Foods\", \"Canned\", \"Snack Foods\", \"Meat\", \"Soft Drinks\", \"Hard Drinks\", \"Health and Hygiene\", \"Canned\", \"Fruits and Vegetables\", \"Household\", \"Frozen Foods\", \"Frozen Foods\", \"Dairy\", \"Seafood\", \"Canned\", \"Starchy Foods\", \"Breads\", \"Household\", \"Meat\", \"Health and Hygiene\", \"Household\", \"Baking Goods\", \"Baking Goods\", \"Others\", \"Fruits and Vegetables\", \"Fruits and Vegetables\", \"Meat\", \"Health and Hygiene\", \"Snack Foods\", \"Soft Drinks\", \"Health and Hygiene\", \"Fruits and Vegetables\", \"Baking Goods\", \"Frozen Foods\", \"Dairy\", \"Dairy\", \"Snack Foods\", \"Frozen Foods\", \"Fruits and Vegetables\", \"Dairy\", \"Others\", \"Snack Foods\", \"Canned\", \"Baking Goods\", \"Others\", \"Health and Hygiene\", \"Health and Hygiene\", \"Household\", \"Snack Foods\", \"Baking Goods\", \"Frozen Foods\", \"Snack Foods\", \"Snack Foods\", \"Frozen Foods\", \"Baking Goods\", \"Fruits and Vegetables\", \"Dairy\", \"Household\", \"Frozen Foods\", \"Fruits and Vegetables\", \"Dairy\", \"Canned\", \"Household\", \"Household\", \"Meat\", \"Others\", \"Fruits and Vegetables\", \"Canned\", \"Hard Drinks\", \"Soft Drinks\", \"Meat\", \"Breakfast\", \"Fruits and Vegetables\", \"Dairy\", \"Baking Goods\", \"Household\", \"Canned\", \"Fruits and Vegetables\", \"Canned\", \"Fruits and Vegetables\", \"Soft Drinks\", \"Frozen Foods\", \"Frozen Foods\", \"Health and Hygiene\", \"Soft Drinks\", \"Fruits and Vegetables\", \"Snack Foods\", \"Frozen Foods\", \"Frozen Foods\", \"Canned\", \"Fruits and Vegetables\", \"Household\", \"Household\", \"Canned\", \"Frozen Foods\", \"Frozen Foods\", \"Household\", \"Breakfast\", \"Household\", \"Snack Foods\", \"Household\", \"Fruits and Vegetables\", \"Hard Drinks\", \"Snack Foods\", \"Fruits and Vegetables\", \"Fruits and Vegetables\", \"Health and Hygiene\", \"Household\", \"Household\", \"Starchy Foods\", \"Snack Foods\", \"Household\", \"Canned\", \"Baking Goods\", \"Household\", \"Snack Foods\", \"Household\", \"Snack Foods\", \"Others\", \"Health and Hygiene\", \"Household\", \"Frozen Foods\", \"Starchy Foods\", \"Soft Drinks\", \"Meat\", \"Breads\", \"Household\", \"Snack Foods\", \"Dairy\", \"Dairy\", \"Others\", \"Snack Foods\", \"Frozen Foods\", \"Snack Foods\", \"Baking Goods\", \"Frozen Foods\", \"Health and Hygiene\", \"Fruits and Vegetables\", \"Snack Foods\", \"Soft Drinks\", \"Frozen Foods\", \"Dairy\", \"Fruits and Vegetables\", \"Soft Drinks\", \"Household\", \"Snack Foods\", \"Frozen Foods\", \"Starchy Foods\", \"Breads\", \"Snack Foods\", \"Household\", \"Dairy\", \"Fruits and Vegetables\", \"Baking Goods\", \"Fruits and Vegetables\", \"Canned\", \"Household\", \"Soft Drinks\", \"Canned\", \"Meat\", \"Snack Foods\", \"Household\", \"Frozen Foods\", \"Dairy\", \"Baking Goods\", \"Health and Hygiene\", \"Health and Hygiene\", \"Baking Goods\", \"Fruits and Vegetables\", \"Baking Goods\", \"Baking Goods\", \"Dairy\", \"Dairy\", \"Canned\", \"Household\", \"Snack Foods\", \"Meat\", \"Snack Foods\", \"Baking Goods\", \"Dairy\", \"Fruits and Vegetables\", \"Frozen Foods\", \"Baking Goods\", \"Meat\", \"Canned\", \"Snack Foods\", \"Baking Goods\", \"Meat\", \"Canned\", \"Soft Drinks\", \"Seafood\", \"Household\", \"Household\", \"Meat\", \"Starchy Foods\", \"Meat\", \"Baking Goods\", \"Fruits and Vegetables\", \"Snack Foods\", \"Snack Foods\", \"Baking Goods\", \"Fruits and Vegetables\", \"Soft Drinks\", \"Baking Goods\", \"Dairy\", \"Snack Foods\", \"Canned\", \"Fruits and Vegetables\", \"Household\", \"Frozen Foods\", \"Snack Foods\", \"Snack Foods\", \"Health and Hygiene\", \"Snack Foods\", \"Baking Goods\", \"Frozen Foods\", \"Baking Goods\", \"Baking Goods\", \"Snack Foods\", \"Baking Goods\", \"Snack Foods\", \"Frozen Foods\", \"Fruits and Vegetables\", \"Fruits and Vegetables\", \"Frozen Foods\", \"Frozen Foods\", \"Fruits and Vegetables\", \"Fruits and Vegetables\", \"Household\", \"Snack Foods\", \"Dairy\", \"Dairy\", \"Dairy\", \"Household\", \"Fruits and Vegetables\", \"Frozen Foods\", \"Hard Drinks\", \"Household\", \"Fruits and Vegetables\", \"Soft Drinks\", \"Frozen Foods\", \"Health and Hygiene\", \"Fruits and Vegetables\", \"Household\", \"Others\", \"Fruits and Vegetables\", \"Frozen Foods\", \"Canned\", \"Baking Goods\", \"Baking Goods\", \"Canned\", \"Others\", \"Snack Foods\", \"Household\", \"Dairy\", \"Dairy\", \"Snack Foods\", \"Fruits and Vegetables\", \"Canned\", \"Dairy\", \"Snack Foods\", \"Snack Foods\", \"Meat\", \"Frozen Foods\", \"Meat\", \"Frozen Foods\", \"Meat\", \"Household\", \"Health and Hygiene\", \"Dairy\", \"Fruits and Vegetables\", \"Meat\", \"Snack Foods\", \"Fruits and Vegetables\", \"Fruits and Vegetables\", \"Household\", \"Snack Foods\", \"Frozen Foods\", \"Dairy\", \"Starchy Foods\", \"Snack Foods\", \"Fruits and Vegetables\", \"Meat\", \"Frozen Foods\", \"Snack Foods\", \"Household\", \"Canned\", \"Canned\", \"Breads\", \"Fruits and Vegetables\", \"Fruits and Vegetables\", \"Frozen Foods\", \"Hard Drinks\", \"Frozen Foods\", \"Snack Foods\", \"Canned\", \"Frozen Foods\", \"Dairy\", \"Dairy\", \"Household\", \"Soft Drinks\", \"Fruits and Vegetables\", \"Health and Hygiene\", \"Canned\", \"Snack Foods\", \"Fruits and Vegetables\", \"Dairy\", \"Meat\", \"Dairy\", \"Household\", \"Snack Foods\", \"Health and Hygiene\", \"Health and Hygiene\", \"Dairy\", \"Snack Foods\", \"Household\", \"Frozen Foods\", \"Meat\", \"Snack Foods\", \"Household\", \"Frozen Foods\", \"Fruits and Vegetables\", \"Household\", \"Household\", \"Household\", \"Health and Hygiene\", \"Health and Hygiene\", \"Others\", \"Meat\", \"Soft Drinks\", \"Seafood\", \"Meat\", \"Snack Foods\", \"Soft Drinks\", \"Fruits and Vegetables\", \"Fruits and Vegetables\", \"Fruits and Vegetables\", \"Soft Drinks\", \"Fruits and Vegetables\", \"Breads\", \"Canned\", \"Frozen Foods\", \"Frozen Foods\", \"Breads\", \"Canned\", \"Fruits and Vegetables\", \"Frozen Foods\", \"Health and Hygiene\", \"Frozen Foods\", \"Fruits and Vegetables\", \"Baking Goods\", \"Snack Foods\", \"Snack Foods\", \"Fruits and Vegetables\", \"Canned\", \"Frozen Foods\", \"Frozen Foods\", \"Hard Drinks\", \"Dairy\", \"Health and Hygiene\", \"Baking Goods\", \"Soft Drinks\", \"Fruits and Vegetables\", \"Snack Foods\", \"Snack Foods\", \"Household\", \"Dairy\", \"Frozen Foods\", \"Seafood\", \"Canned\", \"Household\", \"Canned\", \"Dairy\", \"Frozen Foods\", \"Meat\", \"Fruits and Vegetables\", \"Fruits and Vegetables\", \"Dairy\", \"Snack Foods\", \"Canned\", \"Fruits and Vegetables\", \"Canned\", \"Snack Foods\", \"Dairy\", \"Baking Goods\", \"Household\", \"Health and Hygiene\", \"Fruits and Vegetables\", \"Canned\", \"Household\", \"Fruits and Vegetables\", \"Canned\", \"Meat\", \"Dairy\", \"Fruits and Vegetables\", \"Soft Drinks\", \"Frozen Foods\", \"Starchy Foods\", \"Soft Drinks\", \"Household\", \"Canned\", \"Baking Goods\", \"Canned\", \"Fruits and Vegetables\", \"Snack Foods\", \"Others\", \"Snack Foods\", \"Frozen Foods\", \"Canned\", \"Breads\", \"Snack Foods\", \"Soft Drinks\", \"Canned\", \"Soft Drinks\", \"Breakfast\", \"Health and Hygiene\", \"Snack Foods\", \"Household\", \"Canned\", \"Household\", \"Fruits and Vegetables\", \"Canned\", \"Baking Goods\", \"Meat\", \"Frozen Foods\", \"Dairy\", \"Baking Goods\", \"Fruits and Vegetables\", \"Hard Drinks\", \"Baking Goods\", \"Dairy\", \"Fruits and Vegetables\", \"Dairy\", \"Baking Goods\", \"Health and Hygiene\", \"Snack Foods\", \"Fruits and Vegetables\", \"Fruits and Vegetables\", \"Frozen Foods\", \"Fruits and Vegetables\", \"Household\", \"Frozen Foods\", \"Canned\", \"Baking Goods\", \"Fruits and Vegetables\", \"Health and Hygiene\", \"Breakfast\", \"Fruits and Vegetables\", \"Dairy\", \"Fruits and Vegetables\", \"Canned\", \"Dairy\", \"Canned\", \"Fruits and Vegetables\", \"Canned\", \"Snack Foods\", \"Fruits and Vegetables\", \"Snack Foods\", \"Snack Foods\", \"Fruits and Vegetables\", \"Hard Drinks\", \"Health and Hygiene\", \"Baking Goods\", \"Dairy\", \"Frozen Foods\", \"Fruits and Vegetables\", \"Fruits and Vegetables\", \"Canned\", \"Soft Drinks\", \"Baking Goods\", \"Fruits and Vegetables\", \"Baking Goods\", \"Dairy\", \"Health and Hygiene\", \"Breakfast\", \"Snack Foods\", \"Frozen Foods\", \"Household\", \"Health and Hygiene\", \"Baking Goods\", \"Meat\", \"Household\", \"Breads\", \"Soft Drinks\", \"Baking Goods\", \"Frozen Foods\", \"Baking Goods\", \"Fruits and Vegetables\", \"Canned\", \"Baking Goods\", \"Snack Foods\", \"Snack Foods\", \"Snack Foods\", \"Household\", \"Meat\", \"Frozen Foods\", \"Dairy\", \"Health and Hygiene\", \"Snack Foods\", \"Dairy\", \"Frozen Foods\", \"Household\", \"Frozen Foods\", \"Hard Drinks\", \"Soft Drinks\", \"Baking Goods\", \"Hard Drinks\", \"Soft Drinks\", \"Meat\", \"Fruits and Vegetables\", \"Soft Drinks\", \"Health and Hygiene\", \"Soft Drinks\", \"Dairy\", \"Snack Foods\", \"Baking Goods\", \"Snack Foods\", \"Breads\", \"Canned\", \"Baking Goods\", \"Frozen Foods\", \"Health and Hygiene\", \"Household\", \"Fruits and Vegetables\", \"Soft Drinks\", \"Household\", \"Fruits and Vegetables\", \"Soft Drinks\", \"Dairy\", \"Snack Foods\", \"Meat\", \"Baking Goods\", \"Household\", \"Canned\", \"Snack Foods\", \"Hard Drinks\", \"Frozen Foods\", \"Household\", \"Meat\", \"Canned\", \"Fruits and Vegetables\", \"Meat\", \"Snack Foods\", \"Health and Hygiene\", \"Soft Drinks\", \"Snack Foods\", \"Snack Foods\", \"Frozen Foods\", \"Meat\", \"Fruits and Vegetables\", \"Hard Drinks\", \"Starchy Foods\", \"Baking Goods\", \"Dairy\", \"Household\", \"Fruits and Vegetables\", \"Canned\", \"Dairy\", \"Dairy\", \"Soft Drinks\", \"Snack Foods\", \"Canned\", \"Snack Foods\", \"Soft Drinks\", \"Breakfast\", \"Snack Foods\", \"Snack Foods\", \"Household\", \"Soft Drinks\", \"Fruits and Vegetables\", \"Breads\", \"Canned\", \"Dairy\", \"Snack Foods\", \"Snack Foods\", \"Baking Goods\", \"Meat\", \"Snack Foods\", \"Snack Foods\", \"Household\", \"Fruits and Vegetables\", \"Meat\", \"Hard Drinks\", \"Soft Drinks\", \"Frozen Foods\", \"Fruits and Vegetables\", \"Snack Foods\", \"Snack Foods\", \"Starchy Foods\", \"Hard Drinks\", \"Soft Drinks\", \"Baking Goods\", \"Frozen Foods\", \"Fruits and Vegetables\", \"Fruits and Vegetables\", \"Dairy\", \"Soft Drinks\", \"Dairy\", \"Snack Foods\", \"Canned\", \"Canned\", \"Baking Goods\", \"Snack Foods\", \"Frozen Foods\", \"Baking Goods\", \"Frozen Foods\", \"Snack Foods\", \"Household\", \"Dairy\", \"Canned\", \"Health and Hygiene\", \"Baking Goods\", \"Fruits and Vegetables\", \"Fruits and Vegetables\", \"Frozen Foods\", \"Starchy Foods\", \"Household\", \"Health and Hygiene\", \"Fruits and Vegetables\", \"Health and Hygiene\", \"Soft Drinks\", \"Breads\", \"Baking Goods\", \"Canned\", \"Starchy Foods\", \"Snack Foods\", \"Frozen Foods\", \"Snack Foods\", \"Baking Goods\", \"Fruits and Vegetables\", \"Baking Goods\", \"Fruits and Vegetables\", \"Health and Hygiene\", \"Snack Foods\", \"Meat\", \"Baking Goods\", \"Snack Foods\", \"Health and Hygiene\", \"Baking Goods\", \"Household\", \"Canned\", \"Others\", \"Canned\", \"Breads\", \"Dairy\", \"Health and Hygiene\", \"Hard Drinks\", \"Breakfast\", \"Baking Goods\", \"Snack Foods\", \"Snack Foods\", \"Baking Goods\", \"Breads\", \"Fruits and Vegetables\", \"Health and Hygiene\", \"Household\", \"Canned\", \"Baking Goods\", \"Baking Goods\", \"Breakfast\", \"Soft Drinks\", \"Fruits and Vegetables\", \"Dairy\", \"Household\", \"Canned\", \"Fruits and Vegetables\", \"Breakfast\", \"Household\", \"Household\", \"Canned\", \"Snack Foods\", \"Breads\", \"Dairy\", \"Others\", \"Baking Goods\", \"Household\", \"Snack Foods\", \"Baking Goods\", \"Baking Goods\", \"Household\", \"Fruits and Vegetables\", \"Dairy\", \"Dairy\", \"Snack Foods\", \"Breakfast\", \"Canned\", \"Dairy\", \"Snack Foods\", \"Fruits and Vegetables\", \"Snack Foods\", \"Snack Foods\", \"Meat\", \"Snack Foods\", \"Household\", \"Snack Foods\", \"Health and Hygiene\", \"Fruits and Vegetables\", \"Breakfast\", \"Canned\", \"Fruits and Vegetables\", \"Fruits and Vegetables\", \"Dairy\", \"Fruits and Vegetables\", \"Snack Foods\", \"Meat\", \"Snack Foods\", \"Snack Foods\", \"Canned\", \"Dairy\", \"Health and Hygiene\", \"Fruits and Vegetables\", \"Starchy Foods\", \"Hard Drinks\", \"Others\", \"Fruits and Vegetables\", \"Seafood\", \"Meat\", \"Soft Drinks\", \"Soft Drinks\", \"Household\", \"Household\", \"Household\", \"Fruits and Vegetables\", \"Snack Foods\", \"Household\", \"Canned\", \"Baking Goods\", \"Snack Foods\", \"Health and Hygiene\", \"Baking Goods\", \"Frozen Foods\", \"Soft Drinks\", \"Household\", \"Baking Goods\", \"Household\", \"Meat\", \"Snack Foods\", \"Dairy\", \"Hard Drinks\", \"Soft Drinks\", \"Others\", \"Starchy Foods\", \"Dairy\", \"Health and Hygiene\", \"Starchy Foods\", \"Fruits and Vegetables\", \"Canned\", \"Dairy\", \"Hard Drinks\", \"Dairy\", \"Meat\", \"Health and Hygiene\", \"Health and Hygiene\", \"Household\", \"Dairy\", \"Health and Hygiene\", \"Meat\", \"Baking Goods\", \"Fruits and Vegetables\", \"Frozen Foods\", \"Meat\", \"Canned\", \"Household\", \"Soft Drinks\", \"Soft Drinks\", \"Fruits and Vegetables\", \"Starchy Foods\", \"Baking Goods\", \"Fruits and Vegetables\", \"Fruits and Vegetables\", \"Frozen Foods\", \"Hard Drinks\", \"Snack Foods\", \"Frozen Foods\", \"Snack Foods\", \"Health and Hygiene\", \"Soft Drinks\", \"Snack Foods\", \"Meat\", \"Fruits and Vegetables\", \"Health and Hygiene\", \"Frozen Foods\", \"Frozen Foods\", \"Snack Foods\", \"Household\", \"Breads\", \"Fruits and Vegetables\", \"Canned\", \"Snack Foods\", \"Frozen Foods\", \"Meat\", \"Snack Foods\", \"Starchy Foods\", \"Household\", \"Baking Goods\", \"Snack Foods\", \"Fruits and Vegetables\", \"Canned\", \"Fruits and Vegetables\", \"Dairy\", \"Frozen Foods\", \"Hard Drinks\", \"Snack Foods\", \"Snack Foods\", \"Seafood\", \"Snack Foods\", \"Dairy\", \"Frozen Foods\", \"Fruits and Vegetables\", \"Dairy\", \"Snack Foods\", \"Fruits and Vegetables\", \"Fruits and Vegetables\", \"Meat\", \"Snack Foods\", \"Fruits and Vegetables\", \"Health and Hygiene\", \"Health and Hygiene\", \"Meat\", \"Snack Foods\", \"Household\", \"Health and Hygiene\", \"Soft Drinks\", \"Hard Drinks\", \"Snack Foods\", \"Baking Goods\", \"Meat\", \"Snack Foods\", \"Hard Drinks\", \"Snack Foods\", \"Canned\", \"Breads\", \"Soft Drinks\", \"Hard Drinks\", \"Health and Hygiene\", \"Breads\", \"Baking Goods\", \"Household\", \"Fruits and Vegetables\", \"Snack Foods\", \"Frozen Foods\", \"Health and Hygiene\", \"Canned\", \"Breads\", \"Snack Foods\", \"Others\", \"Snack Foods\", \"Breads\", \"Health and Hygiene\", \"Household\", \"Fruits and Vegetables\", \"Household\", \"Snack Foods\", \"Meat\", \"Dairy\", \"Canned\", \"Others\", \"Others\", \"Fruits and Vegetables\", \"Soft Drinks\", \"Soft Drinks\", \"Fruits and Vegetables\", \"Dairy\", \"Others\", \"Fruits and Vegetables\", \"Fruits and Vegetables\", \"Health and Hygiene\", \"Fruits and Vegetables\", \"Fruits and Vegetables\", \"Breads\", \"Household\", \"Soft Drinks\", \"Breads\", \"Snack Foods\", \"Household\", \"Snack Foods\", \"Others\", \"Canned\", \"Baking Goods\", \"Dairy\", \"Health and Hygiene\", \"Snack Foods\", \"Dairy\", \"Frozen Foods\", \"Dairy\", \"Frozen Foods\", \"Meat\", \"Seafood\", \"Fruits and Vegetables\", \"Dairy\", \"Others\", \"Frozen Foods\", \"Household\", \"Fruits and Vegetables\", \"Snack Foods\", \"Snack Foods\", \"Hard Drinks\", \"Dairy\", \"Frozen Foods\", \"Canned\", \"Soft Drinks\", \"Fruits and Vegetables\", \"Meat\", \"Household\", \"Snack Foods\", \"Baking Goods\", \"Soft Drinks\", \"Frozen Foods\", \"Dairy\", \"Frozen Foods\", \"Breads\", \"Frozen Foods\", \"Seafood\", \"Others\", \"Health and Hygiene\", \"Fruits and Vegetables\", \"Snack Foods\", \"Household\", \"Snack Foods\", \"Meat\", \"Breads\", \"Soft Drinks\", \"Others\", \"Hard Drinks\", \"Household\", \"Canned\", \"Fruits and Vegetables\", \"Others\", \"Frozen Foods\", \"Canned\", \"Canned\", \"Household\", \"Canned\", \"Meat\", \"Fruits and Vegetables\", \"Fruits and Vegetables\", \"Baking Goods\", \"Snack Foods\", \"Fruits and Vegetables\", \"Household\", \"Household\", \"Fruits and Vegetables\", \"Starchy Foods\", \"Health and Hygiene\", \"Health and Hygiene\", \"Baking Goods\", \"Snack Foods\", \"Hard Drinks\", \"Frozen Foods\", \"Health and Hygiene\", \"Household\", \"Soft Drinks\", \"Dairy\", \"Frozen Foods\", \"Baking Goods\", \"Snack Foods\", \"Dairy\", \"Fruits and Vegetables\", \"Breads\", \"Breads\", \"Canned\", \"Fruits and Vegetables\", \"Household\", \"Soft Drinks\", \"Breads\", \"Household\", \"Meat\", \"Frozen Foods\", \"Health and Hygiene\", \"Household\", \"Dairy\", \"Meat\", \"Household\", \"Fruits and Vegetables\", \"Snack Foods\", \"Snack Foods\", \"Fruits and Vegetables\", \"Snack Foods\", \"Canned\", \"Snack Foods\", \"Meat\", \"Frozen Foods\", \"Baking Goods\", \"Fruits and Vegetables\", \"Household\", \"Hard Drinks\", \"Baking Goods\", \"Household\", \"Household\", \"Starchy Foods\", \"Fruits and Vegetables\", \"Canned\", \"Health and Hygiene\", \"Snack Foods\", \"Baking Goods\", \"Soft Drinks\", \"Frozen Foods\", \"Breakfast\", \"Health and Hygiene\", \"Seafood\", \"Meat\", \"Household\", \"Health and Hygiene\", \"Meat\", \"Snack Foods\", \"Household\", \"Dairy\", \"Frozen Foods\", \"Frozen Foods\", \"Health and Hygiene\", \"Fruits and Vegetables\", \"Canned\", \"Health and Hygiene\", \"Health and Hygiene\", \"Frozen Foods\", \"Snack Foods\", \"Health and Hygiene\", \"Snack Foods\", \"Fruits and Vegetables\", \"Health and Hygiene\", \"Breads\", \"Fruits and Vegetables\", \"Dairy\", \"Soft Drinks\", \"Snack Foods\", \"Meat\", \"Snack Foods\", \"Snack Foods\", \"Baking Goods\", \"Snack Foods\", \"Fruits and Vegetables\", \"Fruits and Vegetables\", \"Meat\", \"Health and Hygiene\", \"Canned\", \"Canned\", \"Canned\", \"Household\", \"Frozen Foods\", \"Hard Drinks\", \"Baking Goods\", \"Fruits and Vegetables\", \"Snack Foods\", \"Snack Foods\", \"Canned\", \"Household\", \"Starchy Foods\", \"Frozen Foods\", \"Fruits and Vegetables\", \"Fruits and Vegetables\", \"Snack Foods\", \"Snack Foods\", \"Others\", \"Health and Hygiene\", \"Baking Goods\", \"Meat\", \"Breads\", \"Dairy\", \"Household\", \"Health and Hygiene\", \"Baking Goods\", \"Dairy\", \"Household\", \"Fruits and Vegetables\", \"Breads\", \"Dairy\", \"Others\", \"Household\", \"Frozen Foods\", \"Snack Foods\", \"Frozen Foods\", \"Breads\", \"Baking Goods\", \"Household\", \"Meat\", \"Dairy\", \"Household\", \"Household\", \"Snack Foods\", \"Hard Drinks\", \"Dairy\", \"Meat\", \"Canned\", \"Dairy\", \"Health and Hygiene\", \"Fruits and Vegetables\", \"Dairy\", \"Soft Drinks\", \"Baking Goods\", \"Household\", \"Soft Drinks\", \"Baking Goods\", \"Household\", \"Hard Drinks\", \"Health and Hygiene\", \"Canned\", \"Fruits and Vegetables\", \"Health and Hygiene\", \"Health and Hygiene\", \"Others\", \"Fruits and Vegetables\", \"Fruits and Vegetables\", \"Health and Hygiene\", \"Fruits and Vegetables\", \"Frozen Foods\", \"Others\", \"Snack Foods\", \"Meat\", \"Canned\", \"Frozen Foods\", \"Canned\", \"Baking Goods\", \"Fruits and Vegetables\", \"Dairy\", \"Breads\", \"Snack Foods\", \"Snack Foods\", \"Baking Goods\", \"Baking Goods\", \"Frozen Foods\", \"Household\", \"Fruits and Vegetables\", \"Snack Foods\", \"Meat\", \"Soft Drinks\", \"Frozen Foods\", \"Household\", \"Health and Hygiene\", \"Breads\", \"Snack Foods\", \"Frozen Foods\", \"Fruits and Vegetables\", \"Canned\", \"Dairy\", \"Fruits and Vegetables\", \"Fruits and Vegetables\", \"Dairy\", \"Household\", \"Meat\", \"Meat\", \"Fruits and Vegetables\", \"Household\", \"Baking Goods\", \"Baking Goods\", \"Snack Foods\", \"Meat\", \"Canned\", \"Canned\", \"Dairy\", \"Snack Foods\", \"Meat\", \"Baking Goods\", \"Others\", \"Baking Goods\", \"Snack Foods\", \"Canned\", \"Fruits and Vegetables\", \"Dairy\", \"Frozen Foods\", \"Household\", \"Baking Goods\", \"Fruits and Vegetables\", \"Soft Drinks\", \"Snack Foods\", \"Fruits and Vegetables\", \"Hard Drinks\", \"Health and Hygiene\", \"Hard Drinks\", \"Frozen Foods\", \"Meat\", \"Others\", \"Household\", \"Meat\", \"Snack Foods\", \"Fruits and Vegetables\", \"Frozen Foods\", \"Soft Drinks\", \"Snack Foods\", \"Health and Hygiene\", \"Fruits and Vegetables\", \"Household\", \"Baking Goods\", \"Health and Hygiene\", \"Baking Goods\", \"Soft Drinks\", \"Meat\", \"Dairy\", \"Dairy\", \"Fruits and Vegetables\", \"Fruits and Vegetables\", \"Canned\", \"Health and Hygiene\", \"Baking Goods\", \"Breakfast\", \"Canned\", \"Snack Foods\", \"Fruits and Vegetables\", \"Health and Hygiene\", \"Dairy\", \"Health and Hygiene\", \"Breads\", \"Snack Foods\", \"Baking Goods\", \"Snack Foods\", \"Household\", \"Snack Foods\", \"Fruits and Vegetables\", \"Dairy\", \"Dairy\", \"Frozen Foods\", \"Snack Foods\", \"Household\", \"Snack Foods\", \"Frozen Foods\", \"Soft Drinks\", \"Household\", \"Dairy\", \"Household\", \"Breads\", \"Frozen Foods\", \"Dairy\", \"Baking Goods\", \"Baking Goods\", \"Fruits and Vegetables\", \"Frozen Foods\", \"Fruits and Vegetables\", \"Snack Foods\", \"Breakfast\", \"Household\", \"Dairy\", \"Snack Foods\", \"Health and Hygiene\", \"Fruits and Vegetables\", \"Seafood\", \"Health and Hygiene\", \"Household\", \"Household\", \"Baking Goods\", \"Health and Hygiene\", \"Meat\", \"Household\", \"Fruits and Vegetables\", \"Dairy\", \"Canned\", \"Breakfast\", \"Breads\", \"Frozen Foods\", \"Health and Hygiene\", \"Baking Goods\", \"Health and Hygiene\", \"Dairy\", \"Fruits and Vegetables\", \"Meat\", \"Soft Drinks\", \"Starchy Foods\", \"Snack Foods\", \"Others\", \"Snack Foods\", \"Fruits and Vegetables\", \"Frozen Foods\", \"Household\", \"Canned\", \"Fruits and Vegetables\", \"Health and Hygiene\", \"Starchy Foods\", \"Canned\", \"Household\", \"Dairy\", \"Others\", \"Household\", \"Frozen Foods\", \"Baking Goods\", \"Fruits and Vegetables\", \"Meat\", \"Snack Foods\", \"Soft Drinks\", \"Meat\", \"Canned\", \"Snack Foods\", \"Canned\", \"Canned\", \"Household\", \"Baking Goods\", \"Snack Foods\", \"Others\", \"Fruits and Vegetables\", \"Baking Goods\", \"Health and Hygiene\", \"Health and Hygiene\", \"Breads\", \"Health and Hygiene\", \"Snack Foods\", \"Baking Goods\", \"Dairy\", \"Breakfast\", \"Frozen Foods\", \"Canned\", \"Household\", \"Breads\", \"Dairy\", \"Frozen Foods\", \"Snack Foods\", \"Fruits and Vegetables\", \"Frozen Foods\", \"Breakfast\", \"Frozen Foods\", \"Snack Foods\", \"Fruits and Vegetables\", \"Health and Hygiene\", \"Fruits and Vegetables\", \"Fruits and Vegetables\", \"Snack Foods\", \"Fruits and Vegetables\", \"Dairy\", \"Frozen Foods\", \"Fruits and Vegetables\", \"Snack Foods\", \"Baking Goods\", \"Fruits and Vegetables\", \"Seafood\", \"Soft Drinks\", \"Fruits and Vegetables\", \"Fruits and Vegetables\", \"Dairy\", \"Health and Hygiene\", \"Canned\", \"Canned\", \"Snack Foods\", \"Canned\", \"Breads\", \"Frozen Foods\", \"Household\", \"Canned\", \"Breads\", \"Snack Foods\", \"Hard Drinks\", \"Frozen Foods\", \"Household\", \"Baking Goods\", \"Snack Foods\", \"Snack Foods\", \"Dairy\", \"Fruits and Vegetables\", \"Snack Foods\", \"Frozen Foods\", \"Dairy\", \"Snack Foods\", \"Snack Foods\", \"Health and Hygiene\", \"Frozen Foods\", \"Fruits and Vegetables\", \"Health and Hygiene\", \"Frozen Foods\", \"Health and Hygiene\", \"Health and Hygiene\", \"Household\", \"Dairy\", \"Others\", \"Baking Goods\", \"Fruits and Vegetables\", \"Soft Drinks\", \"Snack Foods\", \"Canned\", \"Fruits and Vegetables\", \"Meat\", \"Hard Drinks\", \"Health and Hygiene\", \"Fruits and Vegetables\", \"Soft Drinks\", \"Canned\", \"Dairy\", \"Snack Foods\", \"Breads\", \"Household\", \"Soft Drinks\", \"Snack Foods\", \"Health and Hygiene\", \"Breads\", \"Hard Drinks\", \"Soft Drinks\", \"Hard Drinks\", \"Dairy\", \"Dairy\", \"Snack Foods\", \"Frozen Foods\", \"Fruits and Vegetables\", \"Frozen Foods\", \"Snack Foods\", \"Health and Hygiene\", \"Fruits and Vegetables\", \"Dairy\", \"Snack Foods\", \"Baking Goods\", \"Fruits and Vegetables\", \"Baking Goods\", \"Fruits and Vegetables\", \"Breads\", \"Dairy\", \"Baking Goods\", \"Fruits and Vegetables\", \"Fruits and Vegetables\", \"Soft Drinks\", \"Frozen Foods\", \"Others\", \"Frozen Foods\", \"Others\", \"Snack Foods\", \"Dairy\", \"Fruits and Vegetables\", \"Baking Goods\", \"Frozen Foods\", \"Snack Foods\", \"Snack Foods\", \"Fruits and Vegetables\", \"Baking Goods\", \"Canned\", \"Snack Foods\", \"Fruits and Vegetables\", \"Canned\", \"Baking Goods\", \"Snack Foods\", \"Soft Drinks\", \"Baking Goods\", \"Baking Goods\", \"Frozen Foods\", \"Fruits and Vegetables\", \"Dairy\", \"Household\", \"Health and Hygiene\", \"Snack Foods\", \"Snack Foods\", \"Snack Foods\", \"Fruits and Vegetables\", \"Snack Foods\", \"Snack Foods\", \"Baking Goods\", \"Snack Foods\", \"Canned\", \"Fruits and Vegetables\", \"Soft Drinks\", \"Fruits and Vegetables\", \"Starchy Foods\", \"Snack Foods\", \"Baking Goods\", \"Dairy\", \"Meat\", \"Fruits and Vegetables\", \"Frozen Foods\", \"Health and Hygiene\", \"Health and Hygiene\", \"Fruits and Vegetables\", \"Household\", \"Hard Drinks\", \"Baking Goods\", \"Fruits and Vegetables\", \"Snack Foods\", \"Dairy\", \"Health and Hygiene\", \"Soft Drinks\", \"Canned\", \"Hard Drinks\", \"Fruits and Vegetables\", \"Breads\", \"Meat\", \"Baking Goods\", \"Health and Hygiene\", \"Hard Drinks\", \"Snack Foods\", \"Meat\", \"Soft Drinks\", \"Health and Hygiene\", \"Health and Hygiene\", \"Breads\", \"Canned\", \"Household\", \"Dairy\", \"Meat\", \"Household\", \"Fruits and Vegetables\", \"Snack Foods\", \"Health and Hygiene\", \"Canned\", \"Others\", \"Breads\", \"Breads\", \"Hard Drinks\", \"Dairy\", \"Baking Goods\", \"Meat\", \"Baking Goods\", \"Baking Goods\", \"Others\", \"Snack Foods\", \"Canned\", \"Frozen Foods\", \"Meat\", \"Health and Hygiene\", \"Baking Goods\", \"Frozen Foods\", \"Fruits and Vegetables\", \"Soft Drinks\", \"Frozen Foods\", \"Fruits and Vegetables\", \"Dairy\", \"Soft Drinks\", \"Soft Drinks\", \"Frozen Foods\", \"Baking Goods\", \"Canned\", \"Household\", \"Fruits and Vegetables\", \"Snack Foods\", \"Canned\", \"Frozen Foods\", \"Baking Goods\", \"Canned\", \"Meat\", \"Meat\", \"Snack Foods\", \"Fruits and Vegetables\", \"Soft Drinks\", \"Dairy\", \"Baking Goods\", \"Dairy\", \"Meat\", \"Frozen Foods\", \"Dairy\", \"Household\", \"Frozen Foods\", \"Dairy\", \"Household\", \"Health and Hygiene\", \"Fruits and Vegetables\", \"Household\", \"Hard Drinks\", \"Breakfast\", \"Household\", \"Meat\", \"Hard Drinks\", \"Frozen Foods\", \"Health and Hygiene\", \"Canned\", \"Dairy\", \"Dairy\", \"Fruits and Vegetables\", \"Canned\", \"Fruits and Vegetables\", \"Meat\", \"Fruits and Vegetables\", \"Dairy\", \"Fruits and Vegetables\", \"Household\", \"Frozen Foods\", \"Snack Foods\", \"Fruits and Vegetables\", \"Snack Foods\", \"Frozen Foods\", \"Fruits and Vegetables\", \"Fruits and Vegetables\", \"Household\", \"Health and Hygiene\", \"Frozen Foods\", \"Household\", \"Frozen Foods\", \"Fruits and Vegetables\", \"Breads\", \"Fruits and Vegetables\", \"Soft Drinks\", \"Dairy\", \"Household\", \"Others\", \"Canned\", \"Starchy Foods\", \"Snack Foods\", \"Household\", \"Snack Foods\", \"Baking Goods\", \"Snack Foods\", \"Snack Foods\", \"Canned\", \"Canned\", \"Others\", \"Dairy\", \"Fruits and Vegetables\", \"Dairy\", \"Frozen Foods\", \"Snack Foods\", \"Canned\", \"Baking Goods\", \"Baking Goods\", \"Canned\", \"Breakfast\", \"Baking Goods\", \"Meat\", \"Snack Foods\", \"Snack Foods\", \"Baking Goods\", \"Frozen Foods\", \"Soft Drinks\", \"Canned\", \"Health and Hygiene\", \"Health and Hygiene\", \"Snack Foods\", \"Baking Goods\", \"Baking Goods\", \"Health and Hygiene\", \"Dairy\", \"Snack Foods\", \"Fruits and Vegetables\", \"Dairy\", \"Dairy\", \"Household\", \"Household\", \"Meat\", \"Baking Goods\", \"Baking Goods\", \"Dairy\", \"Dairy\", \"Household\", \"Household\", \"Dairy\", \"Frozen Foods\", \"Baking Goods\", \"Snack Foods\", \"Fruits and Vegetables\", \"Baking Goods\", \"Soft Drinks\", \"Seafood\", \"Frozen Foods\", \"Frozen Foods\", \"Frozen Foods\", \"Baking Goods\", \"Frozen Foods\", \"Household\", \"Hard Drinks\", \"Snack Foods\", \"Fruits and Vegetables\", \"Frozen Foods\", \"Breads\", \"Household\", \"Fruits and Vegetables\", \"Health and Hygiene\", \"Canned\", \"Household\", \"Meat\", \"Baking Goods\", \"Starchy Foods\", \"Snack Foods\", \"Fruits and Vegetables\", \"Meat\", \"Frozen Foods\", \"Household\", \"Snack Foods\", \"Frozen Foods\", \"Soft Drinks\", \"Fruits and Vegetables\", \"Health and Hygiene\", \"Baking Goods\", \"Household\", \"Frozen Foods\", \"Household\", \"Snack Foods\", \"Frozen Foods\", \"Snack Foods\", \"Soft Drinks\", \"Fruits and Vegetables\", \"Canned\", \"Snack Foods\", \"Fruits and Vegetables\", \"Meat\", \"Canned\", \"Health and Hygiene\", \"Meat\", \"Dairy\", \"Snack Foods\", \"Household\", \"Meat\", \"Household\", \"Meat\", \"Health and Hygiene\", \"Frozen Foods\", \"Fruits and Vegetables\", \"Fruits and Vegetables\", \"Fruits and Vegetables\", \"Baking Goods\", \"Household\", \"Starchy Foods\", \"Fruits and Vegetables\", \"Meat\", \"Dairy\", \"Baking Goods\", \"Frozen Foods\", \"Canned\", \"Breads\", \"Frozen Foods\", \"Frozen Foods\", \"Health and Hygiene\", \"Household\", \"Household\", \"Meat\", \"Fruits and Vegetables\", \"Frozen Foods\", \"Soft Drinks\", \"Snack Foods\", \"Starchy Foods\", \"Hard Drinks\", \"Health and Hygiene\", \"Fruits and Vegetables\", \"Snack Foods\", \"Frozen Foods\", \"Fruits and Vegetables\", \"Frozen Foods\", \"Soft Drinks\", \"Health and Hygiene\", \"Dairy\", \"Baking Goods\", \"Dairy\", \"Snack Foods\", \"Health and Hygiene\", \"Dairy\", \"Frozen Foods\", \"Meat\", \"Fruits and Vegetables\", \"Fruits and Vegetables\", \"Health and Hygiene\", \"Frozen Foods\", \"Canned\", \"Dairy\", \"Breads\", \"Snack Foods\", \"Fruits and Vegetables\", \"Soft Drinks\", \"Canned\", \"Health and Hygiene\", \"Snack Foods\", \"Dairy\", \"Snack Foods\", \"Snack Foods\", \"Dairy\", \"Canned\", \"Household\", \"Fruits and Vegetables\", \"Hard Drinks\", \"Soft Drinks\", \"Dairy\", \"Canned\", \"Household\", \"Fruits and Vegetables\", \"Household\", \"Household\", \"Household\", \"Frozen Foods\", \"Canned\", \"Snack Foods\", \"Meat\", \"Snack Foods\", \"Household\", \"Dairy\", \"Health and Hygiene\", \"Canned\", \"Household\", \"Meat\", \"Household\", \"Fruits and Vegetables\", \"Canned\", \"Snack Foods\", \"Snack Foods\", \"Breakfast\", \"Snack Foods\", \"Canned\", \"Household\", \"Fruits and Vegetables\", \"Household\", \"Frozen Foods\", \"Health and Hygiene\", \"Soft Drinks\", \"Snack Foods\", \"Fruits and Vegetables\", \"Household\", \"Household\", \"Household\", \"Snack Foods\", \"Breakfast\", \"Baking Goods\", \"Snack Foods\", \"Snack Foods\", \"Frozen Foods\", \"Snack Foods\", \"Others\", \"Canned\", \"Frozen Foods\", \"Household\", \"Snack Foods\", \"Dairy\", \"Baking Goods\", \"Canned\", \"Household\", \"Frozen Foods\", \"Household\", \"Snack Foods\", \"Dairy\", \"Frozen Foods\", \"Breakfast\", \"Snack Foods\", \"Breads\", \"Breads\", \"Household\", \"Snack Foods\", \"Frozen Foods\", \"Soft Drinks\", \"Fruits and Vegetables\", \"Snack Foods\", \"Snack Foods\", \"Canned\", \"Fruits and Vegetables\", \"Household\", \"Snack Foods\", \"Baking Goods\", \"Fruits and Vegetables\", \"Household\", \"Snack Foods\", \"Breads\", \"Health and Hygiene\", \"Snack Foods\", \"Fruits and Vegetables\", \"Health and Hygiene\", \"Dairy\", \"Household\", \"Breads\", \"Fruits and Vegetables\", \"Household\", \"Meat\", \"Frozen Foods\", \"Health and Hygiene\", \"Soft Drinks\", \"Fruits and Vegetables\", \"Snack Foods\", \"Fruits and Vegetables\", \"Snack Foods\", \"Dairy\", \"Health and Hygiene\", \"Health and Hygiene\", \"Snack Foods\", \"Fruits and Vegetables\", \"Household\", \"Breakfast\", \"Snack Foods\", \"Canned\", \"Fruits and Vegetables\", \"Hard Drinks\", \"Breakfast\", \"Snack Foods\", \"Dairy\", \"Soft Drinks\", \"Frozen Foods\", \"Frozen Foods\", \"Snack Foods\", \"Baking Goods\", \"Hard Drinks\", \"Hard Drinks\", \"Starchy Foods\", \"Fruits and Vegetables\", \"Frozen Foods\", \"Baking Goods\", \"Household\", \"Fruits and Vegetables\", \"Fruits and Vegetables\", \"Household\", \"Frozen Foods\", \"Fruits and Vegetables\", \"Hard Drinks\", \"Frozen Foods\", \"Frozen Foods\", \"Snack Foods\", \"Canned\", \"Snack Foods\", \"Frozen Foods\", \"Breads\", \"Snack Foods\", \"Soft Drinks\", \"Breads\", \"Fruits and Vegetables\", \"Snack Foods\", \"Fruits and Vegetables\", \"Soft Drinks\", \"Soft Drinks\", \"Health and Hygiene\", \"Fruits and Vegetables\", \"Dairy\", \"Canned\", \"Snack Foods\", \"Soft Drinks\", \"Baking Goods\", \"Snack Foods\", \"Starchy Foods\", \"Household\", \"Fruits and Vegetables\", \"Household\", \"Fruits and Vegetables\", \"Breads\", \"Breads\", \"Fruits and Vegetables\", \"Snack Foods\", \"Household\", \"Snack Foods\", \"Fruits and Vegetables\", \"Frozen Foods\", \"Health and Hygiene\", \"Starchy Foods\", \"Fruits and Vegetables\", \"Dairy\", \"Others\", \"Baking Goods\", \"Snack Foods\", \"Dairy\", \"Snack Foods\", \"Fruits and Vegetables\", \"Canned\", \"Meat\", \"Canned\", \"Dairy\", \"Household\", \"Health and Hygiene\", \"Frozen Foods\", \"Household\", \"Others\", \"Canned\", \"Health and Hygiene\", \"Dairy\", \"Soft Drinks\", \"Snack Foods\", \"Frozen Foods\", \"Others\", \"Canned\", \"Dairy\", \"Baking Goods\", \"Fruits and Vegetables\", \"Household\", \"Snack Foods\", \"Soft Drinks\", \"Fruits and Vegetables\", \"Frozen Foods\", \"Starchy Foods\", \"Fruits and Vegetables\", \"Soft Drinks\", \"Snack Foods\", \"Snack Foods\", \"Fruits and Vegetables\", \"Soft Drinks\", \"Soft Drinks\", \"Dairy\", \"Meat\", \"Fruits and Vegetables\", \"Household\", \"Frozen Foods\", \"Health and Hygiene\", \"Baking Goods\", \"Household\", \"Household\", \"Dairy\", \"Canned\", \"Dairy\", \"Health and Hygiene\", \"Snack Foods\", \"Soft Drinks\", \"Fruits and Vegetables\", \"Breads\", \"Fruits and Vegetables\", \"Fruits and Vegetables\", \"Health and Hygiene\", \"Household\", \"Fruits and Vegetables\", \"Soft Drinks\", \"Breakfast\", \"Canned\", \"Dairy\", \"Seafood\", \"Dairy\", \"Household\", \"Fruits and Vegetables\", \"Household\", \"Snack Foods\", \"Baking Goods\", \"Snack Foods\", \"Snack Foods\", \"Household\", \"Frozen Foods\", \"Household\", \"Frozen Foods\", \"Dairy\", \"Meat\", \"Hard Drinks\", \"Fruits and Vegetables\", \"Canned\", \"Dairy\", \"Canned\", \"Snack Foods\", \"Fruits and Vegetables\", \"Household\", \"Canned\", \"Frozen Foods\", \"Hard Drinks\", \"Meat\", \"Household\", \"Dairy\", \"Canned\", \"Frozen Foods\", \"Soft Drinks\", \"Frozen Foods\", \"Baking Goods\", \"Fruits and Vegetables\", \"Dairy\", \"Hard Drinks\", \"Health and Hygiene\", \"Snack Foods\", \"Household\", \"Baking Goods\", \"Hard Drinks\", \"Fruits and Vegetables\", \"Hard Drinks\", \"Household\", \"Health and Hygiene\", \"Fruits and Vegetables\", \"Health and Hygiene\", \"Meat\", \"Household\", \"Frozen Foods\", \"Starchy Foods\", \"Canned\", \"Baking Goods\", \"Fruits and Vegetables\", \"Frozen Foods\", \"Canned\", \"Fruits and Vegetables\", \"Baking Goods\", \"Dairy\", \"Household\", \"Breakfast\", \"Snack Foods\", \"Canned\", \"Canned\", \"Soft Drinks\", \"Health and Hygiene\", \"Frozen Foods\", \"Fruits and Vegetables\", \"Frozen Foods\", \"Meat\", \"Fruits and Vegetables\", \"Household\", \"Snack Foods\", \"Snack Foods\", \"Soft Drinks\", \"Breads\", \"Baking Goods\", \"Meat\", \"Fruits and Vegetables\", \"Frozen Foods\", \"Soft Drinks\", \"Baking Goods\", \"Health and Hygiene\", \"Dairy\", \"Health and Hygiene\", \"Meat\", \"Snack Foods\", \"Fruits and Vegetables\", \"Snack Foods\", \"Dairy\", \"Snack Foods\", \"Hard Drinks\", \"Dairy\", \"Baking Goods\", \"Dairy\", \"Fruits and Vegetables\", \"Fruits and Vegetables\", \"Snack Foods\", \"Snack Foods\", \"Baking Goods\", \"Fruits and Vegetables\", \"Household\", \"Meat\", \"Health and Hygiene\", \"Health and Hygiene\", \"Baking Goods\", \"Dairy\", \"Household\", \"Dairy\", \"Frozen Foods\", \"Starchy Foods\", \"Baking Goods\", \"Snack Foods\", \"Dairy\", \"Soft Drinks\", \"Breads\", \"Snack Foods\", \"Snack Foods\", \"Dairy\", \"Soft Drinks\", \"Canned\", \"Snack Foods\", \"Breads\", \"Snack Foods\", \"Frozen Foods\", \"Meat\", \"Fruits and Vegetables\", \"Frozen Foods\", \"Snack Foods\", \"Frozen Foods\", \"Fruits and Vegetables\", \"Fruits and Vegetables\", \"Fruits and Vegetables\", \"Household\", \"Canned\", \"Dairy\", \"Household\", \"Snack Foods\", \"Health and Hygiene\", \"Frozen Foods\", \"Health and Hygiene\", \"Snack Foods\", \"Fruits and Vegetables\", \"Household\", \"Snack Foods\", \"Household\", \"Breakfast\", \"Canned\", \"Canned\", \"Hard Drinks\", \"Snack Foods\", \"Canned\", \"Snack Foods\", \"Canned\", \"Snack Foods\", \"Household\", \"Canned\", \"Baking Goods\", \"Meat\", \"Others\", \"Canned\", \"Snack Foods\", \"Household\", \"Frozen Foods\", \"Breads\", \"Hard Drinks\", \"Baking Goods\", \"Snack Foods\", \"Health and Hygiene\", \"Fruits and Vegetables\", \"Baking Goods\", \"Fruits and Vegetables\", \"Baking Goods\", \"Others\", \"Fruits and Vegetables\", \"Fruits and Vegetables\", \"Snack Foods\", \"Hard Drinks\", \"Dairy\", \"Canned\", \"Snack Foods\", \"Frozen Foods\", \"Health and Hygiene\", \"Fruits and Vegetables\", \"Frozen Foods\", \"Canned\", \"Frozen Foods\", \"Fruits and Vegetables\", \"Household\", \"Health and Hygiene\", \"Dairy\", \"Snack Foods\", \"Fruits and Vegetables\", \"Baking Goods\", \"Frozen Foods\", \"Snack Foods\", \"Frozen Foods\", \"Canned\", \"Snack Foods\", \"Household\", \"Soft Drinks\", \"Household\", \"Frozen Foods\", \"Baking Goods\", \"Dairy\", \"Snack Foods\", \"Frozen Foods\", \"Fruits and Vegetables\", \"Baking Goods\", \"Fruits and Vegetables\", \"Household\", \"Frozen Foods\", \"Fruits and Vegetables\", \"Soft Drinks\", \"Household\", \"Snack Foods\", \"Fruits and Vegetables\", \"Household\", \"Meat\", \"Snack Foods\", \"Fruits and Vegetables\", \"Hard Drinks\", \"Canned\", \"Snack Foods\", \"Snack Foods\", \"Frozen Foods\", \"Fruits and Vegetables\", \"Breakfast\", \"Fruits and Vegetables\", \"Fruits and Vegetables\", \"Dairy\", \"Household\", \"Frozen Foods\", \"Meat\", \"Meat\", \"Fruits and Vegetables\", \"Fruits and Vegetables\", \"Canned\", \"Snack Foods\", \"Health and Hygiene\", \"Baking Goods\", \"Breakfast\", \"Household\", \"Household\", \"Snack Foods\", \"Snack Foods\", \"Household\", \"Snack Foods\", \"Seafood\", \"Soft Drinks\", \"Others\", \"Baking Goods\", \"Seafood\", \"Household\", \"Dairy\", \"Fruits and Vegetables\", \"Soft Drinks\", \"Frozen Foods\", \"Breads\", \"Breakfast\", \"Fruits and Vegetables\", \"Household\", \"Household\", \"Meat\", \"Others\", \"Snack Foods\", \"Frozen Foods\", \"Fruits and Vegetables\", \"Baking Goods\", \"Frozen Foods\", \"Hard Drinks\", \"Snack Foods\", \"Baking Goods\", \"Meat\", \"Household\", \"Household\", \"Health and Hygiene\", \"Health and Hygiene\", \"Frozen Foods\", \"Snack Foods\", \"Snack Foods\", \"Canned\", \"Meat\", \"Frozen Foods\", \"Starchy Foods\", \"Baking Goods\", \"Canned\", \"Soft Drinks\", \"Snack Foods\", \"Fruits and Vegetables\", \"Frozen Foods\", \"Fruits and Vegetables\", \"Others\", \"Household\", \"Breads\", \"Soft Drinks\", \"Canned\", \"Fruits and Vegetables\", \"Canned\", \"Health and Hygiene\", \"Household\", \"Others\", \"Health and Hygiene\", \"Meat\", \"Meat\", \"Baking Goods\", \"Baking Goods\", \"Household\", \"Snack Foods\", \"Health and Hygiene\", \"Dairy\", \"Snack Foods\", \"Health and Hygiene\", \"Frozen Foods\", \"Health and Hygiene\", \"Meat\", \"Frozen Foods\", \"Fruits and Vegetables\", \"Fruits and Vegetables\", \"Seafood\", \"Soft Drinks\", \"Starchy Foods\", \"Household\", \"Soft Drinks\", \"Household\", \"Canned\", \"Soft Drinks\", \"Canned\", \"Dairy\", \"Fruits and Vegetables\", \"Canned\", \"Snack Foods\", \"Baking Goods\", \"Health and Hygiene\", \"Household\", \"Starchy Foods\", \"Canned\", \"Breads\", \"Hard Drinks\", \"Snack Foods\", \"Baking Goods\", \"Health and Hygiene\", \"Soft Drinks\", \"Frozen Foods\", \"Canned\", \"Fruits and Vegetables\", \"Fruits and Vegetables\", \"Seafood\", \"Dairy\", \"Snack Foods\", \"Starchy Foods\", \"Meat\", \"Fruits and Vegetables\", \"Frozen Foods\", \"Household\", \"Fruits and Vegetables\", \"Frozen Foods\", \"Meat\", \"Soft Drinks\", \"Baking Goods\", \"Snack Foods\", \"Canned\", \"Canned\", \"Fruits and Vegetables\", \"Health and Hygiene\", \"Baking Goods\", \"Frozen Foods\", \"Meat\", \"Frozen Foods\", \"Health and Hygiene\", \"Frozen Foods\", \"Dairy\", \"Dairy\", \"Canned\", \"Frozen Foods\", \"Snack Foods\", \"Household\", \"Snack Foods\", \"Household\", \"Canned\", \"Household\", \"Dairy\", \"Fruits and Vegetables\", \"Snack Foods\", \"Meat\", \"Frozen Foods\", \"Fruits and Vegetables\", \"Starchy Foods\", \"Fruits and Vegetables\", \"Baking Goods\", \"Fruits and Vegetables\", \"Fruits and Vegetables\", \"Fruits and Vegetables\", \"Snack Foods\", \"Meat\", \"Health and Hygiene\", \"Health and Hygiene\", \"Hard Drinks\", \"Household\", \"Health and Hygiene\", \"Health and Hygiene\", \"Frozen Foods\", \"Snack Foods\", \"Snack Foods\", \"Snack Foods\", \"Fruits and Vegetables\", \"Frozen Foods\", \"Hard Drinks\", \"Soft Drinks\", \"Soft Drinks\", \"Fruits and Vegetables\", \"Soft Drinks\", \"Others\", \"Canned\", \"Fruits and Vegetables\", \"Meat\", \"Snack Foods\", \"Snack Foods\", \"Household\", \"Snack Foods\", \"Seafood\", \"Fruits and Vegetables\", \"Household\", \"Health and Hygiene\", \"Household\", \"Snack Foods\", \"Household\", \"Fruits and Vegetables\", \"Household\", \"Snack Foods\", \"Soft Drinks\", \"Frozen Foods\", \"Fruits and Vegetables\", \"Fruits and Vegetables\", \"Snack Foods\", \"Frozen Foods\", \"Dairy\", \"Meat\", \"Canned\", \"Baking Goods\", \"Others\", \"Frozen Foods\", \"Snack Foods\", \"Baking Goods\", \"Health and Hygiene\", \"Snack Foods\", \"Soft Drinks\"], \"legendgroup\": \"\", \"name\": \"\", \"showlegend\": true, \"type\": \"pie\"}],\n",
              "                        {\"legend\": {\"tracegroupgap\": 0}, \"template\": {\"data\": {\"bar\": [{\"error_x\": {\"color\": \"#2a3f5f\"}, \"error_y\": {\"color\": \"#2a3f5f\"}, \"marker\": {\"line\": {\"color\": \"#E5ECF6\", \"width\": 0.5}}, \"type\": \"bar\"}], \"barpolar\": [{\"marker\": {\"line\": {\"color\": \"#E5ECF6\", \"width\": 0.5}}, \"type\": \"barpolar\"}], \"carpet\": [{\"aaxis\": {\"endlinecolor\": \"#2a3f5f\", \"gridcolor\": \"white\", \"linecolor\": \"white\", \"minorgridcolor\": \"white\", \"startlinecolor\": \"#2a3f5f\"}, \"baxis\": {\"endlinecolor\": \"#2a3f5f\", \"gridcolor\": \"white\", \"linecolor\": \"white\", \"minorgridcolor\": \"white\", \"startlinecolor\": \"#2a3f5f\"}, \"type\": \"carpet\"}], \"choropleth\": [{\"colorbar\": {\"outlinewidth\": 0, \"ticks\": \"\"}, \"type\": \"choropleth\"}], \"contour\": [{\"colorbar\": {\"outlinewidth\": 0, \"ticks\": \"\"}, \"colorscale\": [[0.0, \"#0d0887\"], [0.1111111111111111, \"#46039f\"], [0.2222222222222222, \"#7201a8\"], [0.3333333333333333, \"#9c179e\"], [0.4444444444444444, \"#bd3786\"], [0.5555555555555556, \"#d8576b\"], [0.6666666666666666, \"#ed7953\"], [0.7777777777777778, \"#fb9f3a\"], [0.8888888888888888, \"#fdca26\"], [1.0, \"#f0f921\"]], \"type\": \"contour\"}], \"contourcarpet\": [{\"colorbar\": {\"outlinewidth\": 0, \"ticks\": \"\"}, \"type\": \"contourcarpet\"}], \"heatmap\": [{\"colorbar\": {\"outlinewidth\": 0, \"ticks\": \"\"}, \"colorscale\": [[0.0, \"#0d0887\"], [0.1111111111111111, \"#46039f\"], [0.2222222222222222, \"#7201a8\"], [0.3333333333333333, \"#9c179e\"], [0.4444444444444444, \"#bd3786\"], [0.5555555555555556, \"#d8576b\"], [0.6666666666666666, \"#ed7953\"], [0.7777777777777778, \"#fb9f3a\"], [0.8888888888888888, \"#fdca26\"], [1.0, \"#f0f921\"]], \"type\": \"heatmap\"}], \"heatmapgl\": [{\"colorbar\": {\"outlinewidth\": 0, \"ticks\": \"\"}, \"colorscale\": [[0.0, \"#0d0887\"], [0.1111111111111111, \"#46039f\"], [0.2222222222222222, \"#7201a8\"], [0.3333333333333333, \"#9c179e\"], [0.4444444444444444, \"#bd3786\"], [0.5555555555555556, \"#d8576b\"], [0.6666666666666666, \"#ed7953\"], [0.7777777777777778, \"#fb9f3a\"], [0.8888888888888888, \"#fdca26\"], [1.0, \"#f0f921\"]], \"type\": \"heatmapgl\"}], \"histogram\": [{\"marker\": {\"colorbar\": {\"outlinewidth\": 0, \"ticks\": \"\"}}, \"type\": \"histogram\"}], \"histogram2d\": [{\"colorbar\": {\"outlinewidth\": 0, \"ticks\": \"\"}, \"colorscale\": [[0.0, \"#0d0887\"], [0.1111111111111111, \"#46039f\"], [0.2222222222222222, \"#7201a8\"], [0.3333333333333333, \"#9c179e\"], [0.4444444444444444, \"#bd3786\"], [0.5555555555555556, \"#d8576b\"], [0.6666666666666666, \"#ed7953\"], [0.7777777777777778, \"#fb9f3a\"], [0.8888888888888888, \"#fdca26\"], [1.0, \"#f0f921\"]], \"type\": \"histogram2d\"}], \"histogram2dcontour\": [{\"colorbar\": {\"outlinewidth\": 0, \"ticks\": \"\"}, \"colorscale\": [[0.0, \"#0d0887\"], [0.1111111111111111, \"#46039f\"], [0.2222222222222222, \"#7201a8\"], [0.3333333333333333, \"#9c179e\"], [0.4444444444444444, \"#bd3786\"], [0.5555555555555556, \"#d8576b\"], [0.6666666666666666, \"#ed7953\"], [0.7777777777777778, \"#fb9f3a\"], [0.8888888888888888, \"#fdca26\"], [1.0, \"#f0f921\"]], \"type\": \"histogram2dcontour\"}], \"mesh3d\": [{\"colorbar\": {\"outlinewidth\": 0, \"ticks\": \"\"}, \"type\": \"mesh3d\"}], \"parcoords\": [{\"line\": {\"colorbar\": {\"outlinewidth\": 0, \"ticks\": \"\"}}, \"type\": \"parcoords\"}], \"pie\": [{\"automargin\": true, \"type\": \"pie\"}], \"scatter\": [{\"marker\": {\"colorbar\": {\"outlinewidth\": 0, \"ticks\": \"\"}}, \"type\": \"scatter\"}], \"scatter3d\": [{\"line\": {\"colorbar\": {\"outlinewidth\": 0, \"ticks\": \"\"}}, \"marker\": {\"colorbar\": {\"outlinewidth\": 0, \"ticks\": \"\"}}, \"type\": \"scatter3d\"}], \"scattercarpet\": [{\"marker\": {\"colorbar\": {\"outlinewidth\": 0, \"ticks\": \"\"}}, \"type\": \"scattercarpet\"}], \"scattergeo\": [{\"marker\": {\"colorbar\": {\"outlinewidth\": 0, \"ticks\": \"\"}}, \"type\": \"scattergeo\"}], \"scattergl\": [{\"marker\": {\"colorbar\": {\"outlinewidth\": 0, \"ticks\": \"\"}}, \"type\": \"scattergl\"}], \"scattermapbox\": [{\"marker\": {\"colorbar\": {\"outlinewidth\": 0, \"ticks\": \"\"}}, \"type\": \"scattermapbox\"}], \"scatterpolar\": [{\"marker\": {\"colorbar\": {\"outlinewidth\": 0, \"ticks\": \"\"}}, \"type\": \"scatterpolar\"}], \"scatterpolargl\": [{\"marker\": {\"colorbar\": {\"outlinewidth\": 0, \"ticks\": \"\"}}, \"type\": \"scatterpolargl\"}], \"scatterternary\": [{\"marker\": {\"colorbar\": {\"outlinewidth\": 0, \"ticks\": \"\"}}, \"type\": \"scatterternary\"}], \"surface\": [{\"colorbar\": {\"outlinewidth\": 0, \"ticks\": \"\"}, \"colorscale\": [[0.0, \"#0d0887\"], [0.1111111111111111, \"#46039f\"], [0.2222222222222222, \"#7201a8\"], [0.3333333333333333, \"#9c179e\"], [0.4444444444444444, \"#bd3786\"], [0.5555555555555556, \"#d8576b\"], [0.6666666666666666, \"#ed7953\"], [0.7777777777777778, \"#fb9f3a\"], [0.8888888888888888, \"#fdca26\"], [1.0, \"#f0f921\"]], \"type\": \"surface\"}], \"table\": [{\"cells\": {\"fill\": {\"color\": \"#EBF0F8\"}, \"line\": {\"color\": \"white\"}}, \"header\": {\"fill\": {\"color\": \"#C8D4E3\"}, \"line\": {\"color\": \"white\"}}, \"type\": \"table\"}]}, \"layout\": {\"annotationdefaults\": {\"arrowcolor\": \"#2a3f5f\", \"arrowhead\": 0, \"arrowwidth\": 1}, \"coloraxis\": {\"colorbar\": {\"outlinewidth\": 0, \"ticks\": \"\"}}, \"colorscale\": {\"diverging\": [[0, \"#8e0152\"], [0.1, \"#c51b7d\"], [0.2, \"#de77ae\"], [0.3, \"#f1b6da\"], [0.4, \"#fde0ef\"], [0.5, \"#f7f7f7\"], [0.6, \"#e6f5d0\"], [0.7, \"#b8e186\"], [0.8, \"#7fbc41\"], [0.9, \"#4d9221\"], [1, \"#276419\"]], \"sequential\": [[0.0, \"#0d0887\"], [0.1111111111111111, \"#46039f\"], [0.2222222222222222, \"#7201a8\"], [0.3333333333333333, \"#9c179e\"], [0.4444444444444444, \"#bd3786\"], [0.5555555555555556, \"#d8576b\"], [0.6666666666666666, \"#ed7953\"], [0.7777777777777778, \"#fb9f3a\"], [0.8888888888888888, \"#fdca26\"], [1.0, \"#f0f921\"]], \"sequentialminus\": [[0.0, \"#0d0887\"], [0.1111111111111111, \"#46039f\"], [0.2222222222222222, \"#7201a8\"], [0.3333333333333333, \"#9c179e\"], [0.4444444444444444, \"#bd3786\"], [0.5555555555555556, \"#d8576b\"], [0.6666666666666666, \"#ed7953\"], [0.7777777777777778, \"#fb9f3a\"], [0.8888888888888888, \"#fdca26\"], [1.0, \"#f0f921\"]]}, \"colorway\": [\"#636efa\", \"#EF553B\", \"#00cc96\", \"#ab63fa\", \"#FFA15A\", \"#19d3f3\", \"#FF6692\", \"#B6E880\", \"#FF97FF\", \"#FECB52\"], \"font\": {\"color\": \"#2a3f5f\"}, \"geo\": {\"bgcolor\": \"white\", \"lakecolor\": \"white\", \"landcolor\": \"#E5ECF6\", \"showlakes\": true, \"showland\": true, \"subunitcolor\": \"white\"}, \"hoverlabel\": {\"align\": \"left\"}, \"hovermode\": \"closest\", \"mapbox\": {\"style\": \"light\"}, \"paper_bgcolor\": \"white\", \"plot_bgcolor\": \"#E5ECF6\", \"polar\": {\"angularaxis\": {\"gridcolor\": \"white\", \"linecolor\": \"white\", \"ticks\": \"\"}, \"bgcolor\": \"#E5ECF6\", \"radialaxis\": {\"gridcolor\": \"white\", \"linecolor\": \"white\", \"ticks\": \"\"}}, \"scene\": {\"xaxis\": {\"backgroundcolor\": \"#E5ECF6\", \"gridcolor\": \"white\", \"gridwidth\": 2, \"linecolor\": \"white\", \"showbackground\": true, \"ticks\": \"\", \"zerolinecolor\": \"white\"}, \"yaxis\": {\"backgroundcolor\": \"#E5ECF6\", \"gridcolor\": \"white\", \"gridwidth\": 2, \"linecolor\": \"white\", \"showbackground\": true, \"ticks\": \"\", \"zerolinecolor\": \"white\"}, \"zaxis\": {\"backgroundcolor\": \"#E5ECF6\", \"gridcolor\": \"white\", \"gridwidth\": 2, \"linecolor\": \"white\", \"showbackground\": true, \"ticks\": \"\", \"zerolinecolor\": \"white\"}}, \"shapedefaults\": {\"line\": {\"color\": \"#2a3f5f\"}}, \"ternary\": {\"aaxis\": {\"gridcolor\": \"white\", \"linecolor\": \"white\", \"ticks\": \"\"}, \"baxis\": {\"gridcolor\": \"white\", \"linecolor\": \"white\", \"ticks\": \"\"}, \"bgcolor\": \"#E5ECF6\", \"caxis\": {\"gridcolor\": \"white\", \"linecolor\": \"white\", \"ticks\": \"\"}}, \"title\": {\"x\": 0.05}, \"xaxis\": {\"automargin\": true, \"gridcolor\": \"white\", \"linecolor\": \"white\", \"ticks\": \"\", \"title\": {\"standoff\": 15}, \"zerolinecolor\": \"white\", \"zerolinewidth\": 2}, \"yaxis\": {\"automargin\": true, \"gridcolor\": \"white\", \"linecolor\": \"white\", \"ticks\": \"\", \"title\": {\"standoff\": 15}, \"zerolinecolor\": \"white\", \"zerolinewidth\": 2}}}, \"title\": {\"text\": \"Item Types in Big mart dataset\"}},\n",
              "                        {\"responsive\": true}\n",
              "                    ).then(function(){\n",
              "                            \n",
              "var gd = document.getElementById('2bb6bd81-63a0-4d2a-ab80-338bff6e189b');\n",
              "var x = new MutationObserver(function (mutations, observer) {{\n",
              "        var display = window.getComputedStyle(gd).display;\n",
              "        if (!display || display === 'none') {{\n",
              "            console.log([gd, 'removed!']);\n",
              "            Plotly.purge(gd);\n",
              "            observer.disconnect();\n",
              "        }}\n",
              "}});\n",
              "\n",
              "// Listen for the removal of the full notebook cells\n",
              "var notebookContainer = gd.closest('#notebook-container');\n",
              "if (notebookContainer) {{\n",
              "    x.observe(notebookContainer, {childList: true});\n",
              "}}\n",
              "\n",
              "// Listen for the clearing of the current output cell\n",
              "var outputEl = gd.closest('.output');\n",
              "if (outputEl) {{\n",
              "    x.observe(outputEl, {childList: true});\n",
              "}}\n",
              "\n",
              "                        })\n",
              "                };\n",
              "                \n",
              "            </script>\n",
              "        </div>\n",
              "</body>\n",
              "</html>"
            ]
          },
          "metadata": {
            "tags": []
          }
        }
      ]
    },
    {
      "cell_type": "code",
      "metadata": {
        "colab": {
          "base_uri": "https://localhost:8080/",
          "height": 386
        },
        "id": "78x_7oqB3Gkm",
        "outputId": "da10263f-03fc-469a-c1f1-3f8f15539681"
      },
      "source": [
        "#Let's explore outlet location type\r\n",
        "\r\n",
        "sns.countplot(train[\"Outlet_Location_Type\"], palette=\"pastel\")"
      ],
      "execution_count": 16,
      "outputs": [
        {
          "output_type": "stream",
          "text": [
            "/usr/local/lib/python3.6/dist-packages/seaborn/_decorators.py:43: FutureWarning:\n",
            "\n",
            "Pass the following variable as a keyword arg: x. From version 0.12, the only valid positional argument will be `data`, and passing other arguments without an explicit keyword will result in an error or misinterpretation.\n",
            "\n"
          ],
          "name": "stderr"
        },
        {
          "output_type": "execute_result",
          "data": {
            "text/plain": [
              "<matplotlib.axes._subplots.AxesSubplot at 0x7f4e10e202e8>"
            ]
          },
          "metadata": {
            "tags": []
          },
          "execution_count": 16
        },
        {
          "output_type": "display_data",
          "data": {
            "image/png": "[encoded data removed]",
            "text/plain": [
              "<Figure size 432x288 with 1 Axes>"
            ]
          },
          "metadata": {
            "tags": [],
            "needs_background": "light"
          }
        }
      ]
    },
    {
      "cell_type": "code",
      "metadata": {
        "colab": {
          "base_uri": "https://localhost:8080/"
        },
        "id": "emcN-JsX9aLj",
        "outputId": "47106639-8abc-4e9c-fb02-eee624120b60"
      },
      "source": [
        "train[\"Outlet_Type\"].unique()"
      ],
      "execution_count": 17,
      "outputs": [
        {
          "output_type": "execute_result",
          "data": {
            "text/plain": [
              "array(['Supermarket Type1', 'Supermarket Type2', 'Grocery Store',\n",
              "       'Supermarket Type3'], dtype=object)"
            ]
          },
          "metadata": {
            "tags": []
          },
          "execution_count": 17
        }
      ]
    },
    {
      "cell_type": "code",
      "metadata": {
        "colab": {
          "base_uri": "https://localhost:8080/",
          "height": 454
        },
        "id": "gTurgFcw-fTi",
        "outputId": "80d03017-dc7e-41e4-b7f4-589f5f040169"
      },
      "source": [
        "sns.countplot(train[\"Outlet_Type\"],palette =\"husl\")\r\n",
        "plt.xticks(rotation = 90)\r\n",
        "plt.show()"
      ],
      "execution_count": 18,
      "outputs": [
        {
          "output_type": "stream",
          "text": [
            "/usr/local/lib/python3.6/dist-packages/seaborn/_decorators.py:43: FutureWarning:\n",
            "\n",
            "Pass the following variable as a keyword arg: x. From version 0.12, the only valid positional argument will be `data`, and passing other arguments without an explicit keyword will result in an error or misinterpretation.\n",
            "\n"
          ],
          "name": "stderr"
        },
        {
          "output_type": "display_data",
          "data": {
            "image/png": "[encoded data removed]",
            "text/plain": [
              "<Figure size 432x288 with 1 Axes>"
            ]
          },
          "metadata": {
            "tags": [],
            "needs_background": "light"
          }
        }
      ]
    },
    {
      "cell_type": "markdown",
      "metadata": {
        "id": "9DlIhdHlikH4"
      },
      "source": [
        "## Correlation matrix for feature selection "
      ]
    },
    {
      "cell_type": "code",
      "metadata": {
        "id": "I6kfCaRc_bZJ",
        "colab": {
          "base_uri": "https://localhost:8080/",
          "height": 409
        },
        "outputId": "c7d3a792-55cb-4865-e5cd-0effe9dacb9d"
      },
      "source": [
        "corr = train.corr()\r\n",
        "sns.heatmap(corr, annot = True)"
      ],
      "execution_count": 19,
      "outputs": [
        {
          "output_type": "execute_result",
          "data": {
            "text/plain": [
              "<matplotlib.axes._subplots.AxesSubplot at 0x7f4e0f560b00>"
            ]
          },
          "metadata": {
            "tags": []
          },
          "execution_count": 19
        },
        {
          "output_type": "display_data",
          "data": {
            "image/png": "[encoded data removed]",
            "text/plain": [
              "<Figure size 432x288 with 2 Axes>"
            ]
          },
          "metadata": {
            "tags": [],
            "needs_background": "light"
          }
        }
      ]
    },
    {
      "cell_type": "code",
      "metadata": {
        "colab": {
          "base_uri": "https://localhost:8080/",
          "height": 304
        },
        "id": "MFzVclCLj-N6",
        "outputId": "b8c7c5fb-7b67-46ec-f250-0544eda62aa5"
      },
      "source": [
        "train.head()"
      ],
      "execution_count": 20,
      "outputs": [
        {
          "output_type": "execute_result",
          "data": {
            "text/html": [
              "<div>\n",
              "<style scoped>\n",
              "    .dataframe tbody tr th:only-of-type {\n",
              "        vertical-align: middle;\n",
              "    }\n",
              "\n",
              "    .dataframe tbody tr th {\n",
              "        vertical-align: top;\n",
              "    }\n",
              "\n",
              "    .dataframe thead th {\n",
              "        text-align: right;\n",
              "    }\n",
              "</style>\n",
              "<table border=\"1\" class=\"dataframe\">\n",
              "  <thead>\n",
              "    <tr style=\"text-align: right;\">\n",
              "      <th></th>\n",
              "      <th>Item_Identifier</th>\n",
              "      <th>Item_Weight</th>\n",
              "      <th>Item_Fat_Content</th>\n",
              "      <th>Item_Visibility</th>\n",
              "      <th>Item_Type</th>\n",
              "      <th>Item_MRP</th>\n",
              "      <th>Outlet_Identifier</th>\n",
              "      <th>Outlet_Establishment_Year</th>\n",
              "      <th>Outlet_Size</th>\n",
              "      <th>Outlet_Location_Type</th>\n",
              "      <th>Outlet_Type</th>\n",
              "      <th>Item_Outlet_Sales</th>\n",
              "    </tr>\n",
              "  </thead>\n",
              "  <tbody>\n",
              "    <tr>\n",
              "      <th>0</th>\n",
              "      <td>FDA15</td>\n",
              "      <td>9.30</td>\n",
              "      <td>Low Fat</td>\n",
              "      <td>0.016047</td>\n",
              "      <td>Dairy</td>\n",
              "      <td>249.8092</td>\n",
              "      <td>OUT049</td>\n",
              "      <td>1999</td>\n",
              "      <td>2.0</td>\n",
              "      <td>Tier 1</td>\n",
              "      <td>Supermarket Type1</td>\n",
              "      <td>3735.1380</td>\n",
              "    </tr>\n",
              "    <tr>\n",
              "      <th>1</th>\n",
              "      <td>DRC01</td>\n",
              "      <td>5.92</td>\n",
              "      <td>Regular</td>\n",
              "      <td>0.019278</td>\n",
              "      <td>Soft Drinks</td>\n",
              "      <td>48.2692</td>\n",
              "      <td>OUT018</td>\n",
              "      <td>2009</td>\n",
              "      <td>2.0</td>\n",
              "      <td>Tier 3</td>\n",
              "      <td>Supermarket Type2</td>\n",
              "      <td>443.4228</td>\n",
              "    </tr>\n",
              "    <tr>\n",
              "      <th>2</th>\n",
              "      <td>FDN15</td>\n",
              "      <td>17.50</td>\n",
              "      <td>Low Fat</td>\n",
              "      <td>0.016760</td>\n",
              "      <td>Meat</td>\n",
              "      <td>141.6180</td>\n",
              "      <td>OUT049</td>\n",
              "      <td>1999</td>\n",
              "      <td>2.0</td>\n",
              "      <td>Tier 1</td>\n",
              "      <td>Supermarket Type1</td>\n",
              "      <td>2097.2700</td>\n",
              "    </tr>\n",
              "    <tr>\n",
              "      <th>3</th>\n",
              "      <td>FDX07</td>\n",
              "      <td>19.20</td>\n",
              "      <td>Regular</td>\n",
              "      <td>0.000000</td>\n",
              "      <td>Fruits and Vegetables</td>\n",
              "      <td>182.0950</td>\n",
              "      <td>OUT010</td>\n",
              "      <td>1998</td>\n",
              "      <td>2.0</td>\n",
              "      <td>Tier 3</td>\n",
              "      <td>Grocery Store</td>\n",
              "      <td>732.3800</td>\n",
              "    </tr>\n",
              "    <tr>\n",
              "      <th>4</th>\n",
              "      <td>NCD19</td>\n",
              "      <td>8.93</td>\n",
              "      <td>Low Fat</td>\n",
              "      <td>0.000000</td>\n",
              "      <td>Household</td>\n",
              "      <td>53.8614</td>\n",
              "      <td>OUT013</td>\n",
              "      <td>1987</td>\n",
              "      <td>3.0</td>\n",
              "      <td>Tier 3</td>\n",
              "      <td>Supermarket Type1</td>\n",
              "      <td>994.7052</td>\n",
              "    </tr>\n",
              "  </tbody>\n",
              "</table>\n",
              "</div>"
            ],
            "text/plain": [
              "  Item_Identifier  Item_Weight  ...        Outlet_Type  Item_Outlet_Sales\n",
              "0           FDA15         9.30  ...  Supermarket Type1          3735.1380\n",
              "1           DRC01         5.92  ...  Supermarket Type2           443.4228\n",
              "2           FDN15        17.50  ...  Supermarket Type1          2097.2700\n",
              "3           FDX07        19.20  ...      Grocery Store           732.3800\n",
              "4           NCD19         8.93  ...  Supermarket Type1           994.7052\n",
              "\n",
              "[5 rows x 12 columns]"
            ]
          },
          "metadata": {
            "tags": []
          },
          "execution_count": 20
        }
      ]
    },
    {
      "cell_type": "code",
      "metadata": {
        "id": "mUPW9uXEomom"
      },
      "source": [
        "Fat_Contents = {'Low Fat':'Low Fat', 'low fat':'Low Fat', 'LF':'Low Fat',\r\n",
        "               'Regular':'Regular', 'reg':'Regular'}\r\n"
      ],
      "execution_count": 21,
      "outputs": []
    },
    {
      "cell_type": "code",
      "metadata": {
        "colab": {
          "base_uri": "https://localhost:8080/"
        },
        "id": "Q9SvDZ5hoyPM",
        "outputId": "935c0587-8da7-448a-dccd-53c994094f23"
      },
      "source": [
        "train[\"Item_Fat_Content\"].unique()"
      ],
      "execution_count": 22,
      "outputs": [
        {
          "output_type": "execute_result",
          "data": {
            "text/plain": [
              "array(['Low Fat', 'Regular', 'low fat', 'LF', 'reg'], dtype=object)"
            ]
          },
          "metadata": {
            "tags": []
          },
          "execution_count": 22
        }
      ]
    },
    {
      "cell_type": "code",
      "metadata": {
        "id": "rhIE3RHqoyUQ"
      },
      "source": [
        "train['Item_Fat_Content'] = train['Item_Fat_Content'].map(Fat_Contents)\r\n"
      ],
      "execution_count": 23,
      "outputs": []
    },
    {
      "cell_type": "code",
      "metadata": {
        "colab": {
          "base_uri": "https://localhost:8080/"
        },
        "id": "fXw060nfpauO",
        "outputId": "4e9b609c-fece-4bfe-80df-61c6e728a863"
      },
      "source": [
        "train[\"Item_Fat_Content\"].unique()"
      ],
      "execution_count": 24,
      "outputs": [
        {
          "output_type": "execute_result",
          "data": {
            "text/plain": [
              "array(['Low Fat', 'Regular'], dtype=object)"
            ]
          },
          "metadata": {
            "tags": []
          },
          "execution_count": 24
        }
      ]
    },
    {
      "cell_type": "code",
      "metadata": {
        "colab": {
          "base_uri": "https://localhost:8080/"
        },
        "id": "e9rR0bqPq3OX",
        "outputId": "11589d5a-158e-487a-d7cf-8a75a7e917a5"
      },
      "source": [
        "test[\"Item_Fat_Content\"].unique()"
      ],
      "execution_count": 25,
      "outputs": [
        {
          "output_type": "execute_result",
          "data": {
            "text/plain": [
              "array(['Low Fat', 'reg', 'Regular', 'LF', 'low fat'], dtype=object)"
            ]
          },
          "metadata": {
            "tags": []
          },
          "execution_count": 25
        }
      ]
    },
    {
      "cell_type": "code",
      "metadata": {
        "id": "wZ7Li1Urq-I7"
      },
      "source": [
        "test[\"Item_Fat_Content\"] = test[\"Item_Fat_Content\"].map(Fat_Contents)"
      ],
      "execution_count": 26,
      "outputs": []
    },
    {
      "cell_type": "code",
      "metadata": {
        "colab": {
          "base_uri": "https://localhost:8080/"
        },
        "id": "dlGXK4gPq-M8",
        "outputId": "e8f5040a-3073-490a-cd51-6376e51c0511"
      },
      "source": [
        "test[\"Item_Fat_Content\"].unique()"
      ],
      "execution_count": 27,
      "outputs": [
        {
          "output_type": "execute_result",
          "data": {
            "text/plain": [
              "array(['Low Fat', 'Regular'], dtype=object)"
            ]
          },
          "metadata": {
            "tags": []
          },
          "execution_count": 27
        }
      ]
    },
    {
      "cell_type": "code",
      "metadata": {
        "id": "_Yy3TTzIpeBe"
      },
      "source": [
        "# Let's get dummy variabls for categorical variables\r\n",
        "\r\n",
        "dummy_features = ['Outlet_Size','Outlet_Type','Outlet_Location_Type','Item_Fat_Content',\"Item_Type\"]\r\n",
        "X = pd.get_dummies(train[dummy_features])\r\n",
        "train = pd.concat([train,X],axis=1)"
      ],
      "execution_count": 28,
      "outputs": []
    },
    {
      "cell_type": "code",
      "metadata": {
        "id": "NTTMPi_1p6nU"
      },
      "source": [
        "train.drop(labels = [\"Outlet_Size\",'Outlet_Location_Type',\"Outlet_Type\",'Item_Fat_Content',\r\n",
        "                     'Outlet_Identifier','Item_Identifier',\"Item_Type\",\"Outlet_Establishment_Year\"],\r\n",
        "           axis=1,inplace = True)"
      ],
      "execution_count": 29,
      "outputs": []
    },
    {
      "cell_type": "code",
      "metadata": {
        "colab": {
          "base_uri": "https://localhost:8080/",
          "height": 237
        },
        "id": "BeBdKG08qKj_",
        "outputId": "500b3467-108e-4cce-efad-705dcbfb8c23"
      },
      "source": [
        "train.head()"
      ],
      "execution_count": 30,
      "outputs": [
        {
          "output_type": "execute_result",
          "data": {
            "text/html": [
              "<div>\n",
              "<style scoped>\n",
              "    .dataframe tbody tr th:only-of-type {\n",
              "        vertical-align: middle;\n",
              "    }\n",
              "\n",
              "    .dataframe tbody tr th {\n",
              "        vertical-align: top;\n",
              "    }\n",
              "\n",
              "    .dataframe thead th {\n",
              "        text-align: right;\n",
              "    }\n",
              "</style>\n",
              "<table border=\"1\" class=\"dataframe\">\n",
              "  <thead>\n",
              "    <tr style=\"text-align: right;\">\n",
              "      <th></th>\n",
              "      <th>Item_Weight</th>\n",
              "      <th>Item_Visibility</th>\n",
              "      <th>Item_MRP</th>\n",
              "      <th>Item_Outlet_Sales</th>\n",
              "      <th>Outlet_Type_Grocery Store</th>\n",
              "      <th>Outlet_Type_Supermarket Type1</th>\n",
              "      <th>Outlet_Type_Supermarket Type2</th>\n",
              "      <th>Outlet_Type_Supermarket Type3</th>\n",
              "      <th>Outlet_Location_Type_Tier 1</th>\n",
              "      <th>Outlet_Location_Type_Tier 2</th>\n",
              "      <th>Outlet_Location_Type_Tier 3</th>\n",
              "      <th>Item_Fat_Content_Low Fat</th>\n",
              "      <th>Item_Fat_Content_Regular</th>\n",
              "      <th>Item_Type_Baking Goods</th>\n",
              "      <th>Item_Type_Breads</th>\n",
              "      <th>Item_Type_Breakfast</th>\n",
              "      <th>Item_Type_Canned</th>\n",
              "      <th>Item_Type_Dairy</th>\n",
              "      <th>Item_Type_Frozen Foods</th>\n",
              "      <th>Item_Type_Fruits and Vegetables</th>\n",
              "      <th>Item_Type_Hard Drinks</th>\n",
              "      <th>Item_Type_Health and Hygiene</th>\n",
              "      <th>Item_Type_Household</th>\n",
              "      <th>Item_Type_Meat</th>\n",
              "      <th>Item_Type_Others</th>\n",
              "      <th>Item_Type_Seafood</th>\n",
              "      <th>Item_Type_Snack Foods</th>\n",
              "      <th>Item_Type_Soft Drinks</th>\n",
              "      <th>Item_Type_Starchy Foods</th>\n",
              "    </tr>\n",
              "  </thead>\n",
              "  <tbody>\n",
              "    <tr>\n",
              "      <th>0</th>\n",
              "      <td>9.30</td>\n",
              "      <td>0.016047</td>\n",
              "      <td>249.8092</td>\n",
              "      <td>3735.1380</td>\n",
              "      <td>0</td>\n",
              "      <td>1</td>\n",
              "      <td>0</td>\n",
              "      <td>0</td>\n",
              "      <td>1</td>\n",
              "      <td>0</td>\n",
              "      <td>0</td>\n",
              "      <td>1</td>\n",
              "      <td>0</td>\n",
              "      <td>0</td>\n",
              "      <td>0</td>\n",
              "      <td>0</td>\n",
              "      <td>0</td>\n",
              "      <td>1</td>\n",
              "      <td>0</td>\n",
              "      <td>0</td>\n",
              "      <td>0</td>\n",
              "      <td>0</td>\n",
              "      <td>0</td>\n",
              "      <td>0</td>\n",
              "      <td>0</td>\n",
              "      <td>0</td>\n",
              "      <td>0</td>\n",
              "      <td>0</td>\n",
              "      <td>0</td>\n",
              "    </tr>\n",
              "    <tr>\n",
              "      <th>1</th>\n",
              "      <td>5.92</td>\n",
              "      <td>0.019278</td>\n",
              "      <td>48.2692</td>\n",
              "      <td>443.4228</td>\n",
              "      <td>0</td>\n",
              "      <td>0</td>\n",
              "      <td>1</td>\n",
              "      <td>0</td>\n",
              "      <td>0</td>\n",
              "      <td>0</td>\n",
              "      <td>1</td>\n",
              "      <td>0</td>\n",
              "      <td>1</td>\n",
              "      <td>0</td>\n",
              "      <td>0</td>\n",
              "      <td>0</td>\n",
              "      <td>0</td>\n",
              "      <td>0</td>\n",
              "      <td>0</td>\n",
              "      <td>0</td>\n",
              "      <td>0</td>\n",
              "      <td>0</td>\n",
              "      <td>0</td>\n",
              "      <td>0</td>\n",
              "      <td>0</td>\n",
              "      <td>0</td>\n",
              "      <td>0</td>\n",
              "      <td>1</td>\n",
              "      <td>0</td>\n",
              "    </tr>\n",
              "    <tr>\n",
              "      <th>2</th>\n",
              "      <td>17.50</td>\n",
              "      <td>0.016760</td>\n",
              "      <td>141.6180</td>\n",
              "      <td>2097.2700</td>\n",
              "      <td>0</td>\n",
              "      <td>1</td>\n",
              "      <td>0</td>\n",
              "      <td>0</td>\n",
              "      <td>1</td>\n",
              "      <td>0</td>\n",
              "      <td>0</td>\n",
              "      <td>1</td>\n",
              "      <td>0</td>\n",
              "      <td>0</td>\n",
              "      <td>0</td>\n",
              "      <td>0</td>\n",
              "      <td>0</td>\n",
              "      <td>0</td>\n",
              "      <td>0</td>\n",
              "      <td>0</td>\n",
              "      <td>0</td>\n",
              "      <td>0</td>\n",
              "      <td>0</td>\n",
              "      <td>1</td>\n",
              "      <td>0</td>\n",
              "      <td>0</td>\n",
              "      <td>0</td>\n",
              "      <td>0</td>\n",
              "      <td>0</td>\n",
              "    </tr>\n",
              "    <tr>\n",
              "      <th>3</th>\n",
              "      <td>19.20</td>\n",
              "      <td>0.000000</td>\n",
              "      <td>182.0950</td>\n",
              "      <td>732.3800</td>\n",
              "      <td>1</td>\n",
              "      <td>0</td>\n",
              "      <td>0</td>\n",
              "      <td>0</td>\n",
              "      <td>0</td>\n",
              "      <td>0</td>\n",
              "      <td>1</td>\n",
              "      <td>0</td>\n",
              "      <td>1</td>\n",
              "      <td>0</td>\n",
              "      <td>0</td>\n",
              "      <td>0</td>\n",
              "      <td>0</td>\n",
              "      <td>0</td>\n",
              "      <td>0</td>\n",
              "      <td>1</td>\n",
              "      <td>0</td>\n",
              "      <td>0</td>\n",
              "      <td>0</td>\n",
              "      <td>0</td>\n",
              "      <td>0</td>\n",
              "      <td>0</td>\n",
              "      <td>0</td>\n",
              "      <td>0</td>\n",
              "      <td>0</td>\n",
              "    </tr>\n",
              "    <tr>\n",
              "      <th>4</th>\n",
              "      <td>8.93</td>\n",
              "      <td>0.000000</td>\n",
              "      <td>53.8614</td>\n",
              "      <td>994.7052</td>\n",
              "      <td>0</td>\n",
              "      <td>1</td>\n",
              "      <td>0</td>\n",
              "      <td>0</td>\n",
              "      <td>0</td>\n",
              "      <td>0</td>\n",
              "      <td>1</td>\n",
              "      <td>1</td>\n",
              "      <td>0</td>\n",
              "      <td>0</td>\n",
              "      <td>0</td>\n",
              "      <td>0</td>\n",
              "      <td>0</td>\n",
              "      <td>0</td>\n",
              "      <td>0</td>\n",
              "      <td>0</td>\n",
              "      <td>0</td>\n",
              "      <td>0</td>\n",
              "      <td>1</td>\n",
              "      <td>0</td>\n",
              "      <td>0</td>\n",
              "      <td>0</td>\n",
              "      <td>0</td>\n",
              "      <td>0</td>\n",
              "      <td>0</td>\n",
              "    </tr>\n",
              "  </tbody>\n",
              "</table>\n",
              "</div>"
            ],
            "text/plain": [
              "   Item_Weight  Item_Visibility  ...  Item_Type_Soft Drinks  Item_Type_Starchy Foods\n",
              "0         9.30         0.016047  ...                      0                        0\n",
              "1         5.92         0.019278  ...                      1                        0\n",
              "2        17.50         0.016760  ...                      0                        0\n",
              "3        19.20         0.000000  ...                      0                        0\n",
              "4         8.93         0.000000  ...                      0                        0\n",
              "\n",
              "[5 rows x 29 columns]"
            ]
          },
          "metadata": {
            "tags": []
          },
          "execution_count": 30
        }
      ]
    },
    {
      "cell_type": "code",
      "metadata": {
        "id": "2pMUDuuoqLv6"
      },
      "source": [
        "dummy_features = ['Outlet_Size','Outlet_Type','Outlet_Location_Type','Item_Fat_Content',\"Item_Type\"]\r\n",
        "y = pd.get_dummies(test[dummy_features])\r\n",
        "test = pd.concat([test,y],axis=1)"
      ],
      "execution_count": 31,
      "outputs": []
    },
    {
      "cell_type": "code",
      "metadata": {
        "id": "vXaYVrGXrel0"
      },
      "source": [
        "test.drop(labels = [\"Outlet_Size\",'Outlet_Location_Type',\"Outlet_Type\",'Item_Fat_Content',\r\n",
        "                     'Outlet_Identifier','Item_Identifier',\"Item_Type\",\"Outlet_Establishment_Year\"],\r\n",
        "           axis=1,inplace = True)"
      ],
      "execution_count": 32,
      "outputs": []
    },
    {
      "cell_type": "code",
      "metadata": {
        "colab": {
          "base_uri": "https://localhost:8080/",
          "height": 237
        },
        "id": "I-i4oVGirbnt",
        "outputId": "ad1e46ac-be67-4872-d5cb-75549177bfa3"
      },
      "source": [
        "test.head()"
      ],
      "execution_count": 33,
      "outputs": [
        {
          "output_type": "execute_result",
          "data": {
            "text/html": [
              "<div>\n",
              "<style scoped>\n",
              "    .dataframe tbody tr th:only-of-type {\n",
              "        vertical-align: middle;\n",
              "    }\n",
              "\n",
              "    .dataframe tbody tr th {\n",
              "        vertical-align: top;\n",
              "    }\n",
              "\n",
              "    .dataframe thead th {\n",
              "        text-align: right;\n",
              "    }\n",
              "</style>\n",
              "<table border=\"1\" class=\"dataframe\">\n",
              "  <thead>\n",
              "    <tr style=\"text-align: right;\">\n",
              "      <th></th>\n",
              "      <th>Item_Weight</th>\n",
              "      <th>Item_Visibility</th>\n",
              "      <th>Item_MRP</th>\n",
              "      <th>Outlet_Type_Grocery Store</th>\n",
              "      <th>Outlet_Type_Supermarket Type1</th>\n",
              "      <th>Outlet_Type_Supermarket Type2</th>\n",
              "      <th>Outlet_Type_Supermarket Type3</th>\n",
              "      <th>Outlet_Location_Type_Tier 1</th>\n",
              "      <th>Outlet_Location_Type_Tier 2</th>\n",
              "      <th>Outlet_Location_Type_Tier 3</th>\n",
              "      <th>Item_Fat_Content_Low Fat</th>\n",
              "      <th>Item_Fat_Content_Regular</th>\n",
              "      <th>Item_Type_Baking Goods</th>\n",
              "      <th>Item_Type_Breads</th>\n",
              "      <th>Item_Type_Breakfast</th>\n",
              "      <th>Item_Type_Canned</th>\n",
              "      <th>Item_Type_Dairy</th>\n",
              "      <th>Item_Type_Frozen Foods</th>\n",
              "      <th>Item_Type_Fruits and Vegetables</th>\n",
              "      <th>Item_Type_Hard Drinks</th>\n",
              "      <th>Item_Type_Health and Hygiene</th>\n",
              "      <th>Item_Type_Household</th>\n",
              "      <th>Item_Type_Meat</th>\n",
              "      <th>Item_Type_Others</th>\n",
              "      <th>Item_Type_Seafood</th>\n",
              "      <th>Item_Type_Snack Foods</th>\n",
              "      <th>Item_Type_Soft Drinks</th>\n",
              "      <th>Item_Type_Starchy Foods</th>\n",
              "    </tr>\n",
              "  </thead>\n",
              "  <tbody>\n",
              "    <tr>\n",
              "      <th>0</th>\n",
              "      <td>20.750000</td>\n",
              "      <td>0.007565</td>\n",
              "      <td>107.8622</td>\n",
              "      <td>0</td>\n",
              "      <td>1</td>\n",
              "      <td>0</td>\n",
              "      <td>0</td>\n",
              "      <td>1</td>\n",
              "      <td>0</td>\n",
              "      <td>0</td>\n",
              "      <td>1</td>\n",
              "      <td>0</td>\n",
              "      <td>0</td>\n",
              "      <td>0</td>\n",
              "      <td>0</td>\n",
              "      <td>0</td>\n",
              "      <td>0</td>\n",
              "      <td>0</td>\n",
              "      <td>0</td>\n",
              "      <td>0</td>\n",
              "      <td>0</td>\n",
              "      <td>0</td>\n",
              "      <td>0</td>\n",
              "      <td>0</td>\n",
              "      <td>0</td>\n",
              "      <td>1</td>\n",
              "      <td>0</td>\n",
              "      <td>0</td>\n",
              "    </tr>\n",
              "    <tr>\n",
              "      <th>1</th>\n",
              "      <td>8.300000</td>\n",
              "      <td>0.038428</td>\n",
              "      <td>87.3198</td>\n",
              "      <td>0</td>\n",
              "      <td>1</td>\n",
              "      <td>0</td>\n",
              "      <td>0</td>\n",
              "      <td>0</td>\n",
              "      <td>1</td>\n",
              "      <td>0</td>\n",
              "      <td>0</td>\n",
              "      <td>1</td>\n",
              "      <td>0</td>\n",
              "      <td>0</td>\n",
              "      <td>0</td>\n",
              "      <td>0</td>\n",
              "      <td>1</td>\n",
              "      <td>0</td>\n",
              "      <td>0</td>\n",
              "      <td>0</td>\n",
              "      <td>0</td>\n",
              "      <td>0</td>\n",
              "      <td>0</td>\n",
              "      <td>0</td>\n",
              "      <td>0</td>\n",
              "      <td>0</td>\n",
              "      <td>0</td>\n",
              "      <td>0</td>\n",
              "    </tr>\n",
              "    <tr>\n",
              "      <th>2</th>\n",
              "      <td>14.600000</td>\n",
              "      <td>0.099575</td>\n",
              "      <td>241.7538</td>\n",
              "      <td>1</td>\n",
              "      <td>0</td>\n",
              "      <td>0</td>\n",
              "      <td>0</td>\n",
              "      <td>0</td>\n",
              "      <td>0</td>\n",
              "      <td>1</td>\n",
              "      <td>1</td>\n",
              "      <td>0</td>\n",
              "      <td>0</td>\n",
              "      <td>0</td>\n",
              "      <td>0</td>\n",
              "      <td>0</td>\n",
              "      <td>0</td>\n",
              "      <td>0</td>\n",
              "      <td>0</td>\n",
              "      <td>0</td>\n",
              "      <td>0</td>\n",
              "      <td>0</td>\n",
              "      <td>0</td>\n",
              "      <td>1</td>\n",
              "      <td>0</td>\n",
              "      <td>0</td>\n",
              "      <td>0</td>\n",
              "      <td>0</td>\n",
              "    </tr>\n",
              "    <tr>\n",
              "      <th>3</th>\n",
              "      <td>7.315000</td>\n",
              "      <td>0.015388</td>\n",
              "      <td>155.0340</td>\n",
              "      <td>0</td>\n",
              "      <td>1</td>\n",
              "      <td>0</td>\n",
              "      <td>0</td>\n",
              "      <td>0</td>\n",
              "      <td>1</td>\n",
              "      <td>0</td>\n",
              "      <td>1</td>\n",
              "      <td>0</td>\n",
              "      <td>0</td>\n",
              "      <td>0</td>\n",
              "      <td>0</td>\n",
              "      <td>0</td>\n",
              "      <td>0</td>\n",
              "      <td>0</td>\n",
              "      <td>0</td>\n",
              "      <td>0</td>\n",
              "      <td>0</td>\n",
              "      <td>0</td>\n",
              "      <td>0</td>\n",
              "      <td>0</td>\n",
              "      <td>0</td>\n",
              "      <td>1</td>\n",
              "      <td>0</td>\n",
              "      <td>0</td>\n",
              "    </tr>\n",
              "    <tr>\n",
              "      <th>4</th>\n",
              "      <td>12.695633</td>\n",
              "      <td>0.118599</td>\n",
              "      <td>234.2300</td>\n",
              "      <td>0</td>\n",
              "      <td>0</td>\n",
              "      <td>0</td>\n",
              "      <td>1</td>\n",
              "      <td>0</td>\n",
              "      <td>0</td>\n",
              "      <td>1</td>\n",
              "      <td>0</td>\n",
              "      <td>1</td>\n",
              "      <td>0</td>\n",
              "      <td>0</td>\n",
              "      <td>0</td>\n",
              "      <td>0</td>\n",
              "      <td>1</td>\n",
              "      <td>0</td>\n",
              "      <td>0</td>\n",
              "      <td>0</td>\n",
              "      <td>0</td>\n",
              "      <td>0</td>\n",
              "      <td>0</td>\n",
              "      <td>0</td>\n",
              "      <td>0</td>\n",
              "      <td>0</td>\n",
              "      <td>0</td>\n",
              "      <td>0</td>\n",
              "    </tr>\n",
              "  </tbody>\n",
              "</table>\n",
              "</div>"
            ],
            "text/plain": [
              "   Item_Weight  Item_Visibility  ...  Item_Type_Soft Drinks  Item_Type_Starchy Foods\n",
              "0    20.750000         0.007565  ...                      0                        0\n",
              "1     8.300000         0.038428  ...                      0                        0\n",
              "2    14.600000         0.099575  ...                      0                        0\n",
              "3     7.315000         0.015388  ...                      0                        0\n",
              "4    12.695633         0.118599  ...                      0                        0\n",
              "\n",
              "[5 rows x 28 columns]"
            ]
          },
          "metadata": {
            "tags": []
          },
          "execution_count": 33
        }
      ]
    },
    {
      "cell_type": "code",
      "metadata": {
        "colab": {
          "base_uri": "https://localhost:8080/"
        },
        "id": "SvJELSvtrmNN",
        "outputId": "929f32d6-b6d9-4b14-b5ee-d836e5f07923"
      },
      "source": [
        "X1 = train.drop(labels=[\"Item_Outlet_Sales\"],axis=1)\r\n",
        "Y1 = train[\"Item_Outlet_Sales\"]\r\n",
        "print(X1.shape)\r\n",
        "print(Y1.shape)"
      ],
      "execution_count": 34,
      "outputs": [
        {
          "output_type": "stream",
          "text": [
            "(8523, 28)\n",
            "(8523,)\n"
          ],
          "name": "stdout"
        }
      ]
    },
    {
      "cell_type": "markdown",
      "metadata": {
        "id": "Tj_IaiwrvtHW"
      },
      "source": [
        "## Data Preprocessing\r\n",
        "#### Feature scaling"
      ]
    },
    {
      "cell_type": "code",
      "metadata": {
        "id": "9k9zi-6etDwv"
      },
      "source": [
        "from sklearn.preprocessing import MinMaxScaler\r\n",
        "\r\n",
        "fs = MinMaxScaler()\r\n",
        "                    \r\n",
        "x = X1.values       #train dataset values needed to be scaled down\r\n",
        "y = test.values     #test dataset values needed to be scaled down\r\n",
        "\r\n",
        "x = fs.fit_transform(x)\r\n",
        "y = fs.fit_transform(y)\r\n"
      ],
      "execution_count": 35,
      "outputs": []
    },
    {
      "cell_type": "markdown",
      "metadata": {
        "id": "3jfdaQVqxLCM"
      },
      "source": [
        "## Splitting the dataset"
      ]
    },
    {
      "cell_type": "code",
      "metadata": {
        "id": "eKbeajTgv8gH"
      },
      "source": [
        "from sklearn.model_selection import train_test_split\r\n",
        "\r\n",
        "x_train,x_test,y_train,y_test = train_test_split(x, Y1, test_size = 0.25, random_state=0)"
      ],
      "execution_count": 36,
      "outputs": []
    },
    {
      "cell_type": "markdown",
      "metadata": {
        "id": "A4_NWgodyOkg"
      },
      "source": [
        "## Training our model"
      ]
    },
    {
      "cell_type": "code",
      "metadata": {
        "id": "Ecb1QHz6xE0n"
      },
      "source": [
        "# We will use four different algorithms for training our model:-\r\n",
        "# 1.Linear Regression\r\n",
        "# 2.Lasso Regression\r\n",
        "# 3. Decision Tress Regression\r\n",
        "# 4.XGBoost"
      ],
      "execution_count": 37,
      "outputs": []
    },
    {
      "cell_type": "code",
      "metadata": {
        "id": "xs2fzlPby9o5",
        "colab": {
          "base_uri": "https://localhost:8080/"
        },
        "outputId": "0ad4720c-9e2c-4aee-93a8-2db6a7f8f057"
      },
      "source": [
        "# 1. Linear Regression\r\n",
        "\r\n",
        "from sklearn.linear_model import LinearRegression\r\n",
        "lr = LinearRegression()\r\n",
        "lr.fit(x_train,y_train)"
      ],
      "execution_count": 38,
      "outputs": [
        {
          "output_type": "execute_result",
          "data": {
            "text/plain": [
              "LinearRegression(copy_X=True, fit_intercept=True, n_jobs=None, normalize=False)"
            ]
          },
          "metadata": {
            "tags": []
          },
          "execution_count": 38
        }
      ]
    },
    {
      "cell_type": "code",
      "metadata": {
        "id": "29MMXP2SuwHY"
      },
      "source": [
        "y_pred_1 = lr.predict(x_test)"
      ],
      "execution_count": 39,
      "outputs": []
    },
    {
      "cell_type": "code",
      "metadata": {
        "colab": {
          "base_uri": "https://localhost:8080/",
          "height": 281
        },
        "id": "9bzRrQaou3U3",
        "outputId": "5bfd2178-b7d9-48e9-f5ae-fae460877a34"
      },
      "source": [
        "plt.scatter(y_test,y_pred_1,alpha=0.5,marker=\"1\",c=\"r\")"
      ],
      "execution_count": 45,
      "outputs": [
        {
          "output_type": "execute_result",
          "data": {
            "text/plain": [
              "<matplotlib.collections.PathCollection at 0x7f4e06ea3940>"
            ]
          },
          "metadata": {
            "tags": []
          },
          "execution_count": 45
        },
        {
          "output_type": "display_data",
          "data": {
            "image/png": "[encoded data removed]",
            "text/plain": [
              "<Figure size 432x288 with 1 Axes>"
            ]
          },
          "metadata": {
            "tags": [],
            "needs_background": "light"
          }
        }
      ]
    },
    {
      "cell_type": "code",
      "metadata": {
        "colab": {
          "base_uri": "https://localhost:8080/"
        },
        "id": "I86evhw8vK3u",
        "outputId": "4047f9ce-d2d3-4caf-f563-c6e78b13bf20"
      },
      "source": [
        "#Let's evaluate model performance \r\n",
        "\r\n",
        "from sklearn.metrics import mean_squared_error,mean_absolute_error\r\n",
        "print(\"MSE:\",mean_squared_error(y_test,y_pred_1))\r\n",
        "print(\"MAE:\",mean_absolute_error(y_test,y_pred_1))\r\n",
        "print('RMSE:', np.sqrt(mean_squared_error(y_test, y_pred_1)))\r\n"
      ],
      "execution_count": 53,
      "outputs": [
        {
          "output_type": "stream",
          "text": [
            "MSE: 1319378.1819277012\n",
            "MAE: 860.6151734396996\n",
            "RMSE: 1148.6418858494153\n"
          ],
          "name": "stdout"
        }
      ]
    },
    {
      "cell_type": "markdown",
      "metadata": {
        "id": "uwPF5CHLzj2D"
      },
      "source": [
        "### <b>📌NOTE:- I have used Linear Regression Model only till this point.<b/>\r\n",
        "\r\n",
        "#### Now, It's your turn to train the same model with rest of the regression algorithms which are as follows:-\r\n",
        "#### 1. Lasso Regression\r\n",
        "#### 2. Decision Trees Regression\r\n",
        "#### 3. XGBoost (for regression)"
      ]
    },
    {
      "cell_type": "markdown",
      "metadata": {
        "id": "sb9loMZt0vIR"
      },
      "source": [
        "\r\n",
        "### 📉📊 <b>Twick around with EDA part</b> of this Notebook and try to use other seaborn and matplotlib plots to see great Visualization results."
      ]
    }
  ]
}